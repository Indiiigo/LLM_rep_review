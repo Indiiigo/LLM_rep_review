{
 "cells": [
  {
   "cell_type": "code",
   "execution_count": 1,
   "id": "ffb053aa",
   "metadata": {},
   "outputs": [],
   "source": [
    "import warnings\n",
    "warnings.filterwarnings('ignore')"
   ]
  },
  {
   "cell_type": "code",
   "execution_count": 2,
   "id": "1735ffe3-d8c8-4491-adee-31a8ee3fc2aa",
   "metadata": {},
   "outputs": [],
   "source": [
    "import pandas as pd\n",
    "import seaborn as sns\n",
    "import string\n",
    "import matplotlib.pyplot as plt\n",
    "\n",
    "sns.set_context(\"talk\")\n",
    "sns.set_palette(\"colorblind\") "
   ]
  },
  {
   "cell_type": "code",
   "execution_count": 3,
   "id": "3532ae9b",
   "metadata": {},
   "outputs": [
    {
     "name": "stdout",
     "output_type": "stream",
     "text": [
      "(0.00392156862745098, 0.45098039215686275, 0.6980392156862745)\n",
      "(0.8705882352941177, 0.5607843137254902, 0.0196078431372549)\n",
      "(0.00784313725490196, 0.6196078431372549, 0.45098039215686275)\n",
      "(0.8352941176470589, 0.3686274509803922, 0.0)\n",
      "(0.8, 0.47058823529411764, 0.7372549019607844)\n",
      "(0.792156862745098, 0.5686274509803921, 0.3803921568627451)\n",
      "(0.984313725490196, 0.6862745098039216, 0.8941176470588236)\n",
      "(0.5803921568627451, 0.5803921568627451, 0.5803921568627451)\n",
      "(0.9254901960784314, 0.8823529411764706, 0.2)\n",
      "(0.33725490196078434, 0.7058823529411765, 0.9137254901960784)\n"
     ]
    }
   ],
   "source": [
    "palette = sns.color_palette(\"colorblind\")\n",
    "for color in palette:\n",
    "    print(color)\n",
    "\n",
    "my_colors = {\"b\": (0.00392156862745098, 0.45098039215686275, 0.6980392156862745),\n",
    "             \"y\": (0.8705882352941177, 0.5607843137254902, 0.0196078431372549),\n",
    "             \"g\": (0.00784313725490196, 0.6196078431372549, 0.45098039215686275),\n",
    "             \"r\": (0.8352941176470589, 0.3686274509803922, 0.0)}"
   ]
  },
  {
   "cell_type": "code",
   "execution_count": 4,
   "id": "a0e4cd9e-8c43-4d0f-bb64-c0e91768a6a9",
   "metadata": {},
   "outputs": [
    {
     "data": {
      "text/plain": [
       "211"
      ]
     },
     "execution_count": 4,
     "metadata": {},
     "output_type": "execute_result"
    }
   ],
   "source": [
    "# load data\n",
    "\n",
    "all_annotations = pd.read_csv(\"../data/all_annotations.csv\").set_index('paper')\n",
    "len(all_annotations)"
   ]
  },
  {
   "cell_type": "code",
   "execution_count": 5,
   "id": "e1ad801d",
   "metadata": {},
   "outputs": [],
   "source": [
    "contexts = all_annotations[['contexts:with_interactions', 'contexts:without_interactions',\n",
    "       'contexts:content_analysis', 'contexts:writing',\n",
    "       'contexts:training_data', 'contexts:advice', 'LLMs studied', 'link'\n",
    "       ]]\n",
    "measures = all_annotations[['eval_open', 'eval_closed', 'eval_other',\n",
    "       'demo_across', 'demo_within', 'prompting', 'RAG', 'Fine-tuning',\n",
    "       'Pretraining', 'RLHF', 'Other']]\n",
    "people = all_annotations[['target_pop', 'input', 'object', 'default', 'gender', 'race',\n",
    "       'nationality', 'location', 'immigration', 'age', 'education',\n",
    "       'political', 'disability', 'religion', 'class', 'sexuality', 'other',\n",
    "       'Conclusion on Representativeness?']]"
   ]
  },
  {
   "cell_type": "code",
   "execution_count": 6,
   "id": "b03b79ba-61a1-4f9b-ae34-70f917101883",
   "metadata": {
    "tags": []
   },
   "outputs": [
    {
     "data": {
      "text/plain": [
       "#_context\n",
       "0     30\n",
       "1    167\n",
       "2     13\n",
       "3      1\n",
       "dtype: int64"
      ]
     },
     "execution_count": 6,
     "metadata": {},
     "output_type": "execute_result"
    }
   ],
   "source": [
    "import numpy as np\n",
    "\n",
    "# how many papers have multiple ones?\n",
    "contexts_ = contexts[['contexts:with_interactions', 'contexts:without_interactions',\n",
    "       'contexts:content_analysis', 'contexts:writing',\n",
    "       'contexts:training_data', 'contexts:advice']]\n",
    "\n",
    "# first combine social simulation into one\n",
    "simulation = []\n",
    "for _, row in contexts_.iterrows():\n",
    "    if type(row['contexts:with_interactions']) != float or type(row['contexts:without_interactions']) != float:\n",
    "        simulation.append(1)\n",
    "    else:\n",
    "        simulation.append(np.nan)\n",
    "contexts_['contexts:simulation'] = simulation\n",
    "contexts_ = contexts_[['contexts:simulation', 'contexts:content_analysis', 'contexts:writing',\n",
    "       'contexts:training_data', 'contexts:advice']]\n",
    "\n",
    "# check instances which have several contexts\n",
    "contexts_[\"#_context\"] = 5 - contexts_.isna().sum(axis = 1)\n",
    "contexts_.groupby(\"#_context\").size()"
   ]
  },
  {
   "cell_type": "code",
   "execution_count": 7,
   "id": "185ae399-8293-45ae-8eb2-d3730d8849c9",
   "metadata": {
    "tags": []
   },
   "outputs": [
    {
     "data": {
      "text/html": [
       "<div>\n",
       "<style scoped>\n",
       "    .dataframe tbody tr th:only-of-type {\n",
       "        vertical-align: middle;\n",
       "    }\n",
       "\n",
       "    .dataframe tbody tr th {\n",
       "        vertical-align: top;\n",
       "    }\n",
       "\n",
       "    .dataframe thead th {\n",
       "        text-align: right;\n",
       "    }\n",
       "</style>\n",
       "<table border=\"1\" class=\"dataframe\">\n",
       "  <thead>\n",
       "    <tr style=\"text-align: right;\">\n",
       "      <th></th>\n",
       "      <th>contexts:simulation</th>\n",
       "      <th>contexts:content_analysis</th>\n",
       "      <th>contexts:writing</th>\n",
       "      <th>contexts:training_data</th>\n",
       "      <th>contexts:advice</th>\n",
       "      <th>#_context</th>\n",
       "    </tr>\n",
       "    <tr>\n",
       "      <th>paper</th>\n",
       "      <th></th>\n",
       "      <th></th>\n",
       "      <th></th>\n",
       "      <th></th>\n",
       "      <th></th>\n",
       "      <th></th>\n",
       "    </tr>\n",
       "  </thead>\n",
       "  <tbody>\n",
       "    <tr>\n",
       "      <th>IndiBias: A Benchmark Dataset to Measure Social Biases in Language Models for Indian Context</th>\n",
       "      <td>NaN</td>\n",
       "      <td>NaN</td>\n",
       "      <td>1 (inspecting biases)</td>\n",
       "      <td>1 (to generate dataset with stereotypes; label...</td>\n",
       "      <td>NaN</td>\n",
       "      <td>2</td>\n",
       "    </tr>\n",
       "    <tr>\n",
       "      <th>Towards Algorithmic Fidelity: Mental Health Representation across Demographics in Synthetic vs. Human-generated Data</th>\n",
       "      <td>NaN</td>\n",
       "      <td>NaN</td>\n",
       "      <td>NaN</td>\n",
       "      <td>1</td>\n",
       "      <td>NaN</td>\n",
       "      <td>1</td>\n",
       "    </tr>\n",
       "    <tr>\n",
       "      <th>LLM-GEm: Large Language Model-Guided Prediction of People’s Empathy Levels towards Newspaper Article</th>\n",
       "      <td>NaN</td>\n",
       "      <td>1</td>\n",
       "      <td>NaN</td>\n",
       "      <td>1</td>\n",
       "      <td>NaN</td>\n",
       "      <td>2</td>\n",
       "    </tr>\n",
       "  </tbody>\n",
       "</table>\n",
       "</div>"
      ],
      "text/plain": [
       "                                                    contexts:simulation  \\\n",
       "paper                                                                     \n",
       "IndiBias: A Benchmark Dataset to Measure Social...                  NaN   \n",
       "Towards Algorithmic Fidelity: Mental Health Rep...                  NaN   \n",
       "LLM-GEm: Large Language Model-Guided Prediction...                  NaN   \n",
       "\n",
       "                                                   contexts:content_analysis  \\\n",
       "paper                                                                          \n",
       "IndiBias: A Benchmark Dataset to Measure Social...                       NaN   \n",
       "Towards Algorithmic Fidelity: Mental Health Rep...                       NaN   \n",
       "LLM-GEm: Large Language Model-Guided Prediction...                         1   \n",
       "\n",
       "                                                         contexts:writing  \\\n",
       "paper                                                                       \n",
       "IndiBias: A Benchmark Dataset to Measure Social...  1 (inspecting biases)   \n",
       "Towards Algorithmic Fidelity: Mental Health Rep...                    NaN   \n",
       "LLM-GEm: Large Language Model-Guided Prediction...                    NaN   \n",
       "\n",
       "                                                                               contexts:training_data  \\\n",
       "paper                                                                                                   \n",
       "IndiBias: A Benchmark Dataset to Measure Social...  1 (to generate dataset with stereotypes; label...   \n",
       "Towards Algorithmic Fidelity: Mental Health Rep...                                                  1   \n",
       "LLM-GEm: Large Language Model-Guided Prediction...                                                  1   \n",
       "\n",
       "                                                   contexts:advice  #_context  \n",
       "paper                                                                          \n",
       "IndiBias: A Benchmark Dataset to Measure Social...             NaN          2  \n",
       "Towards Algorithmic Fidelity: Mental Health Rep...             NaN          1  \n",
       "LLM-GEm: Large Language Model-Guided Prediction...             NaN          2  "
      ]
     },
     "execution_count": 7,
     "metadata": {},
     "output_type": "execute_result"
    }
   ],
   "source": [
    "contexts_[~contexts_[\"contexts:training_data\"].isna()]"
   ]
  },
  {
   "cell_type": "code",
   "execution_count": 8,
   "id": "7a63f32c-2946-4f5e-bf1b-222bac6ddca1",
   "metadata": {
    "tags": []
   },
   "outputs": [
    {
     "data": {
      "text/plain": [
       "'simulation'"
      ]
     },
     "execution_count": 8,
     "metadata": {},
     "output_type": "execute_result"
    }
   ],
   "source": [
    "df = pd.DataFrame(contexts_.iloc[2].isna()).reset_index()\n",
    "df[~df[df.columns[1]]]['index'].values[0].split(':')[1]"
   ]
  },
  {
   "cell_type": "code",
   "execution_count": 9,
   "id": "0bbaea8f-8e9b-41c5-a7d0-a9040253380b",
   "metadata": {
    "tags": []
   },
   "outputs": [],
   "source": [
    "exact_contexts = []\n",
    "for _, row in contexts_.iterrows():\n",
    "    if row['#_context'] == 0:\n",
    "        exact_contexts.append(\"generic\")\n",
    "    elif row['#_context'] == 1:\n",
    "        df = pd.DataFrame(row.isna()).reset_index()\n",
    "        context = df[~df[df.columns[1]]]['index'].values[0].split(':')[1]\n",
    "        exact_contexts.append(context)\n",
    "    else:\n",
    "        exact_contexts.append(\"multi-context\")\n",
    "        \n",
    "contexts_[\"exact_context\"] = exact_contexts"
   ]
  },
  {
   "cell_type": "code",
   "execution_count": 10,
   "id": "343eb0ed-faa5-4a97-9cb3-9d9a2f94eb43",
   "metadata": {
    "tags": []
   },
   "outputs": [
    {
     "data": {
      "text/plain": [
       "#_context  exact_context   \n",
       "0          generic             30\n",
       "1          advice              90\n",
       "           content_analysis    17\n",
       "           simulation          45\n",
       "           training_data        1\n",
       "           writing             14\n",
       "2          multi-context       13\n",
       "3          multi-context        1\n",
       "dtype: int64"
      ]
     },
     "execution_count": 10,
     "metadata": {},
     "output_type": "execute_result"
    }
   ],
   "source": [
    "contexts_.groupby([\"#_context\", \"exact_context\"]).size()"
   ]
  },
  {
   "cell_type": "code",
   "execution_count": 11,
   "id": "cd704120-b4e2-4a15-b34f-e9a049a2fbb4",
   "metadata": {
    "tags": []
   },
   "outputs": [
    {
     "data": {
      "text/plain": [
       "Text(0.5, 0, 'Contexts')"
      ]
     },
     "execution_count": 11,
     "metadata": {},
     "output_type": "execute_result"
    },
    {
     "data": {
      "image/png": "[encoded data removed]",
      "text/plain": [
       "<Figure size 640x480 with 1 Axes>"
      ]
     },
     "metadata": {},
     "output_type": "display_data"
    }
   ],
   "source": [
    "ax = contexts_.groupby(\"exact_context\").size().sort_values(ascending = False).plot(kind = 'bar')\n",
    "ax.set_ylabel(\"# Papers\")\n",
    "ax.set_xlabel(\"Contexts\")"
   ]
  },
  {
   "cell_type": "code",
   "execution_count": 12,
   "id": "91cd9127-45e7-4da7-91cc-66c323e3810b",
   "metadata": {
    "tags": []
   },
   "outputs": [
    {
     "data": {
      "text/html": [
       "<div>\n",
       "<style scoped>\n",
       "    .dataframe tbody tr th:only-of-type {\n",
       "        vertical-align: middle;\n",
       "    }\n",
       "\n",
       "    .dataframe tbody tr th {\n",
       "        vertical-align: top;\n",
       "    }\n",
       "\n",
       "    .dataframe thead th {\n",
       "        text-align: right;\n",
       "    }\n",
       "</style>\n",
       "<table border=\"1\" class=\"dataframe\">\n",
       "  <thead>\n",
       "    <tr style=\"text-align: right;\">\n",
       "      <th></th>\n",
       "      <th>contexts:simulation</th>\n",
       "      <th>contexts:content_analysis</th>\n",
       "      <th>contexts:writing</th>\n",
       "      <th>contexts:training_data</th>\n",
       "      <th>contexts:advice</th>\n",
       "      <th>#_context</th>\n",
       "      <th>exact_context</th>\n",
       "      <th>context</th>\n",
       "    </tr>\n",
       "    <tr>\n",
       "      <th>paper</th>\n",
       "      <th></th>\n",
       "      <th></th>\n",
       "      <th></th>\n",
       "      <th></th>\n",
       "      <th></th>\n",
       "      <th></th>\n",
       "      <th></th>\n",
       "      <th></th>\n",
       "    </tr>\n",
       "  </thead>\n",
       "  <tbody>\n",
       "    <tr>\n",
       "      <th>Argyle et al.</th>\n",
       "      <td>1.0</td>\n",
       "      <td>NaN</td>\n",
       "      <td>NaN</td>\n",
       "      <td>NaN</td>\n",
       "      <td>NaN</td>\n",
       "      <td>1</td>\n",
       "      <td>simulation</td>\n",
       "      <td>simulation</td>\n",
       "    </tr>\n",
       "    <tr>\n",
       "      <th>Aher et al.</th>\n",
       "      <td>1.0</td>\n",
       "      <td>1 (Garden-path)</td>\n",
       "      <td>NaN</td>\n",
       "      <td>NaN</td>\n",
       "      <td>1 (Wisdom of crowds)</td>\n",
       "      <td>3</td>\n",
       "      <td>multi-context</td>\n",
       "      <td>simulation</td>\n",
       "    </tr>\n",
       "    <tr>\n",
       "      <th>Aher et al.</th>\n",
       "      <td>1.0</td>\n",
       "      <td>1 (Garden-path)</td>\n",
       "      <td>NaN</td>\n",
       "      <td>NaN</td>\n",
       "      <td>1 (Wisdom of crowds)</td>\n",
       "      <td>3</td>\n",
       "      <td>multi-context</td>\n",
       "      <td>content_analysis</td>\n",
       "    </tr>\n",
       "    <tr>\n",
       "      <th>Aher et al.</th>\n",
       "      <td>1.0</td>\n",
       "      <td>1 (Garden-path)</td>\n",
       "      <td>NaN</td>\n",
       "      <td>NaN</td>\n",
       "      <td>1 (Wisdom of crowds)</td>\n",
       "      <td>3</td>\n",
       "      <td>multi-context</td>\n",
       "      <td>advice</td>\n",
       "    </tr>\n",
       "    <tr>\n",
       "      <th>Gerosa et al.</th>\n",
       "      <td>1.0</td>\n",
       "      <td>NaN</td>\n",
       "      <td>NaN</td>\n",
       "      <td>NaN</td>\n",
       "      <td>NaN</td>\n",
       "      <td>1</td>\n",
       "      <td>simulation</td>\n",
       "      <td>simulation</td>\n",
       "    </tr>\n",
       "    <tr>\n",
       "      <th>...</th>\n",
       "      <td>...</td>\n",
       "      <td>...</td>\n",
       "      <td>...</td>\n",
       "      <td>...</td>\n",
       "      <td>...</td>\n",
       "      <td>...</td>\n",
       "      <td>...</td>\n",
       "      <td>...</td>\n",
       "    </tr>\n",
       "    <tr>\n",
       "      <th>Large Language Models Improve the Identification of Emergency Department Visits for Symptomatic Kidney Stones</th>\n",
       "      <td>NaN</td>\n",
       "      <td>NaN</td>\n",
       "      <td>NaN</td>\n",
       "      <td>NaN</td>\n",
       "      <td>1</td>\n",
       "      <td>1</td>\n",
       "      <td>advice</td>\n",
       "      <td>advice</td>\n",
       "    </tr>\n",
       "    <tr>\n",
       "      <th>A preliminary, large-scale evaluation of the collaborative potential of human and machine creativity</th>\n",
       "      <td>NaN</td>\n",
       "      <td>NaN</td>\n",
       "      <td>NaN</td>\n",
       "      <td>NaN</td>\n",
       "      <td>NaN</td>\n",
       "      <td>0</td>\n",
       "      <td>generic</td>\n",
       "      <td>generic</td>\n",
       "    </tr>\n",
       "    <tr>\n",
       "      <th>GPT-3.5 altruistic advice is sensitive to reciprocal concerns but not to strategic risk</th>\n",
       "      <td>NaN</td>\n",
       "      <td>NaN</td>\n",
       "      <td>NaN</td>\n",
       "      <td>NaN</td>\n",
       "      <td>NaN</td>\n",
       "      <td>0</td>\n",
       "      <td>generic</td>\n",
       "      <td>generic</td>\n",
       "    </tr>\n",
       "    <tr>\n",
       "      <th>Evaluating the persuasive influence of political microtargeting with large language models</th>\n",
       "      <td>NaN</td>\n",
       "      <td>NaN</td>\n",
       "      <td>NaN</td>\n",
       "      <td>NaN</td>\n",
       "      <td>1</td>\n",
       "      <td>1</td>\n",
       "      <td>advice</td>\n",
       "      <td>advice</td>\n",
       "    </tr>\n",
       "    <tr>\n",
       "      <th>Socio-Demographic Biases in Medical Decision-Making by Large Language Models: A Large-Scale Multi-Model Analysis</th>\n",
       "      <td>NaN</td>\n",
       "      <td>NaN</td>\n",
       "      <td>NaN</td>\n",
       "      <td>NaN</td>\n",
       "      <td>1</td>\n",
       "      <td>1</td>\n",
       "      <td>advice</td>\n",
       "      <td>advice</td>\n",
       "    </tr>\n",
       "  </tbody>\n",
       "</table>\n",
       "<p>226 rows × 8 columns</p>\n",
       "</div>"
      ],
      "text/plain": [
       "                                                    contexts:simulation  \\\n",
       "paper                                                                     \n",
       "Argyle et al.                                                       1.0   \n",
       "Aher et al.                                                         1.0   \n",
       "Aher et al.                                                         1.0   \n",
       "Aher et al.                                                         1.0   \n",
       "Gerosa et al.                                                       1.0   \n",
       "...                                                                 ...   \n",
       "Large Language Models Improve the Identificatio...                  NaN   \n",
       "A preliminary, large-scale evaluation of the co...                  NaN   \n",
       "GPT-3.5 altruistic advice is sensitive to recip...                  NaN   \n",
       "Evaluating the persuasive influence of politica...                  NaN   \n",
       "Socio-Demographic Biases in Medical Decision-Ma...                  NaN   \n",
       "\n",
       "                                                   contexts:content_analysis  \\\n",
       "paper                                                                          \n",
       "Argyle et al.                                                            NaN   \n",
       "Aher et al.                                                  1 (Garden-path)   \n",
       "Aher et al.                                                  1 (Garden-path)   \n",
       "Aher et al.                                                  1 (Garden-path)   \n",
       "Gerosa et al.                                                            NaN   \n",
       "...                                                                      ...   \n",
       "Large Language Models Improve the Identificatio...                       NaN   \n",
       "A preliminary, large-scale evaluation of the co...                       NaN   \n",
       "GPT-3.5 altruistic advice is sensitive to recip...                       NaN   \n",
       "Evaluating the persuasive influence of politica...                       NaN   \n",
       "Socio-Demographic Biases in Medical Decision-Ma...                       NaN   \n",
       "\n",
       "                                                   contexts:writing  \\\n",
       "paper                                                                 \n",
       "Argyle et al.                                                   NaN   \n",
       "Aher et al.                                                     NaN   \n",
       "Aher et al.                                                     NaN   \n",
       "Aher et al.                                                     NaN   \n",
       "Gerosa et al.                                                   NaN   \n",
       "...                                                             ...   \n",
       "Large Language Models Improve the Identificatio...              NaN   \n",
       "A preliminary, large-scale evaluation of the co...              NaN   \n",
       "GPT-3.5 altruistic advice is sensitive to recip...              NaN   \n",
       "Evaluating the persuasive influence of politica...              NaN   \n",
       "Socio-Demographic Biases in Medical Decision-Ma...              NaN   \n",
       "\n",
       "                                                   contexts:training_data  \\\n",
       "paper                                                                       \n",
       "Argyle et al.                                                         NaN   \n",
       "Aher et al.                                                           NaN   \n",
       "Aher et al.                                                           NaN   \n",
       "Aher et al.                                                           NaN   \n",
       "Gerosa et al.                                                         NaN   \n",
       "...                                                                   ...   \n",
       "Large Language Models Improve the Identificatio...                    NaN   \n",
       "A preliminary, large-scale evaluation of the co...                    NaN   \n",
       "GPT-3.5 altruistic advice is sensitive to recip...                    NaN   \n",
       "Evaluating the persuasive influence of politica...                    NaN   \n",
       "Socio-Demographic Biases in Medical Decision-Ma...                    NaN   \n",
       "\n",
       "                                                         contexts:advice  \\\n",
       "paper                                                                      \n",
       "Argyle et al.                                                        NaN   \n",
       "Aher et al.                                         1 (Wisdom of crowds)   \n",
       "Aher et al.                                         1 (Wisdom of crowds)   \n",
       "Aher et al.                                         1 (Wisdom of crowds)   \n",
       "Gerosa et al.                                                        NaN   \n",
       "...                                                                  ...   \n",
       "Large Language Models Improve the Identificatio...                     1   \n",
       "A preliminary, large-scale evaluation of the co...                   NaN   \n",
       "GPT-3.5 altruistic advice is sensitive to recip...                   NaN   \n",
       "Evaluating the persuasive influence of politica...                     1   \n",
       "Socio-Demographic Biases in Medical Decision-Ma...                     1   \n",
       "\n",
       "                                                    #_context  exact_context  \\\n",
       "paper                                                                          \n",
       "Argyle et al.                                               1     simulation   \n",
       "Aher et al.                                                 3  multi-context   \n",
       "Aher et al.                                                 3  multi-context   \n",
       "Aher et al.                                                 3  multi-context   \n",
       "Gerosa et al.                                               1     simulation   \n",
       "...                                                       ...            ...   \n",
       "Large Language Models Improve the Identificatio...          1         advice   \n",
       "A preliminary, large-scale evaluation of the co...          0        generic   \n",
       "GPT-3.5 altruistic advice is sensitive to recip...          0        generic   \n",
       "Evaluating the persuasive influence of politica...          1         advice   \n",
       "Socio-Demographic Biases in Medical Decision-Ma...          1         advice   \n",
       "\n",
       "                                                             context  \n",
       "paper                                                                 \n",
       "Argyle et al.                                             simulation  \n",
       "Aher et al.                                               simulation  \n",
       "Aher et al.                                         content_analysis  \n",
       "Aher et al.                                                   advice  \n",
       "Gerosa et al.                                             simulation  \n",
       "...                                                              ...  \n",
       "Large Language Models Improve the Identificatio...            advice  \n",
       "A preliminary, large-scale evaluation of the co...           generic  \n",
       "GPT-3.5 altruistic advice is sensitive to recip...           generic  \n",
       "Evaluating the persuasive influence of politica...            advice  \n",
       "Socio-Demographic Biases in Medical Decision-Ma...            advice  \n",
       "\n",
       "[226 rows x 8 columns]"
      ]
     },
     "execution_count": 12,
     "metadata": {},
     "output_type": "execute_result"
    }
   ],
   "source": [
    "exact_contexts = []\n",
    "new_contexts_df = pd.DataFrame()\n",
    "new_rows = []\n",
    "for _, row in contexts_.iterrows():\n",
    "    if row['#_context'] == 0:\n",
    "        exact_contexts.append(\"generic\")\n",
    "        new_rows.append(row)\n",
    "    elif row['#_context'] == 1:\n",
    "        df = pd.DataFrame(row.isna()).reset_index()\n",
    "        context = df[~df[df.columns[1]]]['index'].values[0].split(':')[1]\n",
    "        exact_contexts.append(context)\n",
    "        new_rows.append(row)\n",
    "    else:\n",
    "        df = pd.DataFrame(row.isna()).reset_index()\n",
    "        multiple_contexts = df[~df[df.columns[1]]]['index'].values\n",
    "        for i in range(row['#_context']):\n",
    "            new_rows.append(row)\n",
    "            exact_contexts.append(multiple_contexts[i].split(':')[1])\n",
    "        \n",
    "new_contexts_df = pd.DataFrame(new_rows)\n",
    "new_contexts_df['context'] = exact_contexts\n",
    "# new_contexts_df = new_contexts_df.reset_index()\n",
    "new_contexts_df.index.name = 'paper'\n",
    "new_contexts_df"
   ]
  },
  {
   "cell_type": "code",
   "execution_count": 13,
   "id": "438aba7b-26ff-443b-893e-4610a719adae",
   "metadata": {
    "tags": []
   },
   "outputs": [],
   "source": [
    "contexts_with_link = contexts.copy()\n",
    "contexts = new_contexts_df.copy()"
   ]
  },
  {
   "cell_type": "markdown",
   "id": "a3f81e3c-0a3b-4688-9dea-243311957a8a",
   "metadata": {},
   "source": [
    "### evaluation"
   ]
  },
  {
   "cell_type": "code",
   "execution_count": 14,
   "id": "0012b152-806f-4063-9368-b7c53b24c3f2",
   "metadata": {
    "tags": []
   },
   "outputs": [
    {
     "data": {
      "text/html": [
       "<div>\n",
       "<style scoped>\n",
       "    .dataframe tbody tr th:only-of-type {\n",
       "        vertical-align: middle;\n",
       "    }\n",
       "\n",
       "    .dataframe tbody tr th {\n",
       "        vertical-align: top;\n",
       "    }\n",
       "\n",
       "    .dataframe thead th {\n",
       "        text-align: right;\n",
       "    }\n",
       "</style>\n",
       "<table border=\"1\" class=\"dataframe\">\n",
       "  <thead>\n",
       "    <tr style=\"text-align: right;\">\n",
       "      <th></th>\n",
       "      <th>eval_open</th>\n",
       "      <th>eval_closed</th>\n",
       "      <th>eval_other</th>\n",
       "      <th>demo_across</th>\n",
       "      <th>demo_within</th>\n",
       "      <th>prompting</th>\n",
       "      <th>RAG</th>\n",
       "      <th>Fine-tuning</th>\n",
       "      <th>Pretraining</th>\n",
       "      <th>RLHF</th>\n",
       "      <th>Other</th>\n",
       "    </tr>\n",
       "    <tr>\n",
       "      <th>paper</th>\n",
       "      <th></th>\n",
       "      <th></th>\n",
       "      <th></th>\n",
       "      <th></th>\n",
       "      <th></th>\n",
       "      <th></th>\n",
       "      <th></th>\n",
       "      <th></th>\n",
       "      <th></th>\n",
       "      <th></th>\n",
       "      <th></th>\n",
       "    </tr>\n",
       "  </thead>\n",
       "  <tbody>\n",
       "    <tr>\n",
       "      <th>Argyle et al.</th>\n",
       "      <td>1.0</td>\n",
       "      <td>1.0</td>\n",
       "      <td>NaN</td>\n",
       "      <td>1.0</td>\n",
       "      <td>NaN</td>\n",
       "      <td>1</td>\n",
       "      <td>NaN</td>\n",
       "      <td>NaN</td>\n",
       "      <td>NaN</td>\n",
       "      <td>NaN</td>\n",
       "      <td>NaN</td>\n",
       "    </tr>\n",
       "    <tr>\n",
       "      <th>Aher et al.</th>\n",
       "      <td>1.0</td>\n",
       "      <td>1.0</td>\n",
       "      <td>NaN</td>\n",
       "      <td>1.0</td>\n",
       "      <td>NaN</td>\n",
       "      <td>1 (k-choice prompts, improving prompts based o...</td>\n",
       "      <td>NaN</td>\n",
       "      <td>NaN</td>\n",
       "      <td>NaN</td>\n",
       "      <td>NaN</td>\n",
       "      <td>NaN</td>\n",
       "    </tr>\n",
       "    <tr>\n",
       "      <th>Gerosa et al.</th>\n",
       "      <td>1.0</td>\n",
       "      <td>NaN</td>\n",
       "      <td>NaN</td>\n",
       "      <td>1.0</td>\n",
       "      <td>NaN</td>\n",
       "      <td>1 (prompting and prompt engineering)</td>\n",
       "      <td>NaN</td>\n",
       "      <td>NaN</td>\n",
       "      <td>NaN</td>\n",
       "      <td>NaN</td>\n",
       "      <td>NaN</td>\n",
       "    </tr>\n",
       "    <tr>\n",
       "      <th>Park et al.</th>\n",
       "      <td>1.0</td>\n",
       "      <td>NaN</td>\n",
       "      <td>NaN</td>\n",
       "      <td>NaN</td>\n",
       "      <td>NaN</td>\n",
       "      <td>1</td>\n",
       "      <td>NaN</td>\n",
       "      <td>NaN</td>\n",
       "      <td>NaN</td>\n",
       "      <td>NaN</td>\n",
       "      <td>NaN</td>\n",
       "    </tr>\n",
       "    <tr>\n",
       "      <th>FairPair: A Robust Evaluation of Biases in Language Models through Paired Perturbations</th>\n",
       "      <td>1.0</td>\n",
       "      <td>NaN</td>\n",
       "      <td>NaN</td>\n",
       "      <td>NaN</td>\n",
       "      <td>1.0</td>\n",
       "      <td>1</td>\n",
       "      <td>NaN</td>\n",
       "      <td>NaN</td>\n",
       "      <td>NaN</td>\n",
       "      <td>NaN</td>\n",
       "      <td>pertubation method --&gt; own FairPair framework:...</td>\n",
       "    </tr>\n",
       "  </tbody>\n",
       "</table>\n",
       "</div>"
      ],
      "text/plain": [
       "                                                    eval_open  eval_closed  \\\n",
       "paper                                                                        \n",
       "Argyle et al.                                             1.0          1.0   \n",
       "Aher et al.                                               1.0          1.0   \n",
       "Gerosa et al.                                             1.0          NaN   \n",
       "Park et al.                                               1.0          NaN   \n",
       "FairPair: A Robust Evaluation of Biases in Lang...        1.0          NaN   \n",
       "\n",
       "                                                   eval_other  demo_across  \\\n",
       "paper                                                                        \n",
       "Argyle et al.                                             NaN          1.0   \n",
       "Aher et al.                                               NaN          1.0   \n",
       "Gerosa et al.                                             NaN          1.0   \n",
       "Park et al.                                               NaN          NaN   \n",
       "FairPair: A Robust Evaluation of Biases in Lang...        NaN          NaN   \n",
       "\n",
       "                                                    demo_within  \\\n",
       "paper                                                             \n",
       "Argyle et al.                                               NaN   \n",
       "Aher et al.                                                 NaN   \n",
       "Gerosa et al.                                               NaN   \n",
       "Park et al.                                                 NaN   \n",
       "FairPair: A Robust Evaluation of Biases in Lang...          1.0   \n",
       "\n",
       "                                                                                            prompting  \\\n",
       "paper                                                                                                   \n",
       "Argyle et al.                                                                                       1   \n",
       "Aher et al.                                         1 (k-choice prompts, improving prompts based o...   \n",
       "Gerosa et al.                                                    1 (prompting and prompt engineering)   \n",
       "Park et al.                                                                                         1   \n",
       "FairPair: A Robust Evaluation of Biases in Lang...                                                  1   \n",
       "\n",
       "                                                    RAG  Fine-tuning  \\\n",
       "paper                                                                  \n",
       "Argyle et al.                                       NaN          NaN   \n",
       "Aher et al.                                         NaN          NaN   \n",
       "Gerosa et al.                                       NaN          NaN   \n",
       "Park et al.                                         NaN          NaN   \n",
       "FairPair: A Robust Evaluation of Biases in Lang...  NaN          NaN   \n",
       "\n",
       "                                                    Pretraining  RLHF  \\\n",
       "paper                                                                   \n",
       "Argyle et al.                                               NaN   NaN   \n",
       "Aher et al.                                                 NaN   NaN   \n",
       "Gerosa et al.                                               NaN   NaN   \n",
       "Park et al.                                                 NaN   NaN   \n",
       "FairPair: A Robust Evaluation of Biases in Lang...          NaN   NaN   \n",
       "\n",
       "                                                                                                Other  \n",
       "paper                                                                                                  \n",
       "Argyle et al.                                                                                     NaN  \n",
       "Aher et al.                                                                                       NaN  \n",
       "Gerosa et al.                                                                                     NaN  \n",
       "Park et al.                                                                                       NaN  \n",
       "FairPair: A Robust Evaluation of Biases in Lang...  pertubation method --> own FairPair framework:...  "
      ]
     },
     "execution_count": 14,
     "metadata": {},
     "output_type": "execute_result"
    }
   ],
   "source": [
    "measures.head()"
   ]
  },
  {
   "cell_type": "code",
   "execution_count": 15,
   "id": "db7f3afb-79e6-40ab-8459-54f59e6b0af3",
   "metadata": {
    "tags": []
   },
   "outputs": [],
   "source": [
    "measures\n",
    "evaluation = measures[['eval_open', 'eval_closed',\n",
    "       'eval_other', 'demo_across', 'demo_within']]"
   ]
  },
  {
   "cell_type": "code",
   "execution_count": 16,
   "id": "16e00e5c-8de8-424b-a95b-22c1c94e7b38",
   "metadata": {
    "tags": []
   },
   "outputs": [
    {
     "data": {
      "text/plain": [
       "211"
      ]
     },
     "execution_count": 16,
     "metadata": {},
     "output_type": "execute_result"
    }
   ],
   "source": [
    "len(evaluation)"
   ]
  },
  {
   "cell_type": "code",
   "execution_count": 17,
   "id": "10844600-8fbe-403c-8e1e-53bcdbd6b3da",
   "metadata": {
    "tags": []
   },
   "outputs": [
    {
     "data": {
      "text/plain": [
       "eval_type\n",
       "across     25\n",
       "both      123\n",
       "none       43\n",
       "within     20\n",
       "dtype: int64"
      ]
     },
     "execution_count": 17,
     "metadata": {},
     "output_type": "execute_result"
    }
   ],
   "source": [
    "demo_eval = evaluation[['demo_across', 'demo_within']]\n",
    "demo_eval = demo_eval.fillna('N/a')\n",
    "eval_types = []\n",
    "for _, row in demo_eval.iterrows():\n",
    "    if row['demo_across'] == 'N/a' and row['demo_within'] == 'N/a':\n",
    "        eval_types.append(\"none\")\n",
    "    elif row['demo_across'] != 'N/a' and row['demo_within'] != 'N/a':\n",
    "        eval_types.append(\"both\")\n",
    "    elif row['demo_across'] != 'N/a':\n",
    "        eval_types.append(\"across\")\n",
    "    elif row['demo_within'] != 'N/a':\n",
    "        eval_types.append(\"within\")\n",
    "        \n",
    "demo_eval[\"eval_type\"] = eval_types\n",
    "demo_eval.groupby(\"eval_type\").size()"
   ]
  },
  {
   "cell_type": "code",
   "execution_count": 18,
   "id": "a0bfbf47-37c8-4dd1-84a5-b1d8c8a7bfdc",
   "metadata": {
    "tags": []
   },
   "outputs": [
    {
     "data": {
      "text/html": [
       "<div>\n",
       "<style scoped>\n",
       "    .dataframe tbody tr th:only-of-type {\n",
       "        vertical-align: middle;\n",
       "    }\n",
       "\n",
       "    .dataframe tbody tr th {\n",
       "        vertical-align: top;\n",
       "    }\n",
       "\n",
       "    .dataframe thead th {\n",
       "        text-align: right;\n",
       "    }\n",
       "</style>\n",
       "<table border=\"1\" class=\"dataframe\">\n",
       "  <thead>\n",
       "    <tr style=\"text-align: right;\">\n",
       "      <th></th>\n",
       "      <th>demo_across</th>\n",
       "      <th>demo_within</th>\n",
       "      <th>eval_type</th>\n",
       "    </tr>\n",
       "    <tr>\n",
       "      <th>paper</th>\n",
       "      <th></th>\n",
       "      <th></th>\n",
       "      <th></th>\n",
       "    </tr>\n",
       "  </thead>\n",
       "  <tbody>\n",
       "    <tr>\n",
       "      <th>Argyle et al.</th>\n",
       "      <td>1.0</td>\n",
       "      <td>N/a</td>\n",
       "      <td>across</td>\n",
       "    </tr>\n",
       "    <tr>\n",
       "      <th>Aher et al.</th>\n",
       "      <td>1.0</td>\n",
       "      <td>N/a</td>\n",
       "      <td>across</td>\n",
       "    </tr>\n",
       "    <tr>\n",
       "      <th>Gerosa et al.</th>\n",
       "      <td>1.0</td>\n",
       "      <td>N/a</td>\n",
       "      <td>across</td>\n",
       "    </tr>\n",
       "    <tr>\n",
       "      <th>Park et al.</th>\n",
       "      <td>N/a</td>\n",
       "      <td>N/a</td>\n",
       "      <td>none</td>\n",
       "    </tr>\n",
       "    <tr>\n",
       "      <th>FairPair: A Robust Evaluation of Biases in Language Models through Paired Perturbations</th>\n",
       "      <td>N/a</td>\n",
       "      <td>1.0</td>\n",
       "      <td>within</td>\n",
       "    </tr>\n",
       "  </tbody>\n",
       "</table>\n",
       "</div>"
      ],
      "text/plain": [
       "                                                   demo_across demo_within  \\\n",
       "paper                                                                        \n",
       "Argyle et al.                                              1.0         N/a   \n",
       "Aher et al.                                                1.0         N/a   \n",
       "Gerosa et al.                                              1.0         N/a   \n",
       "Park et al.                                                N/a         N/a   \n",
       "FairPair: A Robust Evaluation of Biases in Lang...         N/a         1.0   \n",
       "\n",
       "                                                   eval_type  \n",
       "paper                                                         \n",
       "Argyle et al.                                         across  \n",
       "Aher et al.                                           across  \n",
       "Gerosa et al.                                         across  \n",
       "Park et al.                                             none  \n",
       "FairPair: A Robust Evaluation of Biases in Lang...    within  "
      ]
     },
     "execution_count": 18,
     "metadata": {},
     "output_type": "execute_result"
    }
   ],
   "source": [
    "demo_eval.head()"
   ]
  },
  {
   "cell_type": "markdown",
   "id": "ce74b283-4bfd-4f2c-bae7-5146b2f8a0d8",
   "metadata": {},
   "source": [
    "### which strategies"
   ]
  },
  {
   "cell_type": "code",
   "execution_count": 19,
   "id": "74a728ad-26c1-4d9b-b091-81f73c088399",
   "metadata": {
    "tags": []
   },
   "outputs": [
    {
     "data": {
      "text/plain": [
       "prompting      136\n",
       "RAG              2\n",
       "Fine-tuning     27\n",
       "Pretraining      4\n",
       "RLHF             1\n",
       "Other           27\n",
       "dtype: int64"
      ]
     },
     "execution_count": 19,
     "metadata": {},
     "output_type": "execute_result"
    }
   ],
   "source": [
    "len(measures) - measures[['prompting', 'RAG', 'Fine-tuning', 'Pretraining', 'RLHF', 'Other']].isna().sum()"
   ]
  },
  {
   "cell_type": "code",
   "execution_count": 20,
   "id": "0eb4a853-35cd-4aa4-8828-9ae03e04a7ec",
   "metadata": {
    "tags": []
   },
   "outputs": [
    {
     "data": {
      "text/html": [
       "<div>\n",
       "<style scoped>\n",
       "    .dataframe tbody tr th:only-of-type {\n",
       "        vertical-align: middle;\n",
       "    }\n",
       "\n",
       "    .dataframe tbody tr th {\n",
       "        vertical-align: top;\n",
       "    }\n",
       "\n",
       "    .dataframe thead th {\n",
       "        text-align: right;\n",
       "    }\n",
       "</style>\n",
       "<table border=\"1\" class=\"dataframe\">\n",
       "  <thead>\n",
       "    <tr style=\"text-align: right;\">\n",
       "      <th></th>\n",
       "      <th>eval_open</th>\n",
       "      <th>eval_closed</th>\n",
       "      <th>eval_other</th>\n",
       "      <th>demo_across</th>\n",
       "      <th>demo_within</th>\n",
       "      <th>prompting</th>\n",
       "      <th>RAG</th>\n",
       "      <th>Fine-tuning</th>\n",
       "      <th>Pretraining</th>\n",
       "      <th>RLHF</th>\n",
       "      <th>Other</th>\n",
       "    </tr>\n",
       "    <tr>\n",
       "      <th>paper</th>\n",
       "      <th></th>\n",
       "      <th></th>\n",
       "      <th></th>\n",
       "      <th></th>\n",
       "      <th></th>\n",
       "      <th></th>\n",
       "      <th></th>\n",
       "      <th></th>\n",
       "      <th></th>\n",
       "      <th></th>\n",
       "      <th></th>\n",
       "    </tr>\n",
       "  </thead>\n",
       "  <tbody>\n",
       "    <tr>\n",
       "      <th>Does RAG Introduce Unfairness in LLMs? Evaluating Fairness in Retrieval-Augmented Generation Systems</th>\n",
       "      <td>NaN</td>\n",
       "      <td>1.0</td>\n",
       "      <td>NaN</td>\n",
       "      <td>1.0</td>\n",
       "      <td>1.0</td>\n",
       "      <td>NaN</td>\n",
       "      <td>1.0</td>\n",
       "      <td>NaN</td>\n",
       "      <td>NaN</td>\n",
       "      <td>NaN</td>\n",
       "      <td>NaN</td>\n",
       "    </tr>\n",
       "    <tr>\n",
       "      <th>AI-Press: A Multi-Agent News Generating and Feedback Simulation System Powered by Large Language Models</th>\n",
       "      <td>1.0</td>\n",
       "      <td>NaN</td>\n",
       "      <td>NaN</td>\n",
       "      <td>NaN</td>\n",
       "      <td>NaN</td>\n",
       "      <td>1</td>\n",
       "      <td>1.0</td>\n",
       "      <td>NaN</td>\n",
       "      <td>NaN</td>\n",
       "      <td>NaN</td>\n",
       "      <td>NaN</td>\n",
       "    </tr>\n",
       "  </tbody>\n",
       "</table>\n",
       "</div>"
      ],
      "text/plain": [
       "                                                    eval_open  eval_closed  \\\n",
       "paper                                                                        \n",
       "Does RAG Introduce Unfairness in LLMs? Evaluati...        NaN          1.0   \n",
       "AI-Press: A Multi-Agent News Generating and Fee...        1.0          NaN   \n",
       "\n",
       "                                                   eval_other  demo_across  \\\n",
       "paper                                                                        \n",
       "Does RAG Introduce Unfairness in LLMs? Evaluati...        NaN          1.0   \n",
       "AI-Press: A Multi-Agent News Generating and Fee...        NaN          NaN   \n",
       "\n",
       "                                                    demo_within prompting  \\\n",
       "paper                                                                       \n",
       "Does RAG Introduce Unfairness in LLMs? Evaluati...          1.0       NaN   \n",
       "AI-Press: A Multi-Agent News Generating and Fee...          NaN         1   \n",
       "\n",
       "                                                    RAG  Fine-tuning  \\\n",
       "paper                                                                  \n",
       "Does RAG Introduce Unfairness in LLMs? Evaluati...  1.0          NaN   \n",
       "AI-Press: A Multi-Agent News Generating and Fee...  1.0          NaN   \n",
       "\n",
       "                                                    Pretraining  RLHF Other  \n",
       "paper                                                                        \n",
       "Does RAG Introduce Unfairness in LLMs? Evaluati...          NaN   NaN   NaN  \n",
       "AI-Press: A Multi-Agent News Generating and Fee...          NaN   NaN   NaN  "
      ]
     },
     "execution_count": 20,
     "metadata": {},
     "output_type": "execute_result"
    }
   ],
   "source": [
    "measures[~measures['RAG'].isna()]"
   ]
  },
  {
   "cell_type": "markdown",
   "id": "e2b04d61-c9c5-4306-a2fd-40bb25d88f12",
   "metadata": {},
   "source": [
    "## which people?"
   ]
  },
  {
   "cell_type": "code",
   "execution_count": 21,
   "id": "78ffda77-267b-44f3-8aa0-27eaa28fd70f",
   "metadata": {
    "tags": []
   },
   "outputs": [
    {
     "data": {
      "text/plain": [
       "array(['American Population',\n",
       "       'implicit / surnames obtained from American census',\n",
       "       'software engineering community ', 'not specified', nan],\n",
       "      dtype=object)"
      ]
     },
     "execution_count": 21,
     "metadata": {},
     "output_type": "execute_result"
    }
   ],
   "source": [
    "people['target_pop'].unique()[:5]"
   ]
  },
  {
   "cell_type": "code",
   "execution_count": 22,
   "id": "d5bcaea6-121a-4d45-9b04-f7dcc04ee91d",
   "metadata": {
    "tags": []
   },
   "outputs": [
    {
     "data": {
      "text/plain": [
       "Conclusion on Representativeness_\n",
       "mixed                            8\n",
       "n/a                              1\n",
       "no                              66\n",
       "no                               1\n",
       "partial                         60\n",
       "partial                          3\n",
       "partial (hyperaccuracy bias)     1\n",
       "yes                             61\n",
       "dtype: int64"
      ]
     },
     "execution_count": 22,
     "metadata": {},
     "output_type": "execute_result"
    }
   ],
   "source": [
    "people['Conclusion on Representativeness_'] = [i.split(',')[0].split(';')[0] if type(i) == str else i for i in people[\"Conclusion on Representativeness?\"]]\n",
    "people.groupby('Conclusion on Representativeness_').size()"
   ]
  },
  {
   "cell_type": "code",
   "execution_count": 23,
   "id": "5781e4a9-93b3-4876-a147-bd3ec7ce0907",
   "metadata": {},
   "outputs": [],
   "source": [
    "people[\"Conclusion on Representativeness_\"][people[\"Conclusion on Representativeness_\"]==\"partial (hyperaccuracy bias)\"] = \"partial\""
   ]
  },
  {
   "cell_type": "code",
   "execution_count": 24,
   "id": "6effcc7d-dc2e-402e-839d-26f92168aa97",
   "metadata": {
    "tags": []
   },
   "outputs": [
    {
     "data": {
      "text/plain": [
       "array(['yes', 'partial', nan, 'no', 'n/a', 'no ', 'mixed', 'partial '],\n",
       "      dtype=object)"
      ]
     },
     "execution_count": 24,
     "metadata": {},
     "output_type": "execute_result"
    }
   ],
   "source": [
    "people[\"Conclusion on Representativeness_\"].unique()"
   ]
  },
  {
   "cell_type": "code",
   "execution_count": 25,
   "id": "94fc2863-9e2c-4d79-b50a-cb7c3452d656",
   "metadata": {},
   "outputs": [],
   "source": [
    "people[\"Conclusion on Representativeness_\"] = people[\"Conclusion on Representativeness_\"].fillna(\"n/a\")\n",
    "people[\"Conclusion on Representativeness_\"] = [i if i not in [\"mixed\", \"partial \"] else \"partial\"\\\n",
    "                                               for i in people[\"Conclusion on Representativeness_\"]]\n",
    "people[\"Conclusion on Representativeness_\"] = [i if i not in [\"yes?\", \"what would be the representativeness?\"] else \"yes\"\\\n",
    "                                               for i in people[\"Conclusion on Representativeness_\"]]\n",
    "people[\"Conclusion on Representativeness_\"] = [i if i not in [\"no?\", \"no \"] else \"no\"\\\n",
    "                                               for i in people[\"Conclusion on Representativeness_\"]]"
   ]
  },
  {
   "cell_type": "code",
   "execution_count": 26,
   "id": "21a6608d-792a-4693-a269-c14a01e07238",
   "metadata": {
    "tags": []
   },
   "outputs": [
    {
     "data": {
      "text/plain": [
       "Conclusion on Representativeness_\n",
       "n/a        11\n",
       "no         67\n",
       "partial    72\n",
       "yes        61\n",
       "dtype: int64"
      ]
     },
     "execution_count": 26,
     "metadata": {},
     "output_type": "execute_result"
    }
   ],
   "source": [
    "conclusion = people[[\"Conclusion on Representativeness_\"]]\n",
    "conclusion.groupby(\"Conclusion on Representativeness_\").size()#.index"
   ]
  },
  {
   "cell_type": "code",
   "execution_count": 27,
   "id": "124bf100-727c-4791-9bf9-f746ec6c4a6e",
   "metadata": {
    "tags": []
   },
   "outputs": [
    {
     "data": {
      "text/plain": [
       "(211, 211)"
      ]
     },
     "execution_count": 27,
     "metadata": {},
     "output_type": "execute_result"
    }
   ],
   "source": [
    "conclusion.groupby(\"Conclusion on Representativeness_\").size().sum(), len(conclusion)"
   ]
  },
  {
   "cell_type": "code",
   "execution_count": 28,
   "id": "5d5188df-5108-44f1-b25b-772ca48fcbaf",
   "metadata": {
    "tags": []
   },
   "outputs": [
    {
     "data": {
      "text/plain": [
       "Conclusion on Representativeness_\n",
       "n/a        0.052133\n",
       "no         0.317536\n",
       "partial    0.341232\n",
       "yes        0.289100\n",
       "dtype: float64"
      ]
     },
     "execution_count": 28,
     "metadata": {},
     "output_type": "execute_result"
    }
   ],
   "source": [
    "conclusion.groupby(\"Conclusion on Representativeness_\").size() / len(conclusion)"
   ]
  },
  {
   "cell_type": "code",
   "execution_count": 29,
   "id": "704dabec",
   "metadata": {},
   "outputs": [
    {
     "data": {
      "text/plain": [
       "Conclusion on Representativeness_\n",
       "no         0.335\n",
       "partial    0.360\n",
       "yes        0.305\n",
       "dtype: float64"
      ]
     },
     "execution_count": 29,
     "metadata": {},
     "output_type": "execute_result"
    }
   ],
   "source": [
    "conclusion_without_na = conclusion[conclusion['Conclusion on Representativeness_'] != 'n/a']\n",
    "conclusion_without_na.groupby(\"Conclusion on Representativeness_\").size() / len(conclusion_without_na)"
   ]
  },
  {
   "cell_type": "code",
   "execution_count": 30,
   "id": "6edae56f-e44c-40a6-af34-581f8c42b850",
   "metadata": {
    "tags": []
   },
   "outputs": [],
   "source": [
    "demo_categories = ['gender', 'race', 'nationality',\n",
    "                 'location', 'immigration', 'age', 'education',\n",
    "                 'political', 'disability', 'religion', 'class',\n",
    "                  'sexuality', 'other']"
   ]
  },
  {
   "cell_type": "code",
   "execution_count": 31,
   "id": "d3c9919a-91da-423e-819c-c957245154ab",
   "metadata": {
    "tags": []
   },
   "outputs": [
    {
     "name": "stdout",
     "output_type": "stream",
     "text": [
      "software engineering community \n",
      "German parliamentarians from major parties (SPD, Greens, AfD, Left, FDP, CDU-\n",
      "CSU alliance)\n",
      "Indian population\n",
      "Korean\n",
      "chinese and english prompts\n",
      "world bank dataset\n",
      "German, Italian, and\n",
      "French (dataset)\n",
      "German students\n",
      "non US (multilingual)\n",
      "Indonesian people\n",
      "US and China\n",
      "People from New Zealand\n",
      "undefined, from hospital records\n",
      "outpatient cardiology clinics in the UK\n",
      "Florida voters, Wikipedia biographies, Hong Kong financial professionals\n",
      "Code in Place\n",
      "US, Germany, China\n",
      "Mturk workers from the UK\n",
      "German population\n",
      "Russian elites\n",
      "Turkey\n",
      "US, Global\n",
      "US, Global\n",
      "UK, US\n",
      "Flanders\n",
      "UK students\n",
      "South Africa, Brazil, Japan, Singapore, Sweden, USA\n",
      "Africa\n",
      "bias towards: not specified, bias of: online communities\n",
      "US population, global population\n",
      "11/11 datasets use US population, 4/11 also include other countries\n",
      "European nationals\n",
      "Great Britain\n",
      "Reddit users\n",
      "US population and global population\n",
      "open chatbot conversation dataset (not further specified)\n",
      "\"common\" countries selected by ChatGPT\n",
      "job applicants\n",
      "patients with kidney stones in Vanderbilt Medical Center\n"
     ]
    },
    {
     "data": {
      "text/plain": [
       "{'Global Population', 'Other', 'U.S. Explicit', 'U.S. Implicit', 'Undefined'}"
      ]
     },
     "execution_count": 31,
     "metadata": {},
     "output_type": "execute_result"
    }
   ],
   "source": [
    "# clean and normalize this column\n",
    "target_population = {\"U.S. Explicit\" : ['American Population', 'U.S. Census data', 'US demographically-constructed groups based on US\\nparticipants',\n",
    "                                       '2020 US population', 'governmental data (US)',\n",
    "                                       'Sync synthetic data generation framework (Li et al., 2020b), which probabilistically reconstructs individual-level demographic and behavioral profiles from aggregated public datasets (american voters) + ANES (sample of US population)',\n",
    "                                       'specific to the United States', 'US population',\n",
    "                                       'American ', 'Physician Data from American colleges', 'US participants',\n",
    "                                       'US Population', 'US adults', 'US population (implicit)', 'American population',\n",
    "                                       'first-year college students in US', 'explicitly US', 'american society',\n",
    "                                        'US population (California)', 'American', 'US', 'US residents', 'US ',\n",
    "                                        \"teachers in Texas\", \"UC students\", \"California students\", 'US registered voters',\n",
    "                                        \"US congress speakers (for demographic dimensions)\", \"located in the US, older than 18, English as first language\",\n",
    "                                        \"U.S. population\", \"U.S\", \"names from US Social Security dataset --> explicitly US?\",\n",
    "                                        \n",
    "                                       ],\n",
    "                     \"U.S. Implicit\" : ['implicitly US ', 'not specified; implicitely: amercian (looking at race description)',\n",
    "                                       'implicitly US population', 'implicitly, US population', 'undefined, potentially US',\n",
    "                                       'not specified (US population?)', 'American (implicitely)', 'undefined, implicitly american',\n",
    "                                       'undefined, implicitly US', 'implicit / \"American sterotypes\" in limitations',\n",
    "                                       'implicit / surnames obtained from American census',\n",
    "                                       'implicitly American', 'implicitly US', 'implicitly US',\n",
    "                                        \"2/5 datasets implicitely US\", \"US implicit\",\n",
    "                                        'implicity US', 'implicitely US population', 'implicitely US',\n",
    "                                         \"implicitly US: New York Times Dataset \", \"Implicitly US\"\n",
    "                                        \n",
    "                                       ],\n",
    "                     \"Undefined\" : ['not specified', 'undefined', 'not specified', 'not specified  '],\n",
    "                     \"Global Population\" : [\"global population\", 'Global Population', 'global',\n",
    "                                           \"global population (?)\"]}\n",
    "normalized_target_pop = []\n",
    "for _, row in people.iterrows():\n",
    "    flag = False\n",
    "    if type(row['target_pop']) == float:\n",
    "        normalized_target_pop.append('Undefined')\n",
    "        flag = True\n",
    "    else:\n",
    "        for key in target_population:\n",
    "            if row['target_pop'] in target_population[key]:\n",
    "                normalized_target_pop.append(key)\n",
    "                flag = True\n",
    "                break\n",
    "    if not flag:\n",
    "        print(row['target_pop'])\n",
    "        normalized_target_pop.append('Other')\n",
    "        \n",
    "set(normalized_target_pop)"
   ]
  },
  {
   "cell_type": "code",
   "execution_count": 32,
   "id": "16a24123-a395-4731-8a7c-911faa6b0a05",
   "metadata": {
    "tags": []
   },
   "outputs": [
    {
     "data": {
      "text/plain": [
       "Target_Population\n",
       "Undefined            75\n",
       "U.S. Explicit        54\n",
       "Other                39\n",
       "U.S. Implicit        34\n",
       "Global Population     9\n",
       "dtype: int64"
      ]
     },
     "execution_count": 32,
     "metadata": {},
     "output_type": "execute_result"
    }
   ],
   "source": [
    "people['Target_Population'] =  normalized_target_pop\n",
    "people.groupby('Target_Population').size().sort_values(ascending = False)#.plot(kind = 'bar', figsize = (20, 10))"
   ]
  },
  {
   "cell_type": "code",
   "execution_count": 33,
   "id": "5060bb37-4588-4452-82b2-59aed405174c",
   "metadata": {
    "tags": []
   },
   "outputs": [
    {
     "data": {
      "text/plain": [
       "Target_Population\n",
       "Undefined            0.355450\n",
       "U.S. Explicit        0.255924\n",
       "Other                0.184834\n",
       "U.S. Implicit        0.161137\n",
       "Global Population    0.042654\n",
       "dtype: float64"
      ]
     },
     "execution_count": 33,
     "metadata": {},
     "output_type": "execute_result"
    }
   ],
   "source": [
    "(people.groupby('Target_Population').size().sort_values(ascending = False) / len(people))"
   ]
  },
  {
   "cell_type": "code",
   "execution_count": 34,
   "id": "527ef1d9-2479-4222-b64d-6b86fcc60d41",
   "metadata": {
    "tags": []
   },
   "outputs": [
    {
     "data": {
      "text/html": [
       "<div>\n",
       "<style scoped>\n",
       "    .dataframe tbody tr th:only-of-type {\n",
       "        vertical-align: middle;\n",
       "    }\n",
       "\n",
       "    .dataframe tbody tr th {\n",
       "        vertical-align: top;\n",
       "    }\n",
       "\n",
       "    .dataframe thead th {\n",
       "        text-align: right;\n",
       "    }\n",
       "</style>\n",
       "<table border=\"1\" class=\"dataframe\">\n",
       "  <thead>\n",
       "    <tr style=\"text-align: right;\">\n",
       "      <th></th>\n",
       "      <th>target_pop</th>\n",
       "      <th>input</th>\n",
       "      <th>object</th>\n",
       "      <th>default</th>\n",
       "      <th>gender</th>\n",
       "      <th>race</th>\n",
       "      <th>nationality</th>\n",
       "      <th>location</th>\n",
       "      <th>immigration</th>\n",
       "      <th>age</th>\n",
       "      <th>education</th>\n",
       "      <th>political</th>\n",
       "      <th>disability</th>\n",
       "      <th>religion</th>\n",
       "      <th>class</th>\n",
       "      <th>sexuality</th>\n",
       "      <th>other</th>\n",
       "      <th>Conclusion on Representativeness?</th>\n",
       "      <th>Conclusion on Representativeness_</th>\n",
       "      <th>Target_Population</th>\n",
       "    </tr>\n",
       "    <tr>\n",
       "      <th>paper</th>\n",
       "      <th></th>\n",
       "      <th></th>\n",
       "      <th></th>\n",
       "      <th></th>\n",
       "      <th></th>\n",
       "      <th></th>\n",
       "      <th></th>\n",
       "      <th></th>\n",
       "      <th></th>\n",
       "      <th></th>\n",
       "      <th></th>\n",
       "      <th></th>\n",
       "      <th></th>\n",
       "      <th></th>\n",
       "      <th></th>\n",
       "      <th></th>\n",
       "      <th></th>\n",
       "      <th></th>\n",
       "      <th></th>\n",
       "      <th></th>\n",
       "    </tr>\n",
       "  </thead>\n",
       "  <tbody>\n",
       "    <tr>\n",
       "      <th>Assessing LLMs for Moral Value Pluralism</th>\n",
       "      <td>global</td>\n",
       "      <td>1</td>\n",
       "      <td>NaN</td>\n",
       "      <td>NaN</td>\n",
       "      <td>binary</td>\n",
       "      <td>NaN</td>\n",
       "      <td>german, japanese, czech, american, romanian, v...</td>\n",
       "      <td>NaN</td>\n",
       "      <td>NaN</td>\n",
       "      <td>20, 30, 40, 50, 60, 75</td>\n",
       "      <td>NaN</td>\n",
       "      <td>NaN</td>\n",
       "      <td>NaN</td>\n",
       "      <td>NaN</td>\n",
       "      <td>NaN</td>\n",
       "      <td>NaN</td>\n",
       "      <td>NaN</td>\n",
       "      <td>no, LLM inable to accurately capture moral\\npe...</td>\n",
       "      <td>no</td>\n",
       "      <td>Global Population</td>\n",
       "    </tr>\n",
       "    <tr>\n",
       "      <th>The Generation Gap: Exploring Age Bias in the Value Systems of Large Language Models</th>\n",
       "      <td>global</td>\n",
       "      <td>NaN</td>\n",
       "      <td>NaN</td>\n",
       "      <td>1.0</td>\n",
       "      <td>NaN</td>\n",
       "      <td>NaN</td>\n",
       "      <td>US, China, Germany, Great Britain, Indonesia, ...</td>\n",
       "      <td>NaN</td>\n",
       "      <td>NaN</td>\n",
       "      <td>18-24, 25-34, 35-44, 45-54, 55-64, 65+</td>\n",
       "      <td>NaN</td>\n",
       "      <td>NaN</td>\n",
       "      <td>NaN</td>\n",
       "      <td>NaN</td>\n",
       "      <td>NaN</td>\n",
       "      <td>NaN</td>\n",
       "      <td>NaN</td>\n",
       "      <td>no, \"we have shown that LLMs are not repre-\\ns...</td>\n",
       "      <td>no</td>\n",
       "      <td>Global Population</td>\n",
       "    </tr>\n",
       "    <tr>\n",
       "      <th>Language Model Alignment in Multilingual Trolley Problems</th>\n",
       "      <td>global population</td>\n",
       "      <td>NaN</td>\n",
       "      <td>1</td>\n",
       "      <td>NaN</td>\n",
       "      <td>1</td>\n",
       "      <td>NaN</td>\n",
       "      <td>NaN</td>\n",
       "      <td>NaN</td>\n",
       "      <td>NaN</td>\n",
       "      <td>1</td>\n",
       "      <td>NaN</td>\n",
       "      <td>NaN</td>\n",
       "      <td>NaN</td>\n",
       "      <td>NaN</td>\n",
       "      <td>1</td>\n",
       "      <td>NaN</td>\n",
       "      <td>fitness</td>\n",
       "      <td>no</td>\n",
       "      <td>no</td>\n",
       "      <td>Global Population</td>\n",
       "    </tr>\n",
       "    <tr>\n",
       "      <th>Exploring Social Desirability Response Bias in Large Language Models: Evidence from GPT-4 Simulations</th>\n",
       "      <td>global population</td>\n",
       "      <td>1</td>\n",
       "      <td>NaN</td>\n",
       "      <td>NaN</td>\n",
       "      <td>1</td>\n",
       "      <td>NaN</td>\n",
       "      <td>NaN</td>\n",
       "      <td>NaN</td>\n",
       "      <td>NaN</td>\n",
       "      <td>1</td>\n",
       "      <td>1</td>\n",
       "      <td>NaN</td>\n",
       "      <td>NaN</td>\n",
       "      <td>NaN</td>\n",
       "      <td>1</td>\n",
       "      <td>NaN</td>\n",
       "      <td>marital status, household size, perceived econ...</td>\n",
       "      <td>mixed</td>\n",
       "      <td>partial</td>\n",
       "      <td>Global Population</td>\n",
       "    </tr>\n",
       "    <tr>\n",
       "      <th>Can Language Models Reason about Individualistic Human Values and Preferences?</th>\n",
       "      <td>global population</td>\n",
       "      <td>1</td>\n",
       "      <td>NaN</td>\n",
       "      <td>NaN</td>\n",
       "      <td>NaN</td>\n",
       "      <td>NaN</td>\n",
       "      <td>NaN</td>\n",
       "      <td>continent (Africa, North America, South Americ...</td>\n",
       "      <td>immigrant, citizen</td>\n",
       "      <td>16-24, ... 65+</td>\n",
       "      <td>early childhood or none, primary, lower second...</td>\n",
       "      <td>NaN</td>\n",
       "      <td>NaN</td>\n",
       "      <td>no religion, protestant, catholic, orthodox, j...</td>\n",
       "      <td>upper, upper middle, lower middle, working, lo...</td>\n",
       "      <td>NaN</td>\n",
       "      <td>occupation</td>\n",
       "      <td>no</td>\n",
       "      <td>no</td>\n",
       "      <td>Global Population</td>\n",
       "    </tr>\n",
       "    <tr>\n",
       "      <th>Durmus, Esin, et al. \"Towards measuring the representation of subjective global opinions in language models.\" arXiv preprint arXiv:2306.16388 (2023).</th>\n",
       "      <td>Global Population</td>\n",
       "      <td>1</td>\n",
       "      <td>1</td>\n",
       "      <td>1.0</td>\n",
       "      <td>NaN</td>\n",
       "      <td>NaN</td>\n",
       "      <td>NaN</td>\n",
       "      <td>country</td>\n",
       "      <td>NaN</td>\n",
       "      <td>NaN</td>\n",
       "      <td>NaN</td>\n",
       "      <td>NaN</td>\n",
       "      <td>NaN</td>\n",
       "      <td>NaN</td>\n",
       "      <td>NaN</td>\n",
       "      <td>NaN</td>\n",
       "      <td>NaN</td>\n",
       "      <td>partial</td>\n",
       "      <td>partial</td>\n",
       "      <td>Global Population</td>\n",
       "    </tr>\n",
       "    <tr>\n",
       "      <th>Who is better at math, Jenny or Jingzhen? Uncovering Stereotypes in Large Language Models</th>\n",
       "      <td>global population</td>\n",
       "      <td>NaN</td>\n",
       "      <td>1</td>\n",
       "      <td>1.0</td>\n",
       "      <td>names</td>\n",
       "      <td>names</td>\n",
       "      <td>NaN</td>\n",
       "      <td>NaN</td>\n",
       "      <td>NaN</td>\n",
       "      <td>NaN</td>\n",
       "      <td>NaN</td>\n",
       "      <td>NaN</td>\n",
       "      <td>NaN</td>\n",
       "      <td>NaN</td>\n",
       "      <td>NaN</td>\n",
       "      <td>NaN</td>\n",
       "      <td>NaN</td>\n",
       "      <td>no</td>\n",
       "      <td>no</td>\n",
       "      <td>Global Population</td>\n",
       "    </tr>\n",
       "    <tr>\n",
       "      <th>Group Robust Preference Optimization in Reward-free RLHF</th>\n",
       "      <td>global population</td>\n",
       "      <td>NaN</td>\n",
       "      <td>1</td>\n",
       "      <td>1.0</td>\n",
       "      <td>NaN</td>\n",
       "      <td>NaN</td>\n",
       "      <td>Nigeria, Egypt, India, China, Japan</td>\n",
       "      <td>NaN</td>\n",
       "      <td>NaN</td>\n",
       "      <td>NaN</td>\n",
       "      <td>NaN</td>\n",
       "      <td>NaN</td>\n",
       "      <td>NaN</td>\n",
       "      <td>NaN</td>\n",
       "      <td>NaN</td>\n",
       "      <td>NaN</td>\n",
       "      <td>NaN</td>\n",
       "      <td>yes</td>\n",
       "      <td>yes</td>\n",
       "      <td>Global Population</td>\n",
       "    </tr>\n",
       "    <tr>\n",
       "      <th>What Do Llamas Really Think? Revealing Preference Biases in Language Model Representations</th>\n",
       "      <td>global population (?)</td>\n",
       "      <td>NaN</td>\n",
       "      <td>1</td>\n",
       "      <td>1.0</td>\n",
       "      <td>male, female</td>\n",
       "      <td>NaN</td>\n",
       "      <td>195 countries divided n East/West and Europe/A...</td>\n",
       "      <td>NaN</td>\n",
       "      <td>NaN</td>\n",
       "      <td>NaN</td>\n",
       "      <td>NaN</td>\n",
       "      <td>left wing vs right wing and authoritarian vs l...</td>\n",
       "      <td>NaN</td>\n",
       "      <td>Islam vs Judaism vs Christianity and reformati...</td>\n",
       "      <td>NaN</td>\n",
       "      <td>NaN</td>\n",
       "      <td>career</td>\n",
       "      <td>no</td>\n",
       "      <td>no</td>\n",
       "      <td>Global Population</td>\n",
       "    </tr>\n",
       "  </tbody>\n",
       "</table>\n",
       "</div>"
      ],
      "text/plain": [
       "                                                               target_pop  \\\n",
       "paper                                                                       \n",
       "Assessing LLMs for Moral Value Pluralism                           global   \n",
       "The Generation Gap: Exploring Age Bias in the V...                 global   \n",
       "Language Model Alignment in Multilingual Trolle...      global population   \n",
       "Exploring Social Desirability Response Bias in ...      global population   \n",
       "Can Language Models Reason about Individualisti...      global population   \n",
       "Durmus, Esin, et al. \"Towards measuring the rep...      Global Population   \n",
       "Who is better at math, Jenny or Jingzhen? Uncov...      global population   \n",
       "Group Robust Preference Optimization in Reward-...      global population   \n",
       "What Do Llamas Really Think? Revealing Preferen...  global population (?)   \n",
       "\n",
       "                                                   input object  default  \\\n",
       "paper                                                                      \n",
       "Assessing LLMs for Moral Value Pluralism               1    NaN      NaN   \n",
       "The Generation Gap: Exploring Age Bias in the V...   NaN    NaN      1.0   \n",
       "Language Model Alignment in Multilingual Trolle...   NaN      1      NaN   \n",
       "Exploring Social Desirability Response Bias in ...     1    NaN      NaN   \n",
       "Can Language Models Reason about Individualisti...     1    NaN      NaN   \n",
       "Durmus, Esin, et al. \"Towards measuring the rep...     1      1      1.0   \n",
       "Who is better at math, Jenny or Jingzhen? Uncov...   NaN      1      1.0   \n",
       "Group Robust Preference Optimization in Reward-...   NaN      1      1.0   \n",
       "What Do Llamas Really Think? Revealing Preferen...   NaN      1      1.0   \n",
       "\n",
       "                                                          gender   race  \\\n",
       "paper                                                                     \n",
       "Assessing LLMs for Moral Value Pluralism                  binary    NaN   \n",
       "The Generation Gap: Exploring Age Bias in the V...           NaN    NaN   \n",
       "Language Model Alignment in Multilingual Trolle...             1    NaN   \n",
       "Exploring Social Desirability Response Bias in ...             1    NaN   \n",
       "Can Language Models Reason about Individualisti...           NaN    NaN   \n",
       "Durmus, Esin, et al. \"Towards measuring the rep...           NaN    NaN   \n",
       "Who is better at math, Jenny or Jingzhen? Uncov...        names   names   \n",
       "Group Robust Preference Optimization in Reward-...           NaN    NaN   \n",
       "What Do Llamas Really Think? Revealing Preferen...  male, female    NaN   \n",
       "\n",
       "                                                                                          nationality  \\\n",
       "paper                                                                                                   \n",
       "Assessing LLMs for Moral Value Pluralism            german, japanese, czech, american, romanian, v...   \n",
       "The Generation Gap: Exploring Age Bias in the V...  US, China, Germany, Great Britain, Indonesia, ...   \n",
       "Language Model Alignment in Multilingual Trolle...                                                NaN   \n",
       "Exploring Social Desirability Response Bias in ...                                                NaN   \n",
       "Can Language Models Reason about Individualisti...                                                NaN   \n",
       "Durmus, Esin, et al. \"Towards measuring the rep...                                                NaN   \n",
       "Who is better at math, Jenny or Jingzhen? Uncov...                                                NaN   \n",
       "Group Robust Preference Optimization in Reward-...                Nigeria, Egypt, India, China, Japan   \n",
       "What Do Llamas Really Think? Revealing Preferen...  195 countries divided n East/West and Europe/A...   \n",
       "\n",
       "                                                                                             location  \\\n",
       "paper                                                                                                   \n",
       "Assessing LLMs for Moral Value Pluralism                                                          NaN   \n",
       "The Generation Gap: Exploring Age Bias in the V...                                                NaN   \n",
       "Language Model Alignment in Multilingual Trolle...                                                NaN   \n",
       "Exploring Social Desirability Response Bias in ...                                                NaN   \n",
       "Can Language Models Reason about Individualisti...  continent (Africa, North America, South Americ...   \n",
       "Durmus, Esin, et al. \"Towards measuring the rep...                                            country   \n",
       "Who is better at math, Jenny or Jingzhen? Uncov...                                                NaN   \n",
       "Group Robust Preference Optimization in Reward-...                                                NaN   \n",
       "What Do Llamas Really Think? Revealing Preferen...                                                NaN   \n",
       "\n",
       "                                                           immigration  \\\n",
       "paper                                                                    \n",
       "Assessing LLMs for Moral Value Pluralism                           NaN   \n",
       "The Generation Gap: Exploring Age Bias in the V...                 NaN   \n",
       "Language Model Alignment in Multilingual Trolle...                 NaN   \n",
       "Exploring Social Desirability Response Bias in ...                 NaN   \n",
       "Can Language Models Reason about Individualisti...  immigrant, citizen   \n",
       "Durmus, Esin, et al. \"Towards measuring the rep...                 NaN   \n",
       "Who is better at math, Jenny or Jingzhen? Uncov...                 NaN   \n",
       "Group Robust Preference Optimization in Reward-...                 NaN   \n",
       "What Do Llamas Really Think? Revealing Preferen...                 NaN   \n",
       "\n",
       "                                                                                       age  \\\n",
       "paper                                                                                        \n",
       "Assessing LLMs for Moral Value Pluralism                            20, 30, 40, 50, 60, 75   \n",
       "The Generation Gap: Exploring Age Bias in the V...  18-24, 25-34, 35-44, 45-54, 55-64, 65+   \n",
       "Language Model Alignment in Multilingual Trolle...                                       1   \n",
       "Exploring Social Desirability Response Bias in ...                                       1   \n",
       "Can Language Models Reason about Individualisti...                          16-24, ... 65+   \n",
       "Durmus, Esin, et al. \"Towards measuring the rep...                                     NaN   \n",
       "Who is better at math, Jenny or Jingzhen? Uncov...                                     NaN   \n",
       "Group Robust Preference Optimization in Reward-...                                     NaN   \n",
       "What Do Llamas Really Think? Revealing Preferen...                                     NaN   \n",
       "\n",
       "                                                                                            education  \\\n",
       "paper                                                                                                   \n",
       "Assessing LLMs for Moral Value Pluralism                                                          NaN   \n",
       "The Generation Gap: Exploring Age Bias in the V...                                                NaN   \n",
       "Language Model Alignment in Multilingual Trolle...                                                NaN   \n",
       "Exploring Social Desirability Response Bias in ...                                                  1   \n",
       "Can Language Models Reason about Individualisti...  early childhood or none, primary, lower second...   \n",
       "Durmus, Esin, et al. \"Towards measuring the rep...                                                NaN   \n",
       "Who is better at math, Jenny or Jingzhen? Uncov...                                                NaN   \n",
       "Group Robust Preference Optimization in Reward-...                                                NaN   \n",
       "What Do Llamas Really Think? Revealing Preferen...                                                NaN   \n",
       "\n",
       "                                                                                            political  \\\n",
       "paper                                                                                                   \n",
       "Assessing LLMs for Moral Value Pluralism                                                          NaN   \n",
       "The Generation Gap: Exploring Age Bias in the V...                                                NaN   \n",
       "Language Model Alignment in Multilingual Trolle...                                                NaN   \n",
       "Exploring Social Desirability Response Bias in ...                                                NaN   \n",
       "Can Language Models Reason about Individualisti...                                                NaN   \n",
       "Durmus, Esin, et al. \"Towards measuring the rep...                                                NaN   \n",
       "Who is better at math, Jenny or Jingzhen? Uncov...                                                NaN   \n",
       "Group Robust Preference Optimization in Reward-...                                                NaN   \n",
       "What Do Llamas Really Think? Revealing Preferen...  left wing vs right wing and authoritarian vs l...   \n",
       "\n",
       "                                                   disability  \\\n",
       "paper                                                           \n",
       "Assessing LLMs for Moral Value Pluralism                  NaN   \n",
       "The Generation Gap: Exploring Age Bias in the V...        NaN   \n",
       "Language Model Alignment in Multilingual Trolle...        NaN   \n",
       "Exploring Social Desirability Response Bias in ...        NaN   \n",
       "Can Language Models Reason about Individualisti...        NaN   \n",
       "Durmus, Esin, et al. \"Towards measuring the rep...        NaN   \n",
       "Who is better at math, Jenny or Jingzhen? Uncov...        NaN   \n",
       "Group Robust Preference Optimization in Reward-...        NaN   \n",
       "What Do Llamas Really Think? Revealing Preferen...        NaN   \n",
       "\n",
       "                                                                                             religion  \\\n",
       "paper                                                                                                   \n",
       "Assessing LLMs for Moral Value Pluralism                                                          NaN   \n",
       "The Generation Gap: Exploring Age Bias in the V...                                                NaN   \n",
       "Language Model Alignment in Multilingual Trolle...                                                NaN   \n",
       "Exploring Social Desirability Response Bias in ...                                                NaN   \n",
       "Can Language Models Reason about Individualisti...  no religion, protestant, catholic, orthodox, j...   \n",
       "Durmus, Esin, et al. \"Towards measuring the rep...                                                NaN   \n",
       "Who is better at math, Jenny or Jingzhen? Uncov...                                                NaN   \n",
       "Group Robust Preference Optimization in Reward-...                                                NaN   \n",
       "What Do Llamas Really Think? Revealing Preferen...  Islam vs Judaism vs Christianity and reformati...   \n",
       "\n",
       "                                                                                                class  \\\n",
       "paper                                                                                                   \n",
       "Assessing LLMs for Moral Value Pluralism                                                          NaN   \n",
       "The Generation Gap: Exploring Age Bias in the V...                                                NaN   \n",
       "Language Model Alignment in Multilingual Trolle...                                                  1   \n",
       "Exploring Social Desirability Response Bias in ...                                                  1   \n",
       "Can Language Models Reason about Individualisti...  upper, upper middle, lower middle, working, lo...   \n",
       "Durmus, Esin, et al. \"Towards measuring the rep...                                                NaN   \n",
       "Who is better at math, Jenny or Jingzhen? Uncov...                                                NaN   \n",
       "Group Robust Preference Optimization in Reward-...                                                NaN   \n",
       "What Do Llamas Really Think? Revealing Preferen...                                                NaN   \n",
       "\n",
       "                                                   sexuality  \\\n",
       "paper                                                          \n",
       "Assessing LLMs for Moral Value Pluralism                 NaN   \n",
       "The Generation Gap: Exploring Age Bias in the V...       NaN   \n",
       "Language Model Alignment in Multilingual Trolle...       NaN   \n",
       "Exploring Social Desirability Response Bias in ...       NaN   \n",
       "Can Language Models Reason about Individualisti...       NaN   \n",
       "Durmus, Esin, et al. \"Towards measuring the rep...       NaN   \n",
       "Who is better at math, Jenny or Jingzhen? Uncov...       NaN   \n",
       "Group Robust Preference Optimization in Reward-...       NaN   \n",
       "What Do Llamas Really Think? Revealing Preferen...       NaN   \n",
       "\n",
       "                                                                                                other  \\\n",
       "paper                                                                                                   \n",
       "Assessing LLMs for Moral Value Pluralism                                                          NaN   \n",
       "The Generation Gap: Exploring Age Bias in the V...                                                NaN   \n",
       "Language Model Alignment in Multilingual Trolle...                                            fitness   \n",
       "Exploring Social Desirability Response Bias in ...  marital status, household size, perceived econ...   \n",
       "Can Language Models Reason about Individualisti...                                         occupation   \n",
       "Durmus, Esin, et al. \"Towards measuring the rep...                                                NaN   \n",
       "Who is better at math, Jenny or Jingzhen? Uncov...                                                NaN   \n",
       "Group Robust Preference Optimization in Reward-...                                                NaN   \n",
       "What Do Llamas Really Think? Revealing Preferen...                                             career   \n",
       "\n",
       "                                                                    Conclusion on Representativeness?  \\\n",
       "paper                                                                                                   \n",
       "Assessing LLMs for Moral Value Pluralism            no, LLM inable to accurately capture moral\\npe...   \n",
       "The Generation Gap: Exploring Age Bias in the V...  no, \"we have shown that LLMs are not repre-\\ns...   \n",
       "Language Model Alignment in Multilingual Trolle...                                                 no   \n",
       "Exploring Social Desirability Response Bias in ...                                              mixed   \n",
       "Can Language Models Reason about Individualisti...                                                 no   \n",
       "Durmus, Esin, et al. \"Towards measuring the rep...                                            partial   \n",
       "Who is better at math, Jenny or Jingzhen? Uncov...                                                 no   \n",
       "Group Robust Preference Optimization in Reward-...                                                yes   \n",
       "What Do Llamas Really Think? Revealing Preferen...                                                 no   \n",
       "\n",
       "                                                   Conclusion on Representativeness_  \\\n",
       "paper                                                                                  \n",
       "Assessing LLMs for Moral Value Pluralism                                          no   \n",
       "The Generation Gap: Exploring Age Bias in the V...                                no   \n",
       "Language Model Alignment in Multilingual Trolle...                                no   \n",
       "Exploring Social Desirability Response Bias in ...                           partial   \n",
       "Can Language Models Reason about Individualisti...                                no   \n",
       "Durmus, Esin, et al. \"Towards measuring the rep...                           partial   \n",
       "Who is better at math, Jenny or Jingzhen? Uncov...                                no   \n",
       "Group Robust Preference Optimization in Reward-...                               yes   \n",
       "What Do Llamas Really Think? Revealing Preferen...                                no   \n",
       "\n",
       "                                                    Target_Population  \n",
       "paper                                                                  \n",
       "Assessing LLMs for Moral Value Pluralism            Global Population  \n",
       "The Generation Gap: Exploring Age Bias in the V...  Global Population  \n",
       "Language Model Alignment in Multilingual Trolle...  Global Population  \n",
       "Exploring Social Desirability Response Bias in ...  Global Population  \n",
       "Can Language Models Reason about Individualisti...  Global Population  \n",
       "Durmus, Esin, et al. \"Towards measuring the rep...  Global Population  \n",
       "Who is better at math, Jenny or Jingzhen? Uncov...  Global Population  \n",
       "Group Robust Preference Optimization in Reward-...  Global Population  \n",
       "What Do Llamas Really Think? Revealing Preferen...  Global Population  "
      ]
     },
     "execution_count": 34,
     "metadata": {},
     "output_type": "execute_result"
    }
   ],
   "source": [
    "people[people[\"Target_Population\"] == 'Global Population']"
   ]
  },
  {
   "cell_type": "code",
   "execution_count": 35,
   "id": "af588524-d55e-4c7c-9145-285ed8be20a1",
   "metadata": {},
   "outputs": [
    {
     "data": {
      "text/plain": [
       "Target_Population\n",
       "Undefined            0.453333\n",
       "Other                0.230769\n",
       "U.S. Explicit        0.222222\n",
       "U.S. Implicit        0.147059\n",
       "Global Population    0.111111\n",
       "dtype: float64"
      ]
     },
     "execution_count": 35,
     "metadata": {},
     "output_type": "execute_result"
    }
   ],
   "source": [
    "categories = demo_categories + [\"Conclusion on Representativeness_\"]\n",
    "people[categories].groupby([\"Conclusion on Representativeness_\"]).size()\n",
    "people_yes = people[people[\"Conclusion on Representativeness_\"] == 'yes']\n",
    "(people_yes.groupby('Target_Population').size() / people.groupby('Target_Population').size()).sort_values(ascending = False)"
   ]
  },
  {
   "cell_type": "code",
   "execution_count": 36,
   "id": "9d39e338-0ba8-489d-b152-3e3f8992b020",
   "metadata": {
    "tags": []
   },
   "outputs": [
    {
     "data": {
      "text/plain": [
       "226"
      ]
     },
     "execution_count": 36,
     "metadata": {},
     "output_type": "execute_result"
    }
   ],
   "source": [
    "context_demo = contexts[[\"context\"]].merge(demo_eval[[\"eval_type\", ]], on = 'paper', how = 'outer')\n",
    "context_demo_conclusion = context_demo.merge(conclusion, on = 'paper', how = 'outer')#.reset_index().drop_duplicates(subset = ['paper'])\n",
    "\n",
    "len(context_demo_conclusion)"
   ]
  },
  {
   "cell_type": "code",
   "execution_count": 37,
   "id": "eadcd009-3bd2-47a5-a28f-caeca9172be7",
   "metadata": {
    "tags": []
   },
   "outputs": [
    {
     "data": {
      "text/html": [
       "<div>\n",
       "<style scoped>\n",
       "    .dataframe tbody tr th:only-of-type {\n",
       "        vertical-align: middle;\n",
       "    }\n",
       "\n",
       "    .dataframe tbody tr th {\n",
       "        vertical-align: top;\n",
       "    }\n",
       "\n",
       "    .dataframe thead th {\n",
       "        text-align: right;\n",
       "    }\n",
       "</style>\n",
       "<table border=\"1\" class=\"dataframe\">\n",
       "  <thead>\n",
       "    <tr style=\"text-align: right;\">\n",
       "      <th></th>\n",
       "      <th>context</th>\n",
       "      <th>eval_type</th>\n",
       "      <th>Conclusion on Representativeness_</th>\n",
       "    </tr>\n",
       "    <tr>\n",
       "      <th>paper</th>\n",
       "      <th></th>\n",
       "      <th></th>\n",
       "      <th></th>\n",
       "    </tr>\n",
       "  </thead>\n",
       "  <tbody>\n",
       "    <tr>\n",
       "      <th>Aher et al.</th>\n",
       "      <td>simulation</td>\n",
       "      <td>across</td>\n",
       "      <td>partial</td>\n",
       "    </tr>\n",
       "    <tr>\n",
       "      <th>Aher et al.</th>\n",
       "      <td>content_analysis</td>\n",
       "      <td>across</td>\n",
       "      <td>partial</td>\n",
       "    </tr>\n",
       "    <tr>\n",
       "      <th>Aher et al.</th>\n",
       "      <td>advice</td>\n",
       "      <td>across</td>\n",
       "      <td>partial</td>\n",
       "    </tr>\n",
       "  </tbody>\n",
       "</table>\n",
       "</div>"
      ],
      "text/plain": [
       "                      context eval_type Conclusion on Representativeness_\n",
       "paper                                                                    \n",
       "Aher et al.        simulation    across                           partial\n",
       "Aher et al.  content_analysis    across                           partial\n",
       "Aher et al.            advice    across                           partial"
      ]
     },
     "execution_count": 37,
     "metadata": {},
     "output_type": "execute_result"
    }
   ],
   "source": [
    "context_demo_conclusion.loc['Aher et al.']"
   ]
  },
  {
   "cell_type": "code",
   "execution_count": 38,
   "id": "95f13f2b-7f33-4094-bb32-3ec379900ac7",
   "metadata": {
    "tags": []
   },
   "outputs": [],
   "source": [
    "### drop N/a\n",
    "context_demo_conclusion = context_demo_conclusion[context_demo_conclusion['Conclusion on Representativeness_'] != 'n/a']"
   ]
  },
  {
   "cell_type": "code",
   "execution_count": 39,
   "id": "0aa4101c",
   "metadata": {},
   "outputs": [
    {
     "data": {
      "text/plain": [
       "210"
      ]
     },
     "execution_count": 39,
     "metadata": {},
     "output_type": "execute_result"
    }
   ],
   "source": [
    "len(context_demo_conclusion)#['eval_type_adj']"
   ]
  },
  {
   "cell_type": "code",
   "execution_count": 40,
   "id": "a5760199",
   "metadata": {},
   "outputs": [
    {
     "data": {
      "text/plain": [
       "num_cat\n",
       "1     19\n",
       "2     51\n",
       "3     27\n",
       "4     24\n",
       "5     31\n",
       "6     19\n",
       "7      8\n",
       "8      8\n",
       "9      9\n",
       "10    10\n",
       "11     4\n",
       "12     1\n",
       "dtype: int64"
      ]
     },
     "execution_count": 40,
     "metadata": {},
     "output_type": "execute_result"
    }
   ],
   "source": [
    "from collections import Counter\n",
    "\n",
    "num_cat = []\n",
    "\n",
    "for _, row in people.iterrows():\n",
    "    num_cat.append(len(demo_categories) - Counter(row[demo_categories].isna().values)[True])\n",
    "    \n",
    "people['num_cat'] = num_cat\n",
    "people.groupby('num_cat').size()"
   ]
  },
  {
   "cell_type": "code",
   "execution_count": 41,
   "id": "118910fd",
   "metadata": {},
   "outputs": [
    {
     "data": {
      "text/plain": [
       "210"
      ]
     },
     "execution_count": 41,
     "metadata": {},
     "output_type": "execute_result"
    }
   ],
   "source": [
    "categories = demo_categories + ['num_cat']\n",
    "context_demo_conclusion = context_demo_conclusion.merge(people[categories], on = 'paper')\n",
    "len(context_demo_conclusion)"
   ]
  },
  {
   "cell_type": "code",
   "execution_count": 42,
   "id": "fcf91aa9",
   "metadata": {},
   "outputs": [],
   "source": [
    "context_demo_conclusion['eval_type'] = [\"both\" if (row['num_cat'] == 1 and row['eval_type'] == \"within\") \\\n",
    "                                        else row['eval_type'] for _, row in context_demo_conclusion.iterrows()]"
   ]
  },
  {
   "cell_type": "code",
   "execution_count": 43,
   "id": "bd0e4bcf-f895-4b87-af84-37f65f0e42ef",
   "metadata": {
    "tags": []
   },
   "outputs": [
    {
     "data": {
      "image/png": "[encoded data removed]",
      "text/plain": [
       "<Figure size 800x550 with 1 Axes>"
      ]
     },
     "metadata": {},
     "output_type": "display_data"
    }
   ],
   "source": [
    "df = context_demo_conclusion.copy()\n",
    "\n",
    "eval_sorted = (df.groupby([\"Conclusion on Representativeness_\", \"eval_type\"], sort=False).size()).unstack()[[\"both\", \"across\", \"within\", \"none\"]]\n",
    "ax = eval_sorted.plot(kind = 'bar', stacked = True, figsize = (8, 5.5),\n",
    "                      color=[my_colors[\"g\"], my_colors[\"y\"], my_colors[\"b\"], my_colors[\"r\"]])\n",
    "\n",
    "#ax = (df.groupby([#\"exact_context\",\n",
    "#                                 \"Conclusion on Representativeness_\",\n",
    "#                                 \"eval_type\",\n",
    "#                                 ], sort=False).size()).unstack().plot(kind = 'bar',\n",
    "#                                                                                       stacked = True, figsize = (8, 8))\n",
    "# sns.move_legend(ax, \"upper left\", bbox_to_anchor=(1, 1), fontsize = 10)\n",
    "#ax.set_xlabel(\"Conclusion of Representativeness\")\n",
    "ax.set_xlabel(None)\n",
    "ax.set_ylabel(\"# Papers\")\n",
    "\n",
    "ax.spines['top'].set_visible(False)\n",
    "ax.spines['right'].set_visible(False)\n",
    "#ax.spines['bottom'].set_visible(False)\n",
    "ax.set_xticklabels(ax.get_xticklabels(), rotation=0)\n",
    "\n",
    "for p in ax.patches:\n",
    "    width, height = p.get_width(), p.get_height()\n",
    "    x, y = p.get_xy()\n",
    "    if height != 0:\n",
    "        ax.text(x+width/2, \n",
    "            y+height/2, \n",
    "            int(height),\n",
    "            fontsize = 13,\n",
    "            color = 'white',\n",
    "            horizontalalignment='center', \n",
    "            verticalalignment='center')\n",
    "#plt.title(\"Conclusion on Representativeness vs.\\nDemographic Evaluation\", size = 18)\n",
    "plt.legend(title = 'Response Format', ncols = 4, fontsize = 16, loc = \"upper center\", bbox_to_anchor=(0.5,1.2))\n",
    "plt.tight_layout()\n",
    "plt.savefig(\"../figures/Evaluation_vs_conclusion_app.pdf\", dpi = 200)\n",
    "\n"
   ]
  },
  {
   "cell_type": "code",
   "execution_count": 44,
   "id": "a0ae6929-bef6-4e36-a252-4d9fbbe449c5",
   "metadata": {},
   "outputs": [
    {
     "data": {
      "image/png": "[encoded data removed]",
      "text/plain": [
       "<Figure size 640x480 with 1 Axes>"
      ]
     },
     "metadata": {},
     "output_type": "display_data"
    }
   ],
   "source": [
    "categories = ['none', \"across\\ndemographics\", \"within\\ndemographics\", \"both\"]\n",
    "\n",
    "df = context_demo_conclusion.copy()\n",
    "ax = (df.groupby([#\"exact_context\",\n",
    "                                 \"Conclusion on Representativeness_\",\n",
    "                                 \"eval_type\",\n",
    "                                 ]).size() / df.groupby(['Conclusion on Representativeness_']).size()).unstack().plot(kind = 'bar', stacked = True)\n",
    "sns.move_legend(ax, \"upper left\", bbox_to_anchor=(1, 1))\n",
    "ax.set_xlabel(\"Conclusion of Representativeness\")\n",
    "\n",
    "for p in ax.patches:\n",
    "    width, height = p.get_width(), p.get_height()\n",
    "    x, y = p.get_xy()\n",
    "    if height != 0:\n",
    "        ax.text(x+width/2, \n",
    "            y+height/2, \n",
    "            \"%0.02f\" %height,\n",
    "            fontsize = 13,\n",
    "            horizontalalignment='center', \n",
    "            verticalalignment='center')"
   ]
  },
  {
   "cell_type": "markdown",
   "id": "7b6d730a-4bfc-42fd-bb11-47a3a332f131",
   "metadata": {},
   "source": [
    "### answer evaluation"
   ]
  },
  {
   "cell_type": "code",
   "execution_count": 45,
   "id": "06148e77-2265-4f31-8a2d-ca4a8a6efdf5",
   "metadata": {
    "tags": []
   },
   "outputs": [
    {
     "data": {
      "text/plain": [
       "Evaluation_Type\n",
       "closed-form        111\n",
       "free-text           69\n",
       "open and closed     25\n",
       "other                6\n",
       "dtype: int64"
      ]
     },
     "execution_count": 45,
     "metadata": {},
     "output_type": "execute_result"
    }
   ],
   "source": [
    "open_closed = measures[['eval_open', 'eval_closed', 'eval_other']]\n",
    "\n",
    "open_closed_type = []\n",
    "for _, row in open_closed.iterrows():\n",
    "    if (row[\"eval_closed\"]) == 1.0 and (row[\"eval_open\"]) == 1.0:\n",
    "        open_closed_type.append(\"open and closed\")\n",
    "    elif (row[\"eval_closed\"]) == 1.0 and type(row[\"eval_open\"]) == float:\n",
    "        open_closed_type.append(\"closed-form\")\n",
    "    elif (row['eval_open']) == 1.0 and type(row['eval_closed']) == float:\n",
    "        open_closed_type.append(\"free-text\")\n",
    "    else:\n",
    "        open_closed_type.append(\"other\")\n",
    "\n",
    "open_closed[\"Evaluation_Type\"] = open_closed_type\n",
    "open_closed.groupby('Evaluation_Type').size()"
   ]
  },
  {
   "cell_type": "code",
   "execution_count": 46,
   "id": "c52cd56e-5d2d-4c92-97fd-4b28848e4aee",
   "metadata": {
    "tags": []
   },
   "outputs": [
    {
     "data": {
      "text/plain": [
       "226"
      ]
     },
     "execution_count": 46,
     "metadata": {},
     "output_type": "execute_result"
    }
   ],
   "source": [
    "context_io = contexts[[\"context\"]]\n",
    "context_io_oc = context_io.merge(open_closed, on = 'paper', how = 'outer')#.reset_index().drop_duplicates(subset = ['paper'])\n",
    "context_io_oc_conclusion = context_io_oc.merge(conclusion, on = 'paper', how = 'outer')#.reset_index().drop_duplicates(subset = ['paper'])\n",
    "len(context_io_oc_conclusion)"
   ]
  },
  {
   "cell_type": "code",
   "execution_count": 47,
   "id": "64e11f06-9efb-4cd8-9d5a-2ee067d91c64",
   "metadata": {
    "tags": []
   },
   "outputs": [],
   "source": [
    "### drop N/a\n",
    "context_io_oc_conclusion = context_io_oc_conclusion[context_io_oc_conclusion['Conclusion on Representativeness_'] != 'n/a']"
   ]
  },
  {
   "cell_type": "code",
   "execution_count": 48,
   "id": "694a56d1-ded9-4b5f-ac5a-b2523bd8f182",
   "metadata": {
    "tags": []
   },
   "outputs": [],
   "source": [
    "df = (context_io_oc_conclusion.groupby([\n",
    "                                    'context', 'Conclusion on Representativeness_', \n",
    "                                    ]).size() ).unstack()"
   ]
  },
  {
   "cell_type": "code",
   "execution_count": 49,
   "id": "3110cfa5",
   "metadata": {},
   "outputs": [],
   "source": [
    "context_order = df.sum(axis = 1).sort_values(ascending=False).index"
   ]
  },
  {
   "cell_type": "code",
   "execution_count": 50,
   "id": "3db5c7c9-ce08-4e97-944e-ac5e6401004f",
   "metadata": {
    "tags": []
   },
   "outputs": [],
   "source": [
    "df = df.reindex(context_order)"
   ]
  },
  {
   "cell_type": "code",
   "execution_count": 51,
   "id": "d1fced90-2a7c-4984-b049-589cd2170427",
   "metadata": {
    "tags": []
   },
   "outputs": [],
   "source": [
    "df_norm = df.div(df.sum(axis=1), axis=0)\n",
    "df_norm = df_norm[['yes', 'partial', 'no']]\n",
    "df = df[['yes', 'partial', 'no']]"
   ]
  },
  {
   "cell_type": "code",
   "execution_count": 52,
   "id": "d7f9a941-4827-4ee8-880a-176ce1be3b0f",
   "metadata": {
    "tags": []
   },
   "outputs": [
    {
     "data": {
      "image/png": "[encoded data removed]",
      "text/plain": [
       "<Figure size 1100x550 with 2 Axes>"
      ]
     },
     "metadata": {},
     "output_type": "display_data"
    }
   ],
   "source": [
    "fig, ax = plt.subplots(1, 2, figsize = (11, 5.5))\n",
    "df.drop(\"training_data\").plot(kind = 'bar', ax = ax[0],color=[my_colors[\"g\"], my_colors[\"b\"], my_colors[\"r\"]],)\n",
    "ax[0].set_ylabel(\"# Papers\")\n",
    "\n",
    "ax[0].set_title(\"a) Conclusion vs. contexts\", fontsize = 15)\n",
    "df_norm.drop(\"training_data\").plot(kind = 'bar', stacked = True, ax = ax[1],\n",
    "                                   legend = None, color=[my_colors[\"g\"], my_colors[\"b\"], my_colors[\"r\"]])\n",
    "ax[1].set_ylabel(\"% Papers\")\n",
    "\n",
    "for a in ax:\n",
    "    a.set_xlabel(None)\n",
    "    a.spines['right'].set_visible(False)\n",
    "    a.spines['top'].set_visible(False)\n",
    "    labels = [item.get_text().replace(\"_\", \" \") for item in a.get_xticklabels()]\n",
    "    a.set_xticklabels(labels, # rotation=45,\n",
    "                      # ha=\"right\", rotation_mode='anchor'\n",
    "                     )\n",
    "    #a.spines['bottom'].set_visible(False)\n",
    "\n",
    "sns.move_legend(ax[0], loc = 'upper right', #bbox_to_anchor=(0.5,1.15),\n",
    "                title = 'Representative?',)  #ncols = 4)\n",
    "ax[1].set_title(\"b) Conclusion vs. contexts (normalized)\", fontsize = 15)\n",
    "plt.tight_layout()\n",
    "plt.savefig('../figures/conclusion_vs_context.pdf', dpi = 200)"
   ]
  },
  {
   "cell_type": "code",
   "execution_count": 53,
   "id": "7195c4eb",
   "metadata": {},
   "outputs": [
    {
     "data": {
      "text/html": [
       "<div>\n",
       "<style scoped>\n",
       "    .dataframe tbody tr th:only-of-type {\n",
       "        vertical-align: middle;\n",
       "    }\n",
       "\n",
       "    .dataframe tbody tr th {\n",
       "        vertical-align: top;\n",
       "    }\n",
       "\n",
       "    .dataframe thead th {\n",
       "        text-align: right;\n",
       "    }\n",
       "</style>\n",
       "<table border=\"1\" class=\"dataframe\">\n",
       "  <thead>\n",
       "    <tr style=\"text-align: right;\">\n",
       "      <th></th>\n",
       "      <th>context</th>\n",
       "      <th>Evaluation_Type</th>\n",
       "      <th>Conclusion on Representativeness_</th>\n",
       "      <th># Papers</th>\n",
       "    </tr>\n",
       "  </thead>\n",
       "  <tbody>\n",
       "    <tr>\n",
       "      <th>0</th>\n",
       "      <td>advice</td>\n",
       "      <td>closed-form</td>\n",
       "      <td>no</td>\n",
       "      <td>18</td>\n",
       "    </tr>\n",
       "    <tr>\n",
       "      <th>1</th>\n",
       "      <td>advice</td>\n",
       "      <td>closed-form</td>\n",
       "      <td>partial</td>\n",
       "      <td>9</td>\n",
       "    </tr>\n",
       "    <tr>\n",
       "      <th>2</th>\n",
       "      <td>advice</td>\n",
       "      <td>closed-form</td>\n",
       "      <td>yes</td>\n",
       "      <td>19</td>\n",
       "    </tr>\n",
       "    <tr>\n",
       "      <th>3</th>\n",
       "      <td>advice</td>\n",
       "      <td>free-text</td>\n",
       "      <td>no</td>\n",
       "      <td>11</td>\n",
       "    </tr>\n",
       "    <tr>\n",
       "      <th>4</th>\n",
       "      <td>advice</td>\n",
       "      <td>free-text</td>\n",
       "      <td>partial</td>\n",
       "      <td>11</td>\n",
       "    </tr>\n",
       "  </tbody>\n",
       "</table>\n",
       "</div>"
      ],
      "text/plain": [
       "  context Evaluation_Type Conclusion on Representativeness_  # Papers\n",
       "0  advice     closed-form                                no        18\n",
       "1  advice     closed-form                           partial         9\n",
       "2  advice     closed-form                               yes        19\n",
       "3  advice       free-text                                no        11\n",
       "4  advice       free-text                           partial        11"
      ]
     },
     "execution_count": 53,
     "metadata": {},
     "output_type": "execute_result"
    }
   ],
   "source": [
    "df = context_io_oc_conclusion[['context', 'Evaluation_Type', 'Conclusion on Representativeness_']]\n",
    "cat_cols = [\n",
    "            'context', 'Evaluation_Type',\n",
    "    'Conclusion on Representativeness_'\n",
    "           ]\n",
    "toplot = df.groupby(cat_cols).size().reset_index(name='# Papers')\n",
    "toplot.head()"
   ]
  },
  {
   "cell_type": "code",
   "execution_count": 54,
   "id": "eab73779-701c-420e-846a-477fff0bf729",
   "metadata": {
    "tags": []
   },
   "outputs": [
    {
     "data": {
      "image/png": "[encoded data removed]",
      "text/plain": [
       "<Figure size 1000x300 with 3 Axes>"
      ]
     },
     "metadata": {},
     "output_type": "display_data"
    }
   ],
   "source": [
    "fig, ax = plt.subplots(1, 3, sharey = True, #sharex = True,\n",
    "                       figsize = (10, 3))\n",
    "\n",
    "for n, var in enumerate(['advice', 'simulation', 'generic']):\n",
    "    sims = df[df['context'] == var]\n",
    "    if n == 2:\n",
    "        (sims.groupby(['Conclusion on Representativeness_', 'Evaluation_Type']).size() /\n",
    "    sims.groupby(['Conclusion on Representativeness_']).size()).unstack().plot(kind = 'bar',\n",
    "                                                                               stacked = True,\n",
    "                                                                              ax = ax[n],\n",
    "                                                                              legend = False\n",
    "                                                                              )\n",
    "    \n",
    "        # ax[n].legend(\"upper left\", bbox_to_anchor=(1.8, 1), fontsize = 14)\n",
    "    else:\n",
    "        (sims.groupby(['Conclusion on Representativeness_', 'Evaluation_Type']).size() /\n",
    "    sims.groupby(['Conclusion on Representativeness_']).size()).unstack().plot(kind = 'bar',\n",
    "                                                                               stacked = True,\n",
    "                                                                              ax = ax[n],\n",
    "                                                                              legend = False\n",
    "                                                                              )\n",
    "    \n",
    "    ax[n].set_title(var)\n",
    "    ax[n].set_xlabel('')\n",
    "\n",
    "ax[0].set_ylabel(\"Proportion\")\n",
    "for a in ax:\n",
    "    #a.set_xlabel(None)\n",
    "    a.spines['right'].set_visible(False)\n",
    "    a.spines['top'].set_visible(False)\n",
    "    a.set_xticklabels(a.get_xticklabels(), rotation=0)\n",
    "\n",
    "\n",
    "handles, labels = ax[2].get_legend_handles_labels()\n",
    "fig.legend(handles, labels, loc = 'center right', bbox_to_anchor=(0.94,1.15),\n",
    "                title = 'Conclusion on Representativeness', ncols = 4, fontsize = 14,\n",
    "               )\n",
    "#sns.move_legend(ax[2], loc = 'center right', bbox_to_anchor=(1,1.3), fontsize = 14,\n",
    "#               # title = 'Conclusion on\\nRepresentativeness', \n",
    "#                ncols = 4\n",
    "#               )\n",
    "plt.tight_layout()\n",
    "plt.savefig(\"../figures/app_eval_conclusion_context.pdf\", dpi = 200, bbox_inches='tight')\n",
    "# plt.legend(\"upper left\", bbox_to_anchor=(1, 1), fontsize = 14)"
   ]
  },
  {
   "cell_type": "code",
   "execution_count": 55,
   "id": "d9068479-05a0-4ef1-860f-330202a6c02b",
   "metadata": {
    "tags": []
   },
   "outputs": [
    {
     "data": {
      "text/html": [
       "<div>\n",
       "<style scoped>\n",
       "    .dataframe tbody tr th:only-of-type {\n",
       "        vertical-align: middle;\n",
       "    }\n",
       "\n",
       "    .dataframe tbody tr th {\n",
       "        vertical-align: top;\n",
       "    }\n",
       "\n",
       "    .dataframe thead th {\n",
       "        text-align: right;\n",
       "    }\n",
       "</style>\n",
       "<table border=\"1\" class=\"dataframe\">\n",
       "  <thead>\n",
       "    <tr style=\"text-align: right;\">\n",
       "      <th></th>\n",
       "      <th>All</th>\n",
       "    </tr>\n",
       "  </thead>\n",
       "  <tbody>\n",
       "    <tr>\n",
       "      <th>gender</th>\n",
       "      <td>190</td>\n",
       "    </tr>\n",
       "    <tr>\n",
       "      <th>race</th>\n",
       "      <td>140</td>\n",
       "    </tr>\n",
       "    <tr>\n",
       "      <th>age</th>\n",
       "      <td>125</td>\n",
       "    </tr>\n",
       "    <tr>\n",
       "      <th>other</th>\n",
       "      <td>73</td>\n",
       "    </tr>\n",
       "    <tr>\n",
       "      <th>class</th>\n",
       "      <td>68</td>\n",
       "    </tr>\n",
       "    <tr>\n",
       "      <th>political</th>\n",
       "      <td>62</td>\n",
       "    </tr>\n",
       "    <tr>\n",
       "      <th>education</th>\n",
       "      <td>60</td>\n",
       "    </tr>\n",
       "    <tr>\n",
       "      <th>location</th>\n",
       "      <td>51</td>\n",
       "    </tr>\n",
       "    <tr>\n",
       "      <th>religion</th>\n",
       "      <td>51</td>\n",
       "    </tr>\n",
       "    <tr>\n",
       "      <th>disability</th>\n",
       "      <td>34</td>\n",
       "    </tr>\n",
       "    <tr>\n",
       "      <th>nationality</th>\n",
       "      <td>28</td>\n",
       "    </tr>\n",
       "    <tr>\n",
       "      <th>sexuality</th>\n",
       "      <td>27</td>\n",
       "    </tr>\n",
       "    <tr>\n",
       "      <th>immigration</th>\n",
       "      <td>15</td>\n",
       "    </tr>\n",
       "  </tbody>\n",
       "</table>\n",
       "</div>"
      ],
      "text/plain": [
       "             All\n",
       "gender       190\n",
       "race         140\n",
       "age          125\n",
       "other         73\n",
       "class         68\n",
       "political     62\n",
       "education     60\n",
       "location      51\n",
       "religion      51\n",
       "disability    34\n",
       "nationality   28\n",
       "sexuality     27\n",
       "immigration   15"
      ]
     },
     "execution_count": 55,
     "metadata": {},
     "output_type": "execute_result"
    }
   ],
   "source": [
    "all_demo = pd.DataFrame(len(people) - people[demo_categories].isna().sum().sort_values())\n",
    "all_demo.columns = [\"All\"]\n",
    "all_demo"
   ]
  },
  {
   "cell_type": "code",
   "execution_count": 56,
   "id": "b2f398ba-def2-4892-9bbf-dbf9f3e6a08a",
   "metadata": {
    "tags": []
   },
   "outputs": [
    {
     "data": {
      "text/html": [
       "<div>\n",
       "<style scoped>\n",
       "    .dataframe tbody tr th:only-of-type {\n",
       "        vertical-align: middle;\n",
       "    }\n",
       "\n",
       "    .dataframe tbody tr th {\n",
       "        vertical-align: top;\n",
       "    }\n",
       "\n",
       "    .dataframe thead th {\n",
       "        text-align: right;\n",
       "    }\n",
       "</style>\n",
       "<table border=\"1\" class=\"dataframe\">\n",
       "  <thead>\n",
       "    <tr style=\"text-align: right;\">\n",
       "      <th></th>\n",
       "      <th>Concluded to be Representative</th>\n",
       "    </tr>\n",
       "  </thead>\n",
       "  <tbody>\n",
       "    <tr>\n",
       "      <th>gender</th>\n",
       "      <td>55</td>\n",
       "    </tr>\n",
       "    <tr>\n",
       "      <th>age</th>\n",
       "      <td>40</td>\n",
       "    </tr>\n",
       "    <tr>\n",
       "      <th>race</th>\n",
       "      <td>38</td>\n",
       "    </tr>\n",
       "    <tr>\n",
       "      <th>class</th>\n",
       "      <td>24</td>\n",
       "    </tr>\n",
       "    <tr>\n",
       "      <th>other</th>\n",
       "      <td>23</td>\n",
       "    </tr>\n",
       "    <tr>\n",
       "      <th>education</th>\n",
       "      <td>22</td>\n",
       "    </tr>\n",
       "    <tr>\n",
       "      <th>location</th>\n",
       "      <td>19</td>\n",
       "    </tr>\n",
       "    <tr>\n",
       "      <th>political</th>\n",
       "      <td>19</td>\n",
       "    </tr>\n",
       "    <tr>\n",
       "      <th>religion</th>\n",
       "      <td>18</td>\n",
       "    </tr>\n",
       "    <tr>\n",
       "      <th>nationality</th>\n",
       "      <td>11</td>\n",
       "    </tr>\n",
       "    <tr>\n",
       "      <th>disability</th>\n",
       "      <td>11</td>\n",
       "    </tr>\n",
       "    <tr>\n",
       "      <th>immigration</th>\n",
       "      <td>6</td>\n",
       "    </tr>\n",
       "    <tr>\n",
       "      <th>sexuality</th>\n",
       "      <td>6</td>\n",
       "    </tr>\n",
       "  </tbody>\n",
       "</table>\n",
       "</div>"
      ],
      "text/plain": [
       "             Concluded to be Representative\n",
       "gender                                   55\n",
       "age                                      40\n",
       "race                                     38\n",
       "class                                    24\n",
       "other                                    23\n",
       "education                                22\n",
       "location                                 19\n",
       "political                                19\n",
       "religion                                 18\n",
       "nationality                              11\n",
       "disability                               11\n",
       "immigration                               6\n",
       "sexuality                                 6"
      ]
     },
     "execution_count": 56,
     "metadata": {},
     "output_type": "execute_result"
    }
   ],
   "source": [
    "yes_demo = pd.DataFrame(len(people_yes) - people_yes[demo_categories].isna().sum().sort_values())\n",
    "yes_demo.columns = [\"Concluded to be Representative\"]\n",
    "yes_demo"
   ]
  },
  {
   "cell_type": "code",
   "execution_count": 57,
   "id": "27a3dd54-80e2-4a66-bdd5-db582681b6d1",
   "metadata": {
    "tags": []
   },
   "outputs": [
    {
     "data": {
      "text/plain": [
       "0.3297022444425205"
      ]
     },
     "execution_count": 57,
     "metadata": {},
     "output_type": "execute_result"
    }
   ],
   "source": [
    "# average representativeness across all demos\n",
    "(yes_demo[\"Concluded to be Representative\"] / all_demo['All']).sum() / len(yes_demo)"
   ]
  },
  {
   "cell_type": "code",
   "execution_count": 58,
   "id": "926099b6",
   "metadata": {},
   "outputs": [
    {
     "data": {
      "text/plain": [
       "sexuality      0.222222\n",
       "race           0.271429\n",
       "gender         0.289474\n",
       "political      0.306452\n",
       "other          0.315068\n",
       "age            0.320000\n",
       "disability     0.323529\n",
       "class          0.352941\n",
       "religion       0.352941\n",
       "education      0.366667\n",
       "location       0.372549\n",
       "nationality    0.392857\n",
       "immigration    0.400000\n",
       "dtype: float64"
      ]
     },
     "execution_count": 58,
     "metadata": {},
     "output_type": "execute_result"
    }
   ],
   "source": [
    "(yes_demo[\"Concluded to be Representative\"] / all_demo['All']).sort_values()"
   ]
  },
  {
   "cell_type": "code",
   "execution_count": 59,
   "id": "99798329-9c38-4fa1-8475-c69421efca44",
   "metadata": {
    "tags": []
   },
   "outputs": [],
   "source": [
    "order = yes_demo.sort_values(by = 'Concluded to be Representative', ascending = False).index\n",
    "order = [i for i in order if i!='other']\n",
    "order = order + ['other']\n",
    "yes_demo = yes_demo.reindex(order)\n",
    "all_demo = all_demo.reindex(order)"
   ]
  },
  {
   "cell_type": "markdown",
   "id": "edd2529b-7fbf-4a8e-8357-f1737e6fa810",
   "metadata": {},
   "source": [
    "### how many papers mention subcategories and/or descriptors"
   ]
  },
  {
   "cell_type": "code",
   "execution_count": 60,
   "id": "ec401cb4-1c13-40bb-beba-5be29a8f1c07",
   "metadata": {
    "tags": []
   },
   "outputs": [
    {
     "data": {
      "text/plain": [
       "Index(['age', 'gender', 'race', 'class', 'location', 'nationality',\n",
       "       'education', 'religion', 'political', 'disability', 'sexuality',\n",
       "       'immigration', 'other'],\n",
       "      dtype='object')"
      ]
     },
     "execution_count": 60,
     "metadata": {},
     "output_type": "execute_result"
    }
   ],
   "source": [
    "descriptor_df = people[demo_categories]\n",
    "for demo in demo_categories:\n",
    "    descriptor_df[demo] = [i if type(i) == float or i not in ['1', '1?',\n",
    "                                                              'included, no categries defined',\n",
    "                                                             'included, no categories defined'] else 'no subcategories'\\\n",
    "                           for i in descriptor_df[demo]]\n",
    "    descriptor_df[demo] = [i if i == 'no subcategories' else np.nan for i in descriptor_df[demo]]\n",
    "    # print(descriptor_df.groupby(demo).size().sort_values(ascending = False))\n",
    "no_descriptor_df_count = len(descriptor_df) - descriptor_df.isna().sum()\n",
    "no_descriptor_df_count.sort_values(ascending = False).index\n",
    "# no_descriptor_df counts when a demographic is mentioned but without specifying its subcategory, aka, \"no subcategory\"\n",
    "\n"
   ]
  },
  {
   "cell_type": "code",
   "execution_count": 61,
   "id": "8a8e9083",
   "metadata": {},
   "outputs": [
    {
     "data": {
      "text/plain": [
       "age             85\n",
       "class           45\n",
       "disability      22\n",
       "education       43\n",
       "gender         154\n",
       "immigration     10\n",
       "location        29\n",
       "nationality     11\n",
       "other           73\n",
       "political       50\n",
       "race           109\n",
       "religion        35\n",
       "sexuality       19\n",
       "dtype: int64"
      ]
     },
     "execution_count": 61,
     "metadata": {},
     "output_type": "execute_result"
    }
   ],
   "source": [
    "descriptor_df_count = all_demo['All'] - no_descriptor_df_count\n",
    "descriptor_df_count"
   ]
  },
  {
   "cell_type": "code",
   "execution_count": 62,
   "id": "af415c30-7a56-4c60-a205-f3f4ac33adb8",
   "metadata": {
    "tags": []
   },
   "outputs": [],
   "source": [
    "order = descriptor_df_count.sort_values(ascending = False).index\n",
    "order = [i for i in order if i!='other']\n",
    "order = order + ['other']\n",
    "descriptor_df_count = descriptor_df_count.reindex(order)\n",
    "all_demo = all_demo.reindex(order)"
   ]
  },
  {
   "cell_type": "code",
   "execution_count": 63,
   "id": "f6cc89f3",
   "metadata": {},
   "outputs": [],
   "source": [
    "descriptor_df_count['other'] = 0"
   ]
  },
  {
   "cell_type": "code",
   "execution_count": 64,
   "id": "ef73bc3a-a3d6-444e-b291-4109a62c5f07",
   "metadata": {},
   "outputs": [
    {
     "data": {
      "text/plain": [
       "0.6245514636426451"
      ]
     },
     "execution_count": 64,
     "metadata": {},
     "output_type": "execute_result"
    }
   ],
   "source": [
    "# avg subcategory\n",
    "sum(descriptor_df_count / all_demo['All']) / len(all_demo)"
   ]
  },
  {
   "cell_type": "code",
   "execution_count": 65,
   "id": "4f8ab12b-5e67-4b38-bc31-a5c6602886f7",
   "metadata": {},
   "outputs": [
    {
     "data": {
      "text/plain": [
       "gender         0.810526\n",
       "race           0.778571\n",
       "age            0.680000\n",
       "political      0.806452\n",
       "class          0.661765\n",
       "education      0.716667\n",
       "religion       0.686275\n",
       "location       0.568627\n",
       "disability     0.647059\n",
       "sexuality      0.703704\n",
       "nationality    0.392857\n",
       "immigration    0.666667\n",
       "other          0.000000\n",
       "dtype: float64"
      ]
     },
     "execution_count": 65,
     "metadata": {},
     "output_type": "execute_result"
    }
   ],
   "source": [
    "descriptor_df_count / all_demo['All']"
   ]
  },
  {
   "cell_type": "markdown",
   "id": "0980a316-18f9-459f-b191-1702906c5393",
   "metadata": {},
   "source": [
    "### Contexts + Demographics"
   ]
  },
  {
   "cell_type": "code",
   "execution_count": 66,
   "id": "0b80ad6c-29ea-44fe-917d-6b363000b701",
   "metadata": {
    "tags": []
   },
   "outputs": [
    {
     "data": {
      "text/plain": [
       "array(['simulation', 'content_analysis', 'advice', 'writing',\n",
       "       'training_data', 'generic'], dtype=object)"
      ]
     },
     "execution_count": 66,
     "metadata": {},
     "output_type": "execute_result"
    }
   ],
   "source": [
    "# demo_context = people.merge(contexts_[[\"exact_context\"]], on = 'paper')\n",
    "# context_categories = contexts_['exact_context'].unique()\n",
    "\n",
    "demo_context = people.merge(contexts[[\"context\"]], on = 'paper', how = 'outer')\n",
    "context_categories = contexts['context'].unique()\n",
    "context_categories"
   ]
  },
  {
   "cell_type": "code",
   "execution_count": 67,
   "id": "c32fafe5",
   "metadata": {},
   "outputs": [
    {
     "data": {
      "text/plain": [
       "['gender',\n",
       " 'race',\n",
       " 'age',\n",
       " 'political',\n",
       " 'class',\n",
       " 'education',\n",
       " 'religion',\n",
       " 'location',\n",
       " 'disability',\n",
       " 'sexuality',\n",
       " 'nationality',\n",
       " 'immigration',\n",
       " 'other']"
      ]
     },
     "execution_count": 67,
     "metadata": {},
     "output_type": "execute_result"
    }
   ],
   "source": [
    "order"
   ]
  },
  {
   "cell_type": "code",
   "execution_count": 68,
   "id": "3058f512",
   "metadata": {},
   "outputs": [
    {
     "data": {
      "text/plain": [
       "Index(['advice', 'simulation', 'generic', 'content_analysis', 'writing',\n",
       "       'training_data'],\n",
       "      dtype='object', name='context')"
      ]
     },
     "execution_count": 68,
     "metadata": {},
     "output_type": "execute_result"
    }
   ],
   "source": [
    "context_order"
   ]
  },
  {
   "cell_type": "code",
   "execution_count": 69,
   "id": "068fda80-922b-4ea8-bf8a-64f978043c44",
   "metadata": {},
   "outputs": [],
   "source": [
    "demo_contexts = {}\n",
    "col_cat = {}\n",
    "heatmap_df = pd.DataFrame()\n",
    "for cat in context_categories:\n",
    "    # print(cat)\n",
    "    demo_contexts[cat] = demo_context[demo_context['context'] == cat]\n",
    "    col_cat[cat] = pd.DataFrame(len(demo_contexts[cat]) - demo_contexts[cat][demo_categories].isna().sum().sort_values()).reset_index()\n",
    "    col_cat[cat].columns = ['demographic', cat]\n",
    "    if cat == 'simulation':\n",
    "        heatmap_df = col_cat[cat]\n",
    "    else:\n",
    "        heatmap_df = heatmap_df.merge(col_cat[cat], on = 'demographic')\n",
    "\n",
    "col_order = ['demographic'] + list(context_order)\n",
    "heatmap_df = heatmap_df[col_order[:-1]] # drop training data\n",
    "\n"
   ]
  },
  {
   "cell_type": "code",
   "execution_count": 70,
   "id": "e500d705",
   "metadata": {},
   "outputs": [
    {
     "data": {
      "text/plain": [
       "['gender',\n",
       " 'race',\n",
       " 'age',\n",
       " 'class',\n",
       " 'political',\n",
       " 'education',\n",
       " 'religion',\n",
       " 'location',\n",
       " 'disability',\n",
       " 'nationality',\n",
       " 'sexuality',\n",
       " 'immigration',\n",
       " 'other']"
      ]
     },
     "execution_count": 70,
     "metadata": {},
     "output_type": "execute_result"
    }
   ],
   "source": [
    "order = all_demo.sort_values(by = 'All', ascending = False).index\n",
    "order = [i for i in order if i!='other']\n",
    "order = order + ['other']\n",
    "order"
   ]
  },
  {
   "cell_type": "code",
   "execution_count": 71,
   "id": "edcbd64a-ae05-47d1-a054-b736475296eb",
   "metadata": {
    "tags": []
   },
   "outputs": [
    {
     "name": "stdout",
     "output_type": "stream",
     "text": [
      "[Text(0, 0.5, 'advice'), Text(0, 1.5, 'simulation'), Text(0, 2.5, 'generic'), Text(0, 3.5, 'content_analysis'), Text(0, 4.5, 'writing')]\n",
      "['advice', 'simulation', 'generic', 'content analysis', 'writing']\n"
     ]
    },
    {
     "data": {
      "image/png": "[encoded data removed]",
      "text/plain": [
       "<Figure size 2100x650 with 3 Axes>"
      ]
     },
     "metadata": {},
     "output_type": "display_data"
    }
   ],
   "source": [
    "fig, ax = plt.subplots(1, 3, figsize = (21, 6.5), gridspec_kw={'width_ratios': [.8, .7, .7]})\n",
    "\n",
    "descriptor_df_count = descriptor_df_count.reindex(order)\n",
    "all_demo = all_demo.reindex(order)\n",
    "all_demo[\"All\"].plot(kind = 'bar', label = \"overall\",\n",
    "                                                                                    alpha = 0.2,\n",
    "                                                                                   ax = ax[1])\n",
    "descriptor_df_count.plot(kind = 'bar',\n",
    "                                                                                                 # color = \"red\",\n",
    "                                                                                                 # legend = None,\n",
    "                                                                                label = \"reported\\nsubcategories\",\n",
    "                                                                                                 ax = ax[1])\n",
    "ax[1].set_ylabel('# Papers')\n",
    "#ax[1].set_xlabel('Demographic Category')\n",
    "ax[1].set_title(\"b) Demographic categories with\\nsubcategories\", pad=15)\n",
    "ax[1].legend()\n",
    "#############################\n",
    "\n",
    "yes_demo = yes_demo.reindex(order)\n",
    "all_demo = all_demo.reindex(order)\n",
    "all_demo[\"All\"].plot(kind = 'bar', label = \"overall\",\n",
    "                                                                                    alpha = 0.2,\n",
    "                                                                                   ax = ax[2])\n",
    "yes_demo[\"Concluded to be Representative\"].plot(kind = 'bar',\n",
    "                                                                                                 # color = \"red\",\n",
    "                                                                                                 # legend = None,\n",
    "                                                                                label = \"concluded\\nrepresentative\",\n",
    "                                                                                                 ax = ax[2])\n",
    "ax[2].set_ylabel('# Papers')\n",
    "#ax[2].set_xlabel('Demographic Category')\n",
    "ax[2].set_title(\"c) Demographic categories of which\\nLLMs are representative\", pad=15)\n",
    "ax[2].legend()\n",
    "\n",
    "#################################\n",
    "\n",
    "heatmap_df = heatmap_df.set_index('demographic')\n",
    "heatmap_df = heatmap_df.reindex(order)\n",
    "sns.heatmap((heatmap_df / heatmap_df.sum()).T,\n",
    "annot=True, annot_kws={\"fontsize\":11},\n",
    "            fmt=\"0.2f\", linewidths=.5, \n",
    "            cmap=\"Blues\", ax = ax[0], cbar=False)\n",
    "ax[0].set_ylabel('Context')\n",
    "#ax[0].set_xlabel('Demographic Category')\n",
    "ax[0].set_title(\"a) Proportion of demographic categories\\nacross contexts\", pad=15)\n",
    "\n",
    "\n",
    "yticklabels = ax[0].get_yticklabels()\n",
    "print(yticklabels)\n",
    "labels = [label.get_text().replace(\"_\", \" \") for label in yticklabels]\n",
    "print(labels)\n",
    "ax[0].set_yticklabels(labels)\n",
    "ax[0].tick_params(axis='y', which='both', length=0)\n",
    "\n",
    "#################################\n",
    "\n",
    "for a in ax:\n",
    "    a.set_xlabel(None)\n",
    "    a.spines['right'].set_visible(False)\n",
    "    a.spines['top'].set_visible(False)\n",
    "    a.spines['bottom'].set_visible(False)\n",
    "    a.tick_params(axis='x', which='both', length=0)\n",
    "\n",
    "#################################\n",
    "\n",
    "plt.tight_layout()\n",
    "plt.savefig(\"../figures/demo_stats.pdf\", dpi = 200)\n",
    "\n"
   ]
  },
  {
   "cell_type": "markdown",
   "id": "b6f4c731-c16b-4cd6-8b66-ec811c6e3f77",
   "metadata": {},
   "source": [
    "## deeper look at disagreements"
   ]
  },
  {
   "cell_type": "code",
   "execution_count": 72,
   "id": "42f24333-32a1-4e50-9fe3-a25a99a0dfd9",
   "metadata": {
    "tags": []
   },
   "outputs": [
    {
     "data": {
      "text/plain": [
       "Index(['target_pop', 'input', 'object', 'default', 'gender', 'race',\n",
       "       'nationality', 'location', 'immigration', 'age', 'education',\n",
       "       'political', 'disability', 'religion', 'class', 'sexuality', 'other',\n",
       "       'Conclusion on Representativeness?',\n",
       "       'Conclusion on Representativeness_', 'Target_Population', 'num_cat',\n",
       "       'context'],\n",
       "      dtype='object')"
      ]
     },
     "execution_count": 72,
     "metadata": {},
     "output_type": "execute_result"
    }
   ],
   "source": [
    "demo_context.columns"
   ]
  },
  {
   "cell_type": "code",
   "execution_count": 73,
   "id": "a4575933-4b1b-4ad3-8bf3-28ed9cc67e01",
   "metadata": {
    "tags": []
   },
   "outputs": [
    {
     "data": {
      "text/plain": [
       "(226, 211)"
      ]
     },
     "execution_count": 73,
     "metadata": {},
     "output_type": "execute_result"
    }
   ],
   "source": [
    "len(demo_context), len(open_closed)"
   ]
  },
  {
   "cell_type": "code",
   "execution_count": 74,
   "id": "893d2166-2b00-44a8-accd-ea81690c7742",
   "metadata": {
    "tags": []
   },
   "outputs": [],
   "source": [
    "demo_context_eval = demo_context.merge(open_closed, on = 'paper', how = 'outer')"
   ]
  },
  {
   "cell_type": "code",
   "execution_count": 75,
   "id": "dbc099be-ed1a-42a7-a249-5df564613b34",
   "metadata": {
    "tags": []
   },
   "outputs": [
    {
     "data": {
      "text/plain": [
       "Index(['target_pop', 'input', 'object', 'default', 'gender', 'race',\n",
       "       'nationality', 'location', 'immigration', 'age', 'education',\n",
       "       'political', 'disability', 'religion', 'class', 'sexuality', 'other',\n",
       "       'Conclusion on Representativeness?',\n",
       "       'Conclusion on Representativeness_', 'Target_Population', 'num_cat',\n",
       "       'context', 'eval_open', 'eval_closed', 'eval_other', 'Evaluation_Type'],\n",
       "      dtype='object')"
      ]
     },
     "execution_count": 75,
     "metadata": {},
     "output_type": "execute_result"
    }
   ],
   "source": [
    "demo_context_eval.columns"
   ]
  },
  {
   "cell_type": "code",
   "execution_count": 76,
   "id": "80756720-681d-4a1a-a264-93856bd237a6",
   "metadata": {
    "tags": []
   },
   "outputs": [
    {
     "data": {
      "text/html": [
       "<div>\n",
       "<style scoped>\n",
       "    .dataframe tbody tr th:only-of-type {\n",
       "        vertical-align: middle;\n",
       "    }\n",
       "\n",
       "    .dataframe tbody tr th {\n",
       "        vertical-align: top;\n",
       "    }\n",
       "\n",
       "    .dataframe thead th {\n",
       "        text-align: right;\n",
       "    }\n",
       "</style>\n",
       "<table border=\"1\" class=\"dataframe\">\n",
       "  <thead>\n",
       "    <tr style=\"text-align: right;\">\n",
       "      <th></th>\n",
       "      <th>target_pop</th>\n",
       "      <th>input</th>\n",
       "      <th>object</th>\n",
       "      <th>default</th>\n",
       "      <th>gender</th>\n",
       "      <th>race</th>\n",
       "      <th>nationality</th>\n",
       "      <th>location</th>\n",
       "      <th>immigration</th>\n",
       "      <th>age</th>\n",
       "      <th>...</th>\n",
       "      <th>other</th>\n",
       "      <th>Conclusion on Representativeness?</th>\n",
       "      <th>Conclusion on Representativeness_</th>\n",
       "      <th>Target_Population</th>\n",
       "      <th>num_cat</th>\n",
       "      <th>context</th>\n",
       "      <th>eval_open</th>\n",
       "      <th>eval_closed</th>\n",
       "      <th>eval_other</th>\n",
       "      <th>Evaluation_Type</th>\n",
       "    </tr>\n",
       "    <tr>\n",
       "      <th>paper</th>\n",
       "      <th></th>\n",
       "      <th></th>\n",
       "      <th></th>\n",
       "      <th></th>\n",
       "      <th></th>\n",
       "      <th></th>\n",
       "      <th></th>\n",
       "      <th></th>\n",
       "      <th></th>\n",
       "      <th></th>\n",
       "      <th></th>\n",
       "      <th></th>\n",
       "      <th></th>\n",
       "      <th></th>\n",
       "      <th></th>\n",
       "      <th></th>\n",
       "      <th></th>\n",
       "      <th></th>\n",
       "      <th></th>\n",
       "      <th></th>\n",
       "      <th></th>\n",
       "    </tr>\n",
       "  </thead>\n",
       "  <tbody>\n",
       "    <tr>\n",
       "      <th>Agent4Ranking: Semantic Robust Ranking via Personalized Query Rewriting Using Multi-agent LLM</th>\n",
       "      <td>NaN</td>\n",
       "      <td>NaN</td>\n",
       "      <td>1</td>\n",
       "      <td>1.0</td>\n",
       "      <td>men, women</td>\n",
       "      <td>NaN</td>\n",
       "      <td>NaN</td>\n",
       "      <td>NaN</td>\n",
       "      <td>NaN</td>\n",
       "      <td>elderly, middle-aged, students</td>\n",
       "      <td>...</td>\n",
       "      <td>NaN</td>\n",
       "      <td>yes</td>\n",
       "      <td>yes</td>\n",
       "      <td>Undefined</td>\n",
       "      <td>2</td>\n",
       "      <td>writing</td>\n",
       "      <td>1.0</td>\n",
       "      <td>1.0</td>\n",
       "      <td>NaN</td>\n",
       "      <td>open and closed</td>\n",
       "    </tr>\n",
       "    <tr>\n",
       "      <th>All Should Be Equal in the Eyes of Language Models: Counterfactually Aware Fair Text Generation</th>\n",
       "      <td>NaN</td>\n",
       "      <td>NaN</td>\n",
       "      <td>1</td>\n",
       "      <td>1.0</td>\n",
       "      <td>woman, man</td>\n",
       "      <td>African, Black, White, ...</td>\n",
       "      <td>NaN</td>\n",
       "      <td>NaN</td>\n",
       "      <td>NaN</td>\n",
       "      <td>NaN</td>\n",
       "      <td>...</td>\n",
       "      <td>occupation</td>\n",
       "      <td>yes, \"Our results on three benchmark datasets ...</td>\n",
       "      <td>yes</td>\n",
       "      <td>Undefined</td>\n",
       "      <td>4</td>\n",
       "      <td>writing</td>\n",
       "      <td>1.0</td>\n",
       "      <td>NaN</td>\n",
       "      <td>evaluating against ant-stereotype datasets (su...</td>\n",
       "      <td>free-text</td>\n",
       "    </tr>\n",
       "    <tr>\n",
       "      <th>BEADs: Bias Evaluation Across Domains</th>\n",
       "      <td>undefined</td>\n",
       "      <td>NaN</td>\n",
       "      <td>1</td>\n",
       "      <td>NaN</td>\n",
       "      <td>male, female</td>\n",
       "      <td>asian, black, hispanic, white</td>\n",
       "      <td>NaN</td>\n",
       "      <td>NaN</td>\n",
       "      <td>NaN</td>\n",
       "      <td>NaN</td>\n",
       "      <td>...</td>\n",
       "      <td>NaN</td>\n",
       "      <td>yes</td>\n",
       "      <td>yes</td>\n",
       "      <td>Undefined</td>\n",
       "      <td>3</td>\n",
       "      <td>writing</td>\n",
       "      <td>1.0</td>\n",
       "      <td>NaN</td>\n",
       "      <td>NaN</td>\n",
       "      <td>free-text</td>\n",
       "    </tr>\n",
       "    <tr>\n",
       "      <th>Enhancing In-Hospital Mortality Prediction Using Multi-Representational\\n  Learning with LLM-Generated Expert Summaries</th>\n",
       "      <td>NaN</td>\n",
       "      <td>NaN</td>\n",
       "      <td>1</td>\n",
       "      <td>NaN</td>\n",
       "      <td>NaN</td>\n",
       "      <td>hispanic/latino, african american, asian, blac...</td>\n",
       "      <td>NaN</td>\n",
       "      <td>NaN</td>\n",
       "      <td>NaN</td>\n",
       "      <td>NaN</td>\n",
       "      <td>...</td>\n",
       "      <td>NaN</td>\n",
       "      <td>yes</td>\n",
       "      <td>yes</td>\n",
       "      <td>Undefined</td>\n",
       "      <td>1</td>\n",
       "      <td>writing</td>\n",
       "      <td>1.0</td>\n",
       "      <td>NaN</td>\n",
       "      <td>NaN</td>\n",
       "      <td>free-text</td>\n",
       "    </tr>\n",
       "  </tbody>\n",
       "</table>\n",
       "<p>4 rows × 26 columns</p>\n",
       "</div>"
      ],
      "text/plain": [
       "                                                   target_pop input object  \\\n",
       "paper                                                                        \n",
       "Agent4Ranking: Semantic Robust Ranking via Pers...        NaN   NaN      1   \n",
       "All Should Be Equal in the Eyes of Language Mod...        NaN   NaN      1   \n",
       "BEADs: Bias Evaluation Across Domains               undefined   NaN      1   \n",
       "Enhancing In-Hospital Mortality Prediction Usin...        NaN   NaN      1   \n",
       "\n",
       "                                                    default        gender  \\\n",
       "paper                                                                       \n",
       "Agent4Ranking: Semantic Robust Ranking via Pers...      1.0    men, women   \n",
       "All Should Be Equal in the Eyes of Language Mod...      1.0    woman, man   \n",
       "BEADs: Bias Evaluation Across Domains                   NaN  male, female   \n",
       "Enhancing In-Hospital Mortality Prediction Usin...      NaN           NaN   \n",
       "\n",
       "                                                                                                 race  \\\n",
       "paper                                                                                                   \n",
       "Agent4Ranking: Semantic Robust Ranking via Pers...                                                NaN   \n",
       "All Should Be Equal in the Eyes of Language Mod...                         African, Black, White, ...   \n",
       "BEADs: Bias Evaluation Across Domains                                   asian, black, hispanic, white   \n",
       "Enhancing In-Hospital Mortality Prediction Usin...  hispanic/latino, african american, asian, blac...   \n",
       "\n",
       "                                                   nationality location  \\\n",
       "paper                                                                     \n",
       "Agent4Ranking: Semantic Robust Ranking via Pers...         NaN      NaN   \n",
       "All Should Be Equal in the Eyes of Language Mod...         NaN      NaN   \n",
       "BEADs: Bias Evaluation Across Domains                      NaN      NaN   \n",
       "Enhancing In-Hospital Mortality Prediction Usin...         NaN      NaN   \n",
       "\n",
       "                                                   immigration  \\\n",
       "paper                                                            \n",
       "Agent4Ranking: Semantic Robust Ranking via Pers...         NaN   \n",
       "All Should Be Equal in the Eyes of Language Mod...         NaN   \n",
       "BEADs: Bias Evaluation Across Domains                      NaN   \n",
       "Enhancing In-Hospital Mortality Prediction Usin...         NaN   \n",
       "\n",
       "                                                                               age  \\\n",
       "paper                                                                                \n",
       "Agent4Ranking: Semantic Robust Ranking via Pers...  elderly, middle-aged, students   \n",
       "All Should Be Equal in the Eyes of Language Mod...                             NaN   \n",
       "BEADs: Bias Evaluation Across Domains                                          NaN   \n",
       "Enhancing In-Hospital Mortality Prediction Usin...                             NaN   \n",
       "\n",
       "                                                    ...       other  \\\n",
       "paper                                               ...               \n",
       "Agent4Ranking: Semantic Robust Ranking via Pers...  ...         NaN   \n",
       "All Should Be Equal in the Eyes of Language Mod...  ...  occupation   \n",
       "BEADs: Bias Evaluation Across Domains               ...         NaN   \n",
       "Enhancing In-Hospital Mortality Prediction Usin...  ...         NaN   \n",
       "\n",
       "                                                                    Conclusion on Representativeness?  \\\n",
       "paper                                                                                                   \n",
       "Agent4Ranking: Semantic Robust Ranking via Pers...                                                yes   \n",
       "All Should Be Equal in the Eyes of Language Mod...  yes, \"Our results on three benchmark datasets ...   \n",
       "BEADs: Bias Evaluation Across Domains                                                             yes   \n",
       "Enhancing In-Hospital Mortality Prediction Usin...                                                yes   \n",
       "\n",
       "                                                   Conclusion on Representativeness_  \\\n",
       "paper                                                                                  \n",
       "Agent4Ranking: Semantic Robust Ranking via Pers...                               yes   \n",
       "All Should Be Equal in the Eyes of Language Mod...                               yes   \n",
       "BEADs: Bias Evaluation Across Domains                                            yes   \n",
       "Enhancing In-Hospital Mortality Prediction Usin...                               yes   \n",
       "\n",
       "                                                   Target_Population num_cat  \\\n",
       "paper                                                                          \n",
       "Agent4Ranking: Semantic Robust Ranking via Pers...         Undefined       2   \n",
       "All Should Be Equal in the Eyes of Language Mod...         Undefined       4   \n",
       "BEADs: Bias Evaluation Across Domains                      Undefined       3   \n",
       "Enhancing In-Hospital Mortality Prediction Usin...         Undefined       1   \n",
       "\n",
       "                                                    context eval_open  \\\n",
       "paper                                                                   \n",
       "Agent4Ranking: Semantic Robust Ranking via Pers...  writing       1.0   \n",
       "All Should Be Equal in the Eyes of Language Mod...  writing       1.0   \n",
       "BEADs: Bias Evaluation Across Domains               writing       1.0   \n",
       "Enhancing In-Hospital Mortality Prediction Usin...  writing       1.0   \n",
       "\n",
       "                                                   eval_closed  \\\n",
       "paper                                                            \n",
       "Agent4Ranking: Semantic Robust Ranking via Pers...         1.0   \n",
       "All Should Be Equal in the Eyes of Language Mod...         NaN   \n",
       "BEADs: Bias Evaluation Across Domains                      NaN   \n",
       "Enhancing In-Hospital Mortality Prediction Usin...         NaN   \n",
       "\n",
       "                                                                                           eval_other  \\\n",
       "paper                                                                                                   \n",
       "Agent4Ranking: Semantic Robust Ranking via Pers...                                                NaN   \n",
       "All Should Be Equal in the Eyes of Language Mod...  evaluating against ant-stereotype datasets (su...   \n",
       "BEADs: Bias Evaluation Across Domains                                                             NaN   \n",
       "Enhancing In-Hospital Mortality Prediction Usin...                                                NaN   \n",
       "\n",
       "                                                    Evaluation_Type  \n",
       "paper                                                                \n",
       "Agent4Ranking: Semantic Robust Ranking via Pers...  open and closed  \n",
       "All Should Be Equal in the Eyes of Language Mod...        free-text  \n",
       "BEADs: Bias Evaluation Across Domains                     free-text  \n",
       "Enhancing In-Hospital Mortality Prediction Usin...        free-text  \n",
       "\n",
       "[4 rows x 26 columns]"
      ]
     },
     "execution_count": 76,
     "metadata": {},
     "output_type": "execute_result"
    }
   ],
   "source": [
    "writing = demo_context_eval[demo_context_eval['context'] == 'writing']\n",
    "writing[writing['Conclusion on Representativeness_'] == 'yes']"
   ]
  },
  {
   "cell_type": "code",
   "execution_count": 77,
   "id": "ecd91820-462f-4af5-a72c-af3bb9b707b7",
   "metadata": {
    "tags": []
   },
   "outputs": [
    {
     "data": {
      "text/html": [
       "<div>\n",
       "<style scoped>\n",
       "    .dataframe tbody tr th:only-of-type {\n",
       "        vertical-align: middle;\n",
       "    }\n",
       "\n",
       "    .dataframe tbody tr th {\n",
       "        vertical-align: top;\n",
       "    }\n",
       "\n",
       "    .dataframe thead th {\n",
       "        text-align: right;\n",
       "    }\n",
       "</style>\n",
       "<table border=\"1\" class=\"dataframe\">\n",
       "  <thead>\n",
       "    <tr style=\"text-align: right;\">\n",
       "      <th></th>\n",
       "      <th>Conclusion on Representativeness_</th>\n",
       "      <th>n/a</th>\n",
       "      <th>no</th>\n",
       "      <th>partial</th>\n",
       "      <th>yes</th>\n",
       "    </tr>\n",
       "    <tr>\n",
       "      <th>context</th>\n",
       "      <th>Evaluation_Type</th>\n",
       "      <th></th>\n",
       "      <th></th>\n",
       "      <th></th>\n",
       "      <th></th>\n",
       "    </tr>\n",
       "  </thead>\n",
       "  <tbody>\n",
       "    <tr>\n",
       "      <th rowspan=\"4\" valign=\"top\">advice</th>\n",
       "      <th>closed-form</th>\n",
       "      <td>5.0</td>\n",
       "      <td>18.0</td>\n",
       "      <td>9.0</td>\n",
       "      <td>19.0</td>\n",
       "    </tr>\n",
       "    <tr>\n",
       "      <th>free-text</th>\n",
       "      <td>1.0</td>\n",
       "      <td>11.0</td>\n",
       "      <td>11.0</td>\n",
       "      <td>9.0</td>\n",
       "    </tr>\n",
       "    <tr>\n",
       "      <th>open and closed</th>\n",
       "      <td>1.0</td>\n",
       "      <td>8.0</td>\n",
       "      <td>3.0</td>\n",
       "      <td>2.0</td>\n",
       "    </tr>\n",
       "    <tr>\n",
       "      <th>other</th>\n",
       "      <td>NaN</td>\n",
       "      <td>1.0</td>\n",
       "      <td>NaN</td>\n",
       "      <td>NaN</td>\n",
       "    </tr>\n",
       "    <tr>\n",
       "      <th rowspan=\"3\" valign=\"top\">content_analysis</th>\n",
       "      <th>closed-form</th>\n",
       "      <td>2.0</td>\n",
       "      <td>3.0</td>\n",
       "      <td>11.0</td>\n",
       "      <td>4.0</td>\n",
       "    </tr>\n",
       "    <tr>\n",
       "      <th>free-text</th>\n",
       "      <td>1.0</td>\n",
       "      <td>NaN</td>\n",
       "      <td>1.0</td>\n",
       "      <td>2.0</td>\n",
       "    </tr>\n",
       "    <tr>\n",
       "      <th>open and closed</th>\n",
       "      <td>NaN</td>\n",
       "      <td>1.0</td>\n",
       "      <td>1.0</td>\n",
       "      <td>NaN</td>\n",
       "    </tr>\n",
       "    <tr>\n",
       "      <th rowspan=\"4\" valign=\"top\">generic</th>\n",
       "      <th>closed-form</th>\n",
       "      <td>NaN</td>\n",
       "      <td>4.0</td>\n",
       "      <td>5.0</td>\n",
       "      <td>4.0</td>\n",
       "    </tr>\n",
       "    <tr>\n",
       "      <th>free-text</th>\n",
       "      <td>NaN</td>\n",
       "      <td>3.0</td>\n",
       "      <td>2.0</td>\n",
       "      <td>5.0</td>\n",
       "    </tr>\n",
       "    <tr>\n",
       "      <th>open and closed</th>\n",
       "      <td>NaN</td>\n",
       "      <td>2.0</td>\n",
       "      <td>1.0</td>\n",
       "      <td>NaN</td>\n",
       "    </tr>\n",
       "    <tr>\n",
       "      <th>other</th>\n",
       "      <td>NaN</td>\n",
       "      <td>2.0</td>\n",
       "      <td>NaN</td>\n",
       "      <td>2.0</td>\n",
       "    </tr>\n",
       "    <tr>\n",
       "      <th rowspan=\"3\" valign=\"top\">simulation</th>\n",
       "      <th>closed-form</th>\n",
       "      <td>NaN</td>\n",
       "      <td>7.0</td>\n",
       "      <td>17.0</td>\n",
       "      <td>9.0</td>\n",
       "    </tr>\n",
       "    <tr>\n",
       "      <th>free-text</th>\n",
       "      <td>1.0</td>\n",
       "      <td>2.0</td>\n",
       "      <td>3.0</td>\n",
       "      <td>4.0</td>\n",
       "    </tr>\n",
       "    <tr>\n",
       "      <th>open and closed</th>\n",
       "      <td>NaN</td>\n",
       "      <td>2.0</td>\n",
       "      <td>4.0</td>\n",
       "      <td>2.0</td>\n",
       "    </tr>\n",
       "    <tr>\n",
       "      <th rowspan=\"3\" valign=\"top\">training_data</th>\n",
       "      <th>closed-form</th>\n",
       "      <td>1.0</td>\n",
       "      <td>NaN</td>\n",
       "      <td>NaN</td>\n",
       "      <td>NaN</td>\n",
       "    </tr>\n",
       "    <tr>\n",
       "      <th>free-text</th>\n",
       "      <td>NaN</td>\n",
       "      <td>NaN</td>\n",
       "      <td>1.0</td>\n",
       "      <td>NaN</td>\n",
       "    </tr>\n",
       "    <tr>\n",
       "      <th>other</th>\n",
       "      <td>1.0</td>\n",
       "      <td>NaN</td>\n",
       "      <td>NaN</td>\n",
       "      <td>NaN</td>\n",
       "    </tr>\n",
       "    <tr>\n",
       "      <th rowspan=\"3\" valign=\"top\">writing</th>\n",
       "      <th>free-text</th>\n",
       "      <td>2.0</td>\n",
       "      <td>5.0</td>\n",
       "      <td>5.0</td>\n",
       "      <td>3.0</td>\n",
       "    </tr>\n",
       "    <tr>\n",
       "      <th>open and closed</th>\n",
       "      <td>NaN</td>\n",
       "      <td>NaN</td>\n",
       "      <td>1.0</td>\n",
       "      <td>1.0</td>\n",
       "    </tr>\n",
       "    <tr>\n",
       "      <th>other</th>\n",
       "      <td>1.0</td>\n",
       "      <td>NaN</td>\n",
       "      <td>NaN</td>\n",
       "      <td>NaN</td>\n",
       "    </tr>\n",
       "  </tbody>\n",
       "</table>\n",
       "</div>"
      ],
      "text/plain": [
       "Conclusion on Representativeness_  n/a    no  partial   yes\n",
       "context          Evaluation_Type                           \n",
       "advice           closed-form       5.0  18.0      9.0  19.0\n",
       "                 free-text         1.0  11.0     11.0   9.0\n",
       "                 open and closed   1.0   8.0      3.0   2.0\n",
       "                 other             NaN   1.0      NaN   NaN\n",
       "content_analysis closed-form       2.0   3.0     11.0   4.0\n",
       "                 free-text         1.0   NaN      1.0   2.0\n",
       "                 open and closed   NaN   1.0      1.0   NaN\n",
       "generic          closed-form       NaN   4.0      5.0   4.0\n",
       "                 free-text         NaN   3.0      2.0   5.0\n",
       "                 open and closed   NaN   2.0      1.0   NaN\n",
       "                 other             NaN   2.0      NaN   2.0\n",
       "simulation       closed-form       NaN   7.0     17.0   9.0\n",
       "                 free-text         1.0   2.0      3.0   4.0\n",
       "                 open and closed   NaN   2.0      4.0   2.0\n",
       "training_data    closed-form       1.0   NaN      NaN   NaN\n",
       "                 free-text         NaN   NaN      1.0   NaN\n",
       "                 other             1.0   NaN      NaN   NaN\n",
       "writing          free-text         2.0   5.0      5.0   3.0\n",
       "                 open and closed   NaN   NaN      1.0   1.0\n",
       "                 other             1.0   NaN      NaN   NaN"
      ]
     },
     "execution_count": 77,
     "metadata": {},
     "output_type": "execute_result"
    }
   ],
   "source": [
    "df = pd.DataFrame(demo_context_eval.groupby(['context',\n",
    "                                        'Evaluation_Type',\n",
    "                                        'Conclusion on Representativeness_']).size().unstack().reindex())\n",
    "df"
   ]
  },
  {
   "cell_type": "code",
   "execution_count": 78,
   "id": "85f814f7-b329-42a0-bdfa-0e0220c4664a",
   "metadata": {
    "tags": []
   },
   "outputs": [],
   "source": [
    "### analyzing demographic categories\n",
    "# gender: not used, no descriptors, m/f, others\n",
    "# race: not used, no descriptors, w/b, w/b/a/h, div\n",
    "# others???"
   ]
  },
  {
   "cell_type": "code",
   "execution_count": 79,
   "id": "74873c9c-e7ec-4f5e-9320-66eed8479ed4",
   "metadata": {
    "tags": []
   },
   "outputs": [
    {
     "name": "stdout",
     "output_type": "stream",
     "text": [
      "HI Undefined 1 (a White person, a Black person)\n",
      "HI Undefined black, white\n",
      "HI Undefined African, Black, White, ...\n",
      "HI U.S. Implicit black, white (names as proxy)\n",
      "HI U.S. Explicit white, non-white\n",
      "HI U.S. Explicit Black\n",
      "HI U.S. Implicit white, black\n",
      "HI Undefined Black, White\n",
      "HI U.S. Explicit black, white, other\n",
      "HI U.S. Explicit white,non-white\n",
      "HI U.S. Explicit white\n",
      "HI U.S. Explicit Black, White, names\n",
      "HI Undefined 1 (proxy is African-American Eglish, Standard American English)\n",
      "HI Undefined Black, White\n",
      "HI U.S. Explicit White mentioned, specified as : resident of the [] ethnicity\n",
      "HI U.S. Explicit White mentioned, specified as : resident of the [] ethnicity\n"
     ]
    },
    {
     "data": {
      "text/plain": [
       "Race\n",
       "W/B                 16\n",
       "W/B/H|A             41\n",
       "diverse             56\n",
       "no subcategories    34\n",
       "not used            79\n",
       "dtype: int64"
      ]
     },
     "execution_count": 79,
     "metadata": {},
     "output_type": "execute_result"
    }
   ],
   "source": [
    "diverse_words = ['alaska', 'islander', 'native', 'chicanos',\n",
    "                'arab', 'multiracial', 'mixed', 'mixed race', 'us (div)']\n",
    "wbha_words = ['latino', 'latin', 'latine', 'asian', 'asia', 'hispanic']\n",
    "cleaned_race = []\n",
    "\n",
    "for _, row in demo_context_eval.reset_index().iterrows():\n",
    "    if type(row['race']) == float:\n",
    "        cleaned_race.append(\"not used\")\n",
    "    elif row['race'] in (['1', \"included, no categories defined\",\n",
    "                          \"implicitly: name\", \"included, no categories defined\",\n",
    "                          \"ethnicity (does not specify) \"]):\n",
    "        cleaned_race.append(\"no subcategories\")\n",
    "    elif row['Target_Population'] in ['Global Population', 'Other']:\n",
    "        cleaned_race.append(\"diverse\")\n",
    "    else:\n",
    "        div_flag = False\n",
    "        wbha_flag = False\n",
    "        \n",
    "        for word in diverse_words:\n",
    "            if word in row['race'].lower():\n",
    "                # print('here again', word, row['Target_Population'], row['race'])\n",
    "                cleaned_race.append(\"diverse\")\n",
    "                div_flag = True\n",
    "                break\n",
    "        \n",
    "        if not div_flag:\n",
    "            # print('here', row['Target_Population'], row['race'])\n",
    "            for word in wbha_words:\n",
    "                if word in row['race'].lower():\n",
    "                    \n",
    "                    cleaned_race.append(\"W/B/H|A\")\n",
    "                    wbha_flag = True\n",
    "                    break\n",
    "        \n",
    "        if not wbha_flag and not div_flag:\n",
    "            cleaned_race.append(\"W/B\")\n",
    "            print('HI', row['Target_Population'], row['race'])\n",
    "            \n",
    "    \n",
    "\n",
    "demo_context_eval['Race'] = cleaned_race\n",
    "demo_context_eval.groupby(['Race']).size()"
   ]
  },
  {
   "cell_type": "code",
   "execution_count": 80,
   "id": "5383b58e-46e5-4e7e-b4cf-410967f7164d",
   "metadata": {},
   "outputs": [
    {
     "data": {
      "text/plain": [
       "target_pop                            35\n",
       "input                                136\n",
       "object                                60\n",
       "default                              128\n",
       "gender                                22\n",
       "race                                  79\n",
       "nationality                          197\n",
       "location                             173\n",
       "immigration                          210\n",
       "age                                   91\n",
       "education                            163\n",
       "political                            163\n",
       "disability                           189\n",
       "religion                             173\n",
       "class                                155\n",
       "sexuality                            198\n",
       "other                                149\n",
       "Conclusion on Representativeness?     15\n",
       "Conclusion on Representativeness_      0\n",
       "Target_Population                      0\n",
       "num_cat                                0\n",
       "context                                0\n",
       "eval_open                            125\n",
       "eval_closed                           79\n",
       "eval_other                           203\n",
       "Evaluation_Type                        0\n",
       "Race                                   0\n",
       "dtype: int64"
      ]
     },
     "execution_count": 80,
     "metadata": {},
     "output_type": "execute_result"
    }
   ],
   "source": [
    "demo_context_eval.isna().sum()"
   ]
  },
  {
   "cell_type": "code",
   "execution_count": 81,
   "id": "06585525-21a7-4c59-84e9-a5fa35ad965e",
   "metadata": {
    "tags": []
   },
   "outputs": [],
   "source": [
    "diverse_words = ['non-binary', 'nonbinary', 'minority', 'other', 'trans', 'mx']"
   ]
  },
  {
   "cell_type": "code",
   "execution_count": 82,
   "id": "db0dfd91-a06a-4df2-8caf-7beaa008abf9",
   "metadata": {
    "tags": []
   },
   "outputs": [
    {
     "data": {
      "text/plain": [
       "Gender\n",
       "M/F                 120\n",
       "diverse              46\n",
       "no subcategories     38\n",
       "not used             22\n",
       "dtype: int64"
      ]
     },
     "execution_count": 82,
     "metadata": {},
     "output_type": "execute_result"
    }
   ],
   "source": [
    "cleaned_gender = []\n",
    "\n",
    "for _, row in demo_context_eval.iterrows():\n",
    "    if type(row['gender']) == float:\n",
    "        cleaned_gender.append(\"not used\")\n",
    "    elif row['gender'] in (['1', \"included, no categries defined\", \"1 (only one category mentioned)\"]):\n",
    "        cleaned_gender.append(\"no subcategories\")\n",
    "    else:\n",
    "        flag = False\n",
    "        for word in diverse_words:\n",
    "            if word in row['gender'].lower():\n",
    "                cleaned_gender.append(\"diverse\")\n",
    "                flag = True\n",
    "                break\n",
    "        if not flag:\n",
    "            cleaned_gender.append(\"M/F\")\n",
    "            # print(row['gender'])\n",
    "\n",
    "demo_context_eval['Gender'] = cleaned_gender\n",
    "demo_context_eval.groupby(['Gender']).size()"
   ]
  },
  {
   "cell_type": "code",
   "execution_count": 83,
   "id": "595c8e07-99a8-4501-bc73-3aebe524c9a6",
   "metadata": {
    "tags": []
   },
   "outputs": [
    {
     "data": {
      "text/html": [
       "<div>\n",
       "<style scoped>\n",
       "    .dataframe tbody tr th:only-of-type {\n",
       "        vertical-align: middle;\n",
       "    }\n",
       "\n",
       "    .dataframe tbody tr th {\n",
       "        vertical-align: top;\n",
       "    }\n",
       "\n",
       "    .dataframe thead th {\n",
       "        text-align: right;\n",
       "    }\n",
       "</style>\n",
       "<table border=\"1\" class=\"dataframe\">\n",
       "  <thead>\n",
       "    <tr style=\"text-align: right;\">\n",
       "      <th>Gender</th>\n",
       "      <th>M/F</th>\n",
       "      <th>diverse</th>\n",
       "      <th>no subcategories</th>\n",
       "      <th>not used</th>\n",
       "    </tr>\n",
       "    <tr>\n",
       "      <th>context</th>\n",
       "      <th></th>\n",
       "      <th></th>\n",
       "      <th></th>\n",
       "      <th></th>\n",
       "    </tr>\n",
       "  </thead>\n",
       "  <tbody>\n",
       "    <tr>\n",
       "      <th>advice</th>\n",
       "      <td>49.0</td>\n",
       "      <td>17.0</td>\n",
       "      <td>18.0</td>\n",
       "      <td>14.0</td>\n",
       "    </tr>\n",
       "    <tr>\n",
       "      <th>content_analysis</th>\n",
       "      <td>14.0</td>\n",
       "      <td>7.0</td>\n",
       "      <td>3.0</td>\n",
       "      <td>2.0</td>\n",
       "    </tr>\n",
       "    <tr>\n",
       "      <th>generic</th>\n",
       "      <td>12.0</td>\n",
       "      <td>10.0</td>\n",
       "      <td>7.0</td>\n",
       "      <td>1.0</td>\n",
       "    </tr>\n",
       "    <tr>\n",
       "      <th>simulation</th>\n",
       "      <td>31.0</td>\n",
       "      <td>8.0</td>\n",
       "      <td>10.0</td>\n",
       "      <td>2.0</td>\n",
       "    </tr>\n",
       "    <tr>\n",
       "      <th>training_data</th>\n",
       "      <td>1.0</td>\n",
       "      <td>2.0</td>\n",
       "      <td>NaN</td>\n",
       "      <td>NaN</td>\n",
       "    </tr>\n",
       "    <tr>\n",
       "      <th>writing</th>\n",
       "      <td>13.0</td>\n",
       "      <td>2.0</td>\n",
       "      <td>NaN</td>\n",
       "      <td>3.0</td>\n",
       "    </tr>\n",
       "  </tbody>\n",
       "</table>\n",
       "</div>"
      ],
      "text/plain": [
       "Gender             M/F  diverse  no subcategories  not used\n",
       "context                                                    \n",
       "advice            49.0     17.0              18.0      14.0\n",
       "content_analysis  14.0      7.0               3.0       2.0\n",
       "generic           12.0     10.0               7.0       1.0\n",
       "simulation        31.0      8.0              10.0       2.0\n",
       "training_data      1.0      2.0               NaN       NaN\n",
       "writing           13.0      2.0               NaN       3.0"
      ]
     },
     "execution_count": 83,
     "metadata": {},
     "output_type": "execute_result"
    }
   ],
   "source": [
    "demo_context_eval.groupby(['context', 'Gender']).size().unstack()"
   ]
  },
  {
   "cell_type": "code",
   "execution_count": 84,
   "id": "c3208706-fe17-4a60-879c-9d4e5f18de96",
   "metadata": {
    "tags": []
   },
   "outputs": [
    {
     "data": {
      "text/html": [
       "<div>\n",
       "<style scoped>\n",
       "    .dataframe tbody tr th:only-of-type {\n",
       "        vertical-align: middle;\n",
       "    }\n",
       "\n",
       "    .dataframe tbody tr th {\n",
       "        vertical-align: top;\n",
       "    }\n",
       "\n",
       "    .dataframe thead th {\n",
       "        text-align: right;\n",
       "    }\n",
       "</style>\n",
       "<table border=\"1\" class=\"dataframe\">\n",
       "  <thead>\n",
       "    <tr style=\"text-align: right;\">\n",
       "      <th>Race</th>\n",
       "      <th>W/B</th>\n",
       "      <th>W/B/H|A</th>\n",
       "      <th>diverse</th>\n",
       "      <th>no subcategories</th>\n",
       "      <th>not used</th>\n",
       "    </tr>\n",
       "    <tr>\n",
       "      <th>Conclusion on Representativeness_</th>\n",
       "      <th></th>\n",
       "      <th></th>\n",
       "      <th></th>\n",
       "      <th></th>\n",
       "      <th></th>\n",
       "    </tr>\n",
       "  </thead>\n",
       "  <tbody>\n",
       "    <tr>\n",
       "      <th>n/a</th>\n",
       "      <td>NaN</td>\n",
       "      <td>NaN</td>\n",
       "      <td>7.0</td>\n",
       "      <td>NaN</td>\n",
       "      <td>9.0</td>\n",
       "    </tr>\n",
       "    <tr>\n",
       "      <th>no</th>\n",
       "      <td>4.0</td>\n",
       "      <td>19.0</td>\n",
       "      <td>19.0</td>\n",
       "      <td>4.0</td>\n",
       "      <td>23.0</td>\n",
       "    </tr>\n",
       "    <tr>\n",
       "      <th>partial</th>\n",
       "      <td>9.0</td>\n",
       "      <td>14.0</td>\n",
       "      <td>21.0</td>\n",
       "      <td>11.0</td>\n",
       "      <td>20.0</td>\n",
       "    </tr>\n",
       "    <tr>\n",
       "      <th>yes</th>\n",
       "      <td>3.0</td>\n",
       "      <td>8.0</td>\n",
       "      <td>9.0</td>\n",
       "      <td>19.0</td>\n",
       "      <td>27.0</td>\n",
       "    </tr>\n",
       "  </tbody>\n",
       "</table>\n",
       "</div>"
      ],
      "text/plain": [
       "Race                               W/B  W/B/H|A  diverse  no subcategories  \\\n",
       "Conclusion on Representativeness_                                            \n",
       "n/a                                NaN      NaN      7.0               NaN   \n",
       "no                                 4.0     19.0     19.0               4.0   \n",
       "partial                            9.0     14.0     21.0              11.0   \n",
       "yes                                3.0      8.0      9.0              19.0   \n",
       "\n",
       "Race                               not used  \n",
       "Conclusion on Representativeness_            \n",
       "n/a                                     9.0  \n",
       "no                                     23.0  \n",
       "partial                                20.0  \n",
       "yes                                    27.0  "
      ]
     },
     "execution_count": 84,
     "metadata": {},
     "output_type": "execute_result"
    }
   ],
   "source": [
    "demo_context_eval.groupby(['Conclusion on Representativeness_', 'Race']).size().unstack()"
   ]
  },
  {
   "cell_type": "code",
   "execution_count": 85,
   "id": "306e16e3-667b-4398-a16c-5c274019f9ff",
   "metadata": {
    "tags": []
   },
   "outputs": [],
   "source": [
    "demo_eval_conclusion = demo_context_eval.reset_index().drop_duplicates(subset = ['paper'])"
   ]
  },
  {
   "cell_type": "code",
   "execution_count": 86,
   "id": "e2ec04a7-4fb5-4d54-81e4-ee6fb1546b50",
   "metadata": {
    "tags": []
   },
   "outputs": [
    {
     "name": "stdout",
     "output_type": "stream",
     "text": [
      "0.4222222222222222\n",
      "0.36538461538461536\n",
      "0.23684210526315788\n",
      "0.39999999999999997\n",
      "0.2692307692307692\n",
      "0.21052631578947373\n",
      "0.0888888888888889\n",
      "0.15384615384615385\n",
      "0.07894736842105265\n",
      "0.0888888888888889\n",
      "0.21153846153846156\n",
      "0.4736842105263158\n"
     ]
    },
    {
     "data": {
      "image/png": "[encoded data removed]",
      "text/plain": [
       "<Figure size 1900x550 with 3 Axes>"
      ]
     },
     "metadata": {},
     "output_type": "display_data"
    }
   ],
   "source": [
    "f, ax = plt.subplots(1, 3, figsize=(19, 5.5), sharey = True, constrained_layout=True,\n",
    "                    gridspec_kw={'width_ratios': [1, 1, 1]})\n",
    "\n",
    "if height > 0.10:\n",
    "    fs = 16\n",
    "else:\n",
    "    fs = 12\n",
    "\n",
    "df = context_demo_conclusion.copy()\n",
    "df_sorted = (df.groupby([\"Conclusion on Representativeness_\", \"eval_type\"]).size() / df.groupby(['Conclusion on Representativeness_']).size()).unstack()\n",
    "df_sorted = df_sorted[[\"both\", \"across\", \"within\", 'none']]\n",
    "df_sorted.plot(kind = 'bar', stacked = True, ax = ax[0], color=[my_colors[\"g\"], my_colors[\"y\"], my_colors[\"b\"], my_colors[\"r\"]])\n",
    "#(df.groupby([#\"exact_context\",\n",
    "#                                 \"Conclusion on Representativeness_\",\n",
    "#                                 \"eval_type\",\n",
    "#                                 ]).size() / df.groupby(['Conclusion on Representativeness_']).size()).unstack()[*categories].plot(kind = 'bar',\n",
    "#                                                                                                                      stacked = True,\n",
    "#                                                                                                                      ax = ax[0])\n",
    "\n",
    "sns.move_legend(ax[0], \"upper center\", bbox_to_anchor=(.5, 1.4),\n",
    "                ncols = 2, title = \"a) Evaluation by Demographics\")\n",
    "ax[0].set_xlabel(\"Conclusion of Representativeness\")\n",
    "ax[0].set_ylabel(\"Proportion\")\n",
    "# ax[0].set_title(\"a) Evaluation by Demographics\")\n",
    "\n",
    "for p in ax[0].patches:\n",
    "    width, height = p.get_width(), p.get_height()\n",
    "    x, y = p.get_xy()\n",
    "    if height >= 0.07:\n",
    "        ax[0].text(x+width/2, \n",
    "            y+height/2, \n",
    "            \"%0.02f\" %height,\n",
    "            fontsize = fs,\n",
    "            color = 'white',\n",
    "            horizontalalignment='center', \n",
    "            verticalalignment='center')\n",
    "        \n",
    "###########################################################################\n",
    "\n",
    "demo_eval_conclusion_gender = demo_eval_conclusion[demo_eval_conclusion['Gender'] != 'not used']\n",
    "demo_eval_conclusion_gender = demo_eval_conclusion_gender[demo_eval_conclusion_gender['Conclusion on Representativeness_'] != 'n/a']\n",
    "\n",
    "demo_sorted = (demo_eval_conclusion_gender.drop_duplicates().groupby(['Conclusion on Representativeness_','Gender']).size() / demo_eval_conclusion_gender.groupby(['Conclusion on Representativeness_']).size()).unstack()[[\"diverse\",\n",
    "\"M/F\", \"no subcategories\"]]\n",
    "demo_sorted.plot(kind = 'bar',stacked = True, ax = ax[1], color=[my_colors[\"g\"], my_colors[\"b\"], my_colors[\"r\"]])\n",
    "\n",
    "sns.move_legend(ax[1], \"upper center\", bbox_to_anchor=(.5, 1.4),\n",
    "                ncols = 2, title = \"b) Gender Categories\")\n",
    "ax[1].set_xlabel(\"Conclusion of Representativeness\")\n",
    "\n",
    "for p in ax[1].patches:\n",
    "    width, height = p.get_width(), p.get_height()\n",
    "    x, y = p.get_xy()\n",
    "    if height >= 0.07:\n",
    "        ax[1].text(x+width/2, \n",
    "            y+height/2, \n",
    "            \"%0.02f\" %height,\n",
    "            fontsize = fs,\n",
    "            color = 'white',\n",
    "            horizontalalignment='center', \n",
    "            verticalalignment='center')\n",
    "        \n",
    "###########################################################################\n",
    "\n",
    "demo_eval_conclusion_race = demo_eval_conclusion[demo_eval_conclusion['Race'] != 'not used']    \n",
    "demo_eval_conclusion_race = demo_eval_conclusion_race[demo_eval_conclusion_race['Conclusion on Representativeness_'] != 'n/a']\n",
    "race_sorted = (demo_eval_conclusion_race.drop_duplicates().groupby(['Conclusion on Representativeness_','Race']).size() / demo_eval_conclusion_race.groupby(['Conclusion on Representativeness_']).size()).unstack()[[\"diverse\",\n",
    "\"W/B/H|A\", \"W/B\", \"no subcategories\"]]\n",
    "race_sorted.plot(kind = 'bar', stacked = True, ax = ax[2], color=[my_colors[\"g\"], my_colors[\"y\"], my_colors[\"b\"], my_colors[\"r\"]])\n",
    "ax[2].set_xlabel(\"Conclusion of Representativeness\")\n",
    "\n",
    "\n",
    "for p in ax[2].patches:\n",
    "    width, height = p.get_width(), p.get_height()\n",
    "    x, y = p.get_xy()\n",
    "    print(height)\n",
    "    if height > 0.06:\n",
    "        ax[2].text(x+width/2, \n",
    "            y+height/2, \n",
    "            \"%0.02f\" %height,\n",
    "            fontsize = fs,\n",
    "            color = 'white',\n",
    "            horizontalalignment='center', \n",
    "            verticalalignment='center')\n",
    "        \n",
    "sns.move_legend(ax[2], \"upper center\", bbox_to_anchor=(.5, 1.4),\n",
    "                ncols = 2, title = \"c) Racial Categories\")\n",
    "\n",
    "for a in ax:\n",
    "    a.set_xlabel(None)\n",
    "    a.set_xticklabels(a.get_xticklabels(), rotation=0)\n",
    "    a.spines['right'].set_visible(False)\n",
    "    a.spines['top'].set_visible(False)\n",
    "    #a.spines['bottom'].set_visible(False)\n",
    "    #a.tick_params(axis='x', which='both', length=0)\n",
    "\n",
    "plt.tight_layout()\n",
    "plt.savefig(\"../figures/disagreements.pdf\", dpi = 200)\n",
    "\n"
   ]
  },
  {
   "cell_type": "code",
   "execution_count": null,
   "id": "0bb1b8cb-24ba-4970-a793-96d9f106ff08",
   "metadata": {},
   "outputs": [],
   "source": []
  },
  {
   "cell_type": "code",
   "execution_count": null,
   "id": "9642a08c",
   "metadata": {},
   "outputs": [],
   "source": []
  }
 ],
 "metadata": {
  "kernelspec": {
   "display_name": "Python 3 (ipykernel)",
   "language": "python",
   "name": "python3"
  },
  "language_info": {
   "codemirror_mode": {
    "name": "ipython",
    "version": 3
   },
   "file_extension": ".py",
   "mimetype": "text/x-python",
   "name": "python",
   "nbconvert_exporter": "python",
   "pygments_lexer": "ipython3",
   "version": "3.11.5"
  }
 },
 "nbformat": 4,
 "nbformat_minor": 5
}
