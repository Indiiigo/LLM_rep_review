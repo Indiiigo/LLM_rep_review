{
 "cells": [
  {
   "cell_type": "markdown",
   "id": "80378dfa-487c-430d-b9a5-2dd54cacf9fb",
   "metadata": {},
   "source": [
    "## Temporal analysis"
   ]
  },
  {
   "cell_type": "code",
   "execution_count": 1,
   "id": "a43ffac7",
   "metadata": {},
   "outputs": [],
   "source": [
    "import warnings\n",
    "warnings.filterwarnings('ignore')"
   ]
  },
  {
   "cell_type": "code",
   "execution_count": 2,
   "id": "1735ffe3-d8c8-4491-adee-31a8ee3fc2aa",
   "metadata": {},
   "outputs": [],
   "source": [
    "import pandas as pd\n",
    "import seaborn as sns\n",
    "import string\n",
    "import matplotlib.pyplot as plt\n",
    "\n",
    "sns.set_context(\"talk\")\n",
    "sns.set_palette(\"colorblind\") "
   ]
  },
  {
   "cell_type": "code",
   "execution_count": 3,
   "id": "3532ae9b",
   "metadata": {},
   "outputs": [
    {
     "name": "stdout",
     "output_type": "stream",
     "text": [
      "(0.00392156862745098, 0.45098039215686275, 0.6980392156862745)\n",
      "(0.8705882352941177, 0.5607843137254902, 0.0196078431372549)\n",
      "(0.00784313725490196, 0.6196078431372549, 0.45098039215686275)\n",
      "(0.8352941176470589, 0.3686274509803922, 0.0)\n",
      "(0.8, 0.47058823529411764, 0.7372549019607844)\n",
      "(0.792156862745098, 0.5686274509803921, 0.3803921568627451)\n",
      "(0.984313725490196, 0.6862745098039216, 0.8941176470588236)\n",
      "(0.5803921568627451, 0.5803921568627451, 0.5803921568627451)\n",
      "(0.9254901960784314, 0.8823529411764706, 0.2)\n",
      "(0.33725490196078434, 0.7058823529411765, 0.9137254901960784)\n"
     ]
    }
   ],
   "source": [
    "palette = sns.color_palette(\"colorblind\")\n",
    "for color in palette:\n",
    "    print(color)\n",
    "\n",
    "my_colors = {\"b\": (0.00392156862745098, 0.45098039215686275, 0.6980392156862745),\n",
    "             \"y\": (0.8705882352941177, 0.5607843137254902, 0.0196078431372549),\n",
    "             \"g\": (0.00784313725490196, 0.6196078431372549, 0.45098039215686275),\n",
    "             \"r\": (0.8352941176470589, 0.3686274509803922, 0.0)}"
   ]
  },
  {
   "cell_type": "code",
   "execution_count": 4,
   "id": "c8290e1f",
   "metadata": {},
   "outputs": [],
   "source": [
    "people_measure_context = pd.read_csv(\"../data/all_annotations.csv\")#.set_index('paper')"
   ]
  },
  {
   "cell_type": "code",
   "execution_count": 5,
   "id": "6b8082ea-19ab-46c1-a305-90e59fc595c9",
   "metadata": {
    "tags": []
   },
   "outputs": [
    {
     "data": {
      "text/plain": [
       "211"
      ]
     },
     "execution_count": 5,
     "metadata": {},
     "output_type": "execute_result"
    }
   ],
   "source": [
    "len(people_measure_context)"
   ]
  },
  {
   "cell_type": "code",
   "execution_count": 6,
   "id": "4dfa97e6-3916-44a1-9e11-7be232745dcd",
   "metadata": {},
   "outputs": [],
   "source": [
    "people_measure_context['time'] = [i.split('/')[-1] if type(i) != float else i for i in people_measure_context['link']]\n",
    "people_measure_context['time'] = [i.split('.')[0] if type(i) != float else i for i in people_measure_context['time']]"
   ]
  },
  {
   "cell_type": "code",
   "execution_count": 7,
   "id": "bb140902-e33e-4440-95e8-17b7dbf0827e",
   "metadata": {
    "tags": []
   },
   "outputs": [
    {
     "data": {
      "text/html": [
       "<div>\n",
       "<style scoped>\n",
       "    .dataframe tbody tr th:only-of-type {\n",
       "        vertical-align: middle;\n",
       "    }\n",
       "\n",
       "    .dataframe tbody tr th {\n",
       "        vertical-align: top;\n",
       "    }\n",
       "\n",
       "    .dataframe thead th {\n",
       "        text-align: right;\n",
       "    }\n",
       "</style>\n",
       "<table border=\"1\" class=\"dataframe\">\n",
       "  <thead>\n",
       "    <tr style=\"text-align: right;\">\n",
       "      <th></th>\n",
       "      <th>paper</th>\n",
       "      <th>contexts:with_interactions</th>\n",
       "      <th>contexts:without_interactions</th>\n",
       "      <th>contexts:content_analysis</th>\n",
       "      <th>contexts:writing</th>\n",
       "      <th>contexts:training_data</th>\n",
       "      <th>contexts:advice</th>\n",
       "      <th>LLMs studied</th>\n",
       "      <th>link</th>\n",
       "      <th>year_noarxiv</th>\n",
       "      <th>...</th>\n",
       "      <th>age</th>\n",
       "      <th>education</th>\n",
       "      <th>political</th>\n",
       "      <th>disability</th>\n",
       "      <th>religion</th>\n",
       "      <th>class</th>\n",
       "      <th>sexuality</th>\n",
       "      <th>other</th>\n",
       "      <th>Conclusion on Representativeness?</th>\n",
       "      <th>time</th>\n",
       "    </tr>\n",
       "  </thead>\n",
       "  <tbody>\n",
       "    <tr>\n",
       "      <th>0</th>\n",
       "      <td>Argyle et al.</td>\n",
       "      <td>NaN</td>\n",
       "      <td>1</td>\n",
       "      <td>NaN</td>\n",
       "      <td>NaN</td>\n",
       "      <td>NaN</td>\n",
       "      <td>NaN</td>\n",
       "      <td>GPT-3</td>\n",
       "      <td>NaN</td>\n",
       "      <td>NaN</td>\n",
       "      <td>...</td>\n",
       "      <td>18-30, 31-45, 46-60, 60+</td>\n",
       "      <td>NaN</td>\n",
       "      <td>Conservatives, Moderates, Liberals</td>\n",
       "      <td>NaN</td>\n",
       "      <td>1</td>\n",
       "      <td>NaN</td>\n",
       "      <td>NaN</td>\n",
       "      <td>NaN</td>\n",
       "      <td>yes</td>\n",
       "      <td>NaN</td>\n",
       "    </tr>\n",
       "    <tr>\n",
       "      <th>1</th>\n",
       "      <td>Aher et al.</td>\n",
       "      <td>1 (Ultimatum Game)</td>\n",
       "      <td>1 (Milgram Shock Experiment)</td>\n",
       "      <td>1 (Garden-path)</td>\n",
       "      <td>NaN</td>\n",
       "      <td>NaN</td>\n",
       "      <td>1 (Wisdom of crowds)</td>\n",
       "      <td>text-ada-001, text-babbage-001, text-curie-001...</td>\n",
       "      <td>NaN</td>\n",
       "      <td>NaN</td>\n",
       "      <td>...</td>\n",
       "      <td>NaN</td>\n",
       "      <td>NaN</td>\n",
       "      <td>NaN</td>\n",
       "      <td>NaN</td>\n",
       "      <td>NaN</td>\n",
       "      <td>NaN</td>\n",
       "      <td>NaN</td>\n",
       "      <td>NaN</td>\n",
       "      <td>partial (hyperaccuracy bias)</td>\n",
       "      <td>NaN</td>\n",
       "    </tr>\n",
       "    <tr>\n",
       "      <th>2</th>\n",
       "      <td>Gerosa et al.</td>\n",
       "      <td>1 (multi-persona)</td>\n",
       "      <td>1 (mega-persona? statistical approach)</td>\n",
       "      <td>NaN</td>\n",
       "      <td>NaN</td>\n",
       "      <td>NaN</td>\n",
       "      <td>NaN</td>\n",
       "      <td>GPT-4</td>\n",
       "      <td>NaN</td>\n",
       "      <td>NaN</td>\n",
       "      <td>...</td>\n",
       "      <td>24 or less, 25-34, 35-44, 55-64, over 64</td>\n",
       "      <td>NaN</td>\n",
       "      <td>NaN</td>\n",
       "      <td>NaN</td>\n",
       "      <td>NaN</td>\n",
       "      <td>paid, unpaid, mostly paid, mostly unpaid</td>\n",
       "      <td>NaN</td>\n",
       "      <td>NaN</td>\n",
       "      <td>yes, closely mimic human generated-content</td>\n",
       "      <td>NaN</td>\n",
       "    </tr>\n",
       "    <tr>\n",
       "      <th>3</th>\n",
       "      <td>Park et al.</td>\n",
       "      <td>1</td>\n",
       "      <td>NaN</td>\n",
       "      <td>NaN</td>\n",
       "      <td>NaN</td>\n",
       "      <td>NaN</td>\n",
       "      <td>NaN</td>\n",
       "      <td>GPT-3</td>\n",
       "      <td>NaN</td>\n",
       "      <td>NaN</td>\n",
       "      <td>...</td>\n",
       "      <td>NaN</td>\n",
       "      <td>implicitly: occupation, student, PhD (via desc...</td>\n",
       "      <td>implicitly: comments shared (not encouraging s...</td>\n",
       "      <td>NaN</td>\n",
       "      <td>NaN</td>\n",
       "      <td>NaN</td>\n",
       "      <td>NaN</td>\n",
       "      <td>occupation</td>\n",
       "      <td>yes, study participants were only slightly bet...</td>\n",
       "      <td>NaN</td>\n",
       "    </tr>\n",
       "  </tbody>\n",
       "</table>\n",
       "<p>4 rows × 40 columns</p>\n",
       "</div>"
      ],
      "text/plain": [
       "           paper contexts:with_interactions  \\\n",
       "0  Argyle et al.                        NaN   \n",
       "1    Aher et al.         1 (Ultimatum Game)   \n",
       "2  Gerosa et al.          1 (multi-persona)   \n",
       "3    Park et al.                          1   \n",
       "\n",
       "            contexts:without_interactions contexts:content_analysis  \\\n",
       "0                                       1                       NaN   \n",
       "1            1 (Milgram Shock Experiment)           1 (Garden-path)   \n",
       "2  1 (mega-persona? statistical approach)                       NaN   \n",
       "3                                     NaN                       NaN   \n",
       "\n",
       "  contexts:writing contexts:training_data       contexts:advice  \\\n",
       "0              NaN                    NaN                   NaN   \n",
       "1              NaN                    NaN  1 (Wisdom of crowds)   \n",
       "2              NaN                    NaN                   NaN   \n",
       "3              NaN                    NaN                   NaN   \n",
       "\n",
       "                                        LLMs studied link year_noarxiv  ...  \\\n",
       "0                                              GPT-3  NaN          NaN  ...   \n",
       "1  text-ada-001, text-babbage-001, text-curie-001...  NaN          NaN  ...   \n",
       "2                                              GPT-4  NaN          NaN  ...   \n",
       "3                                              GPT-3  NaN          NaN  ...   \n",
       "\n",
       "                                        age  \\\n",
       "0                  18-30, 31-45, 46-60, 60+   \n",
       "1                                       NaN   \n",
       "2  24 or less, 25-34, 35-44, 55-64, over 64   \n",
       "3                                       NaN   \n",
       "\n",
       "                                           education  \\\n",
       "0                                                NaN   \n",
       "1                                                NaN   \n",
       "2                                                NaN   \n",
       "3  implicitly: occupation, student, PhD (via desc...   \n",
       "\n",
       "                                           political  disability  religion  \\\n",
       "0                 Conservatives, Moderates, Liberals         NaN         1   \n",
       "1                                                NaN         NaN       NaN   \n",
       "2                                                NaN         NaN       NaN   \n",
       "3  implicitly: comments shared (not encouraging s...         NaN       NaN   \n",
       "\n",
       "                                      class  sexuality       other  \\\n",
       "0                                       NaN        NaN         NaN   \n",
       "1                                       NaN        NaN         NaN   \n",
       "2  paid, unpaid, mostly paid, mostly unpaid        NaN         NaN   \n",
       "3                                       NaN        NaN  occupation   \n",
       "\n",
       "                   Conclusion on Representativeness?  time  \n",
       "0                                                yes   NaN  \n",
       "1                       partial (hyperaccuracy bias)   NaN  \n",
       "2         yes, closely mimic human generated-content   NaN  \n",
       "3  yes, study participants were only slightly bet...   NaN  \n",
       "\n",
       "[4 rows x 40 columns]"
      ]
     },
     "execution_count": 7,
     "metadata": {},
     "output_type": "execute_result"
    }
   ],
   "source": [
    "people_measure_context[people_measure_context['time'].isna()]"
   ]
  },
  {
   "cell_type": "code",
   "execution_count": 8,
   "id": "979896c9-401e-4ead-95e0-3961323a2957",
   "metadata": {},
   "outputs": [],
   "source": [
    "brisbee = 'Bisbee, James, et al. \"Synthetic replacements for human survey data? The perils of large language models.\" Political Analysis (2023): 1-16.'"
   ]
  },
  {
   "cell_type": "code",
   "execution_count": 9,
   "id": "ee6dbce8-c390-4fb7-bf1a-a569907cc8c6",
   "metadata": {},
   "outputs": [],
   "source": [
    "people_measure_context.loc[people_measure_context['paper'] == brisbee, 'time'] = '2024'"
   ]
  },
  {
   "cell_type": "code",
   "execution_count": 10,
   "id": "236bb7b4-89a8-4c53-9ab7-730417d2af15",
   "metadata": {
    "tags": []
   },
   "outputs": [],
   "source": [
    "people_measure_context.loc[people_measure_context['paper'] == \"Argyle et al.\", 'time'] = '2022' # *preprint date\n",
    "people_measure_context.loc[people_measure_context['paper'] == \"Aher et al.\", 'time'] = '2022' # *preprint date\n",
    "people_measure_context.loc[people_measure_context['paper'] == \"Gerosa et al.\", 'time'] = '2023' \n",
    "people_measure_context.loc[people_measure_context['paper'] == \"Park et al.\", 'time'] = '2022'\n",
    "people_measure_context.loc[people_measure_context['paper'] == \"MBIAS\", 'time'] = '2024'"
   ]
  },
  {
   "cell_type": "code",
   "execution_count": 11,
   "id": "97269d80-7080-4f97-b384-85dd39b4b756",
   "metadata": {
    "tags": []
   },
   "outputs": [
    {
     "data": {
      "text/plain": [
       "time\n",
       "060d472f6efce06bef0123c974a24fdcc54c0e6d     1\n",
       "15391523                                     1\n",
       "1909                                         1\n",
       "2022                                         4\n",
       "2023                                         3\n",
       "2024                                        10\n",
       "2205                                         1\n",
       "2209                                         3\n",
       "2210                                         2\n",
       "2212                                         1\n",
       "2302                                         2\n",
       "2303                                         1\n",
       "2305                                         6\n",
       "2306                                         3\n",
       "2307                                         1\n",
       "2308                                         2\n",
       "2309                                         8\n",
       "2310                                         6\n",
       "2311                                        12\n",
       "2312                                         7\n",
       "2401                                         3\n",
       "2402                                         5\n",
       "2403                                         9\n",
       "2404                                         6\n",
       "2405                                        11\n",
       "2406                                        16\n",
       "2407                                        11\n",
       "2408                                         5\n",
       "2409                                        11\n",
       "2410                                        19\n",
       "2411                                         9\n",
       "3630744                                      1\n",
       "3639856                                      1\n",
       "3657604                                      1\n",
       "3674805                                      1\n",
       "3689904                                      1\n",
       "ahfe1004637                                  1\n",
       "arxiv                                        5\n",
       "bcp                                          1\n",
       "j                                            1\n",
       "opth                                         1\n",
       "papers                                       1\n",
       "pnas                                         1\n",
       "preprints202409                              1\n",
       "s00405-024-08985-3                           1\n",
       "s10799-024-00430-5                           1\n",
       "s13688-024-00466-1                           1\n",
       "s40537-024-00986-7                           1\n",
       "s41598-024-73306-x                           1\n",
       "s41599-024-03609-x                           1\n",
       "ssrn                                         3\n",
       "taqbjh83                                     1\n",
       "v1                                           3\n",
       "xeh64                                        1\n",
       "dtype: int64"
      ]
     },
     "execution_count": 11,
     "metadata": {},
     "output_type": "execute_result"
    }
   ],
   "source": [
    "people_measure_context.groupby('time').size()"
   ]
  },
  {
   "cell_type": "code",
   "execution_count": 12,
   "id": "db5c7c57-1caa-47e7-ae5e-83e290bdc7fd",
   "metadata": {
    "tags": []
   },
   "outputs": [
    {
     "data": {
      "text/plain": [
       "(array(['The Woman Worked as a Babysitter: On Biases in Language Generation',\n",
       "        'Implicit bias in large language models: Experimental proof and implications for education',\n",
       "        'Application of Large Language Models in Stochastic Sampling Algorithms for Predictive Modeling of Population Behavior',\n",
       "        'Risks of Discrimination Violence and Unlawful Actions in LLM-Driven Robots',\n",
       "        'Popular LLMs Amplify Race and Gender Disparities in Human Mobility',\n",
       "        'Kalinin, Kirill. \"Improving GPT Generated Synthetic Samples with Sampling-Permutation Algorithm.\" Available at SSRN 4548937 (2023).',\n",
       "        \"Coding Inequity: Assessing GPT-4's Potential for Perpetuating Racial and Gender Biases in Healthcare\",\n",
       "        'Simulating Climate Change Discussion with Large Language Models: Considerations for Science Communication at Scale',\n",
       "        'Racial Steering by Large Language Models: A Prospective Audit of GPT-4 on Housing Recommendations',\n",
       "        'Can ChatGPT emulate humans in software engineering surveys?',\n",
       "        'ChatGPT for Mental Health Applications: A study on biases',\n",
       "        'Assessing the Predictive Power of Social Media Data-Fed Large Language Models on Vote Preference',\n",
       "        'Who is Legion?: Surfacing Demographic Voices in Large Language Models',\n",
       "        'Enhancing In-Hospital Mortality Prediction Using Multi-Representational\\n  Learning with LLM-Generated Expert Summaries',\n",
       "        'Performance and biases of Large Language Models in public opinion simulation',\n",
       "        'Large language models, social demography, and hegemony: comparing authorship in human and synthetic text',\n",
       "        'Gastrogpt: Development and Controlled Testing of a Proof-Of Concept Customized Clinical Language Model',\n",
       "        'Addressing Gender Bias in Generative Large Language Models',\n",
       "        'Chasing sleep physicians: ChatGPT-4o on the interpretation of polysomnographic results',\n",
       "        'Different Bias Under Different Criteria: Assessing Bias in LLMs with a\\n  Fact-Based Approach',\n",
       "        'Dissecting bias of ChatGPT in college major recommendations',\n",
       "        'AfriMed-QA: A Pan-African, Multi-Specialty, Medical Question-Answering\\n  Benchmark Dataset',\n",
       "        'Impact of Demographic Modifiers on Readability of Myopia Education Materials Generated by Large Language Models',\n",
       "        'Enhancing Patient-Physician Communication: Simulating African American Vernacular English in Medical Diagnostics with Large Language Models',\n",
       "        'Bank Run, Interrupted: Modeling Deposit Withdrawals with Generative AI',\n",
       "        'Plastic Surgery and Artificial Intelligence: How ChatGPT Improved Operation Note Accuracy, Time, and Education',\n",
       "        'Segmentation using large language models: A new typology of American neighborhoods',\n",
       "        'Unveiling Performance Challenges of Large Language Models in\\n  Low-Resource Healthcare: A Demographic Fairness Perspective',\n",
       "        'Comparison of Large Language Models Versus Traditional Information Extraction Methods for Real World Evidence of Patient Symptomatology in Acute and Post-Acute Sequelae of SARS-CoV-2',\n",
       "        'Evaluating the capability of ChatGPT in predicting drug–drug interactions: Real‐world evidence using hospitalized patient data',\n",
       "        'Fairness Identification of Large Language Models in Recommendation',\n",
       "        'A preliminary, large-scale evaluation of the collaborative potential of human and machine creativity',\n",
       "        'GPT-3.5 altruistic advice is sensitive to reciprocal concerns but not to strategic risk',\n",
       "        'Evaluating the persuasive influence of political microtargeting with large language models'],\n",
       "       dtype=object),\n",
       " 34)"
      ]
     },
     "execution_count": 12,
     "metadata": {},
     "output_type": "execute_result"
    }
   ],
   "source": [
    "bad_papers = people_measure_context[~people_measure_context['time'].str.startswith('2')]['paper'].values\n",
    "bad_papers, len(bad_papers)"
   ]
  },
  {
   "cell_type": "code",
   "execution_count": 13,
   "id": "83b1e60c-1cee-4147-b588-897532b50722",
   "metadata": {},
   "outputs": [],
   "source": [
    "# manually enter for non-arxiv ones\n",
    "people_measure_context.loc[people_measure_context['paper'] == bad_papers[1], 'time'] = '2023'\n",
    "people_measure_context.loc[people_measure_context['paper'] == bad_papers[2], 'time'] = '2023'\n",
    "people_measure_context.loc[people_measure_context['paper'] == bad_papers[3], 'time'] = '2024'\n",
    "people_measure_context.loc[people_measure_context['paper'] == bad_papers[4], 'time'] = '2024'\n",
    "people_measure_context.loc[people_measure_context['paper'] == bad_papers[5], 'time'] = '2024'\n",
    "people_measure_context.loc[people_measure_context['paper'] == bad_papers[6], 'time'] = '2024'\n",
    "people_measure_context.loc[people_measure_context['paper'] == bad_papers[7], 'time'] = '2024'"
   ]
  },
  {
   "cell_type": "code",
   "execution_count": 14,
   "id": "6ea2d2b5",
   "metadata": {},
   "outputs": [
    {
     "data": {
      "text/plain": [
       "array([nan, nan, nan, nan, nan, nan, nan, nan, nan, nan, nan, nan, nan,\n",
       "       nan, nan, nan, nan, nan, nan, nan, nan, nan, nan, nan, nan, nan,\n",
       "       nan, nan, nan, nan,\n",
       "       'results for gen. model only found in appendix', nan, nan, nan,\n",
       "       'arxiv 2 starts here', nan, nan, nan, nan, nan, nan, nan, nan, nan,\n",
       "       nan, nan, nan, nan, nan, nan, nan, '2024', '2024', '2024', '2024',\n",
       "       nan, nan, nan, 'ask Marlene', 'check with the other 2', nan, nan,\n",
       "       nan, 'check with the other 2, object vs. output demographic DONE',\n",
       "       'double check, only the language generation task is in scope',\n",
       "       'double check with Marlene', nan, nan, nan,\n",
       "       'check with the other 2', nan, nan, nan,\n",
       "       'mention to Marlene re data attribution', nan, 'Marlene to check',\n",
       "       nan, nan, nan, nan, nan, 'Marlene', nan, nan, nan, nan, nan, nan,\n",
       "       nan, nan, nan, nan, nan, 'debiasing, double check', nan, nan, nan,\n",
       "       nan, nan, nan, nan, 'OpinionQA dataset', nan,\n",
       "       'could also be generic', nan, nan, nan, nan, '17.05.2024', nan,\n",
       "       nan, '2023', nan, '2023', '2024', '2024', '2024', '2024', '2024',\n",
       "       'debiasing/alignment paper', nan, 'audit', nan, 'audit', 'audit',\n",
       "       'audit, hiring', nan, 'debiasing', nan, nan, nan, nan, nan, '2024',\n",
       "       '2024', '2024', '2024', '2024', '2024', '2024', '2024', '2024',\n",
       "       '2024', '2024', '2024', '2024', '2023', '2023', '2024', '2024',\n",
       "       '2024', '2024', nan, nan, nan, nan, nan, nan, nan, nan, nan, nan,\n",
       "       nan, nan, nan, nan, nan, nan, nan, nan, nan, nan, nan, nan, nan,\n",
       "       nan, nan, nan, nan, 'Indira', nan, nan, nan, nan, 'Indira (done)',\n",
       "       nan, nan, nan, nan, 'arxi v2 starts here', nan, nan, nan, nan, nan,\n",
       "       nan, nan, nan, nan, nan, nan, 'Friday', nan, nan, nan, nan, '2024',\n",
       "       '2024', '2024', '2024', '2024'], dtype=object)"
      ]
     },
     "execution_count": 14,
     "metadata": {},
     "output_type": "execute_result"
    }
   ],
   "source": [
    "people_measure_context['year_noarxiv'].values"
   ]
  },
  {
   "cell_type": "code",
   "execution_count": 15,
   "id": "b51b9c24",
   "metadata": {},
   "outputs": [
    {
     "data": {
      "text/plain": [
       "211"
      ]
     },
     "execution_count": 15,
     "metadata": {},
     "output_type": "execute_result"
    }
   ],
   "source": [
    "len(people_measure_context)"
   ]
  },
  {
   "cell_type": "code",
   "execution_count": 16,
   "id": "08ee4b3f-9303-4902-9134-f60e91768963",
   "metadata": {
    "tags": []
   },
   "outputs": [
    {
     "data": {
      "text/plain": [
       "time\n",
       "1909                   1\n",
       "2022                   4\n",
       "2023                   5\n",
       "2024                  15\n",
       "2205                   1\n",
       "2209                   3\n",
       "2210                   2\n",
       "2212                   1\n",
       "2302                   2\n",
       "2303                   1\n",
       "2305                   6\n",
       "2306                   3\n",
       "2307                   1\n",
       "2308                   2\n",
       "2309                   8\n",
       "2310                   6\n",
       "2311                  12\n",
       "2312                   7\n",
       "2401                   3\n",
       "2402                   5\n",
       "2403                   9\n",
       "2404                   6\n",
       "2405                  11\n",
       "2406                  16\n",
       "2407                  11\n",
       "2408                   5\n",
       "2409                  11\n",
       "2410                  19\n",
       "2411                   9\n",
       "3630744                1\n",
       "3639856                1\n",
       "3674805                1\n",
       "3689904                1\n",
       "arxiv                  4\n",
       "bcp                    1\n",
       "j                      1\n",
       "opth                   1\n",
       "pnas                   1\n",
       "preprints202409        1\n",
       "s00405-024-08985-3     1\n",
       "s10799-024-00430-5     1\n",
       "s13688-024-00466-1     1\n",
       "s40537-024-00986-7     1\n",
       "s41598-024-73306-x     1\n",
       "s41599-024-03609-x     1\n",
       "ssrn                   3\n",
       "v1                     3\n",
       "xeh64                  1\n",
       "dtype: int64"
      ]
     },
     "execution_count": 16,
     "metadata": {},
     "output_type": "execute_result"
    }
   ],
   "source": [
    "people_measure_context.groupby('time').size()"
   ]
  },
  {
   "cell_type": "code",
   "execution_count": 17,
   "id": "2773c45b-bd9d-4962-b7da-3a131ed28eb9",
   "metadata": {},
   "outputs": [
    {
     "name": "stdout",
     "output_type": "stream",
     "text": [
      "2  3689904 2024\n",
      "2  3674805 2024\n",
      "2  3639856 2024\n",
      "2  3630744 2024\n",
      "2  arxiv 2024\n",
      "2  s41599-024-03609-x 2024\n",
      "2  s40537-024-00986-7 2024\n",
      "2  s00405-024-08985-3 2024\n",
      "2  arxiv 2024\n",
      "2  s10799-024-00430-5 2024\n",
      "2  arxiv 2024\n",
      "2  s13688-024-00466-1 2024\n",
      "2  arxiv 2024\n",
      "2  xeh64 2024\n",
      "2  s41598-024-73306-x 2024\n"
     ]
    },
    {
     "data": {
      "text/plain": [
       "211"
      ]
     },
     "execution_count": 17,
     "metadata": {},
     "output_type": "execute_result"
    }
   ],
   "source": [
    "years = []\n",
    "bad_ones = ['20bc', '20j', '20op', '20pn', '20pr',\n",
    "       '20ss', '20v1']\n",
    "for _, row in people_measure_context.iterrows():\n",
    "    if '20' not in row['time'] and '19' not in row['time'] and len(row['time']) > 4:\n",
    "        print('2 ', row['time'], row['year_noarxiv'])\n",
    "        years.append(row['year_noarxiv'])\n",
    "    elif row['time'][:2] == '20':\n",
    "        years.append('20' + row['time'][2:])\n",
    "    else:\n",
    "        years.append('20' + row['time'][:2])\n",
    "\n",
    "    \n",
    "people_measure_context['Year'] = years\n",
    "\n",
    "\n",
    "\n",
    "\n",
    "people_measure_context.groupby('Year').size()\n",
    "len(people_measure_context)"
   ]
  },
  {
   "cell_type": "code",
   "execution_count": 18,
   "id": "46a4a1dc",
   "metadata": {},
   "outputs": [
    {
     "name": "stdout",
     "output_type": "stream",
     "text": [
      "1  ssrn 2024\n",
      "1  ssrn 2024\n",
      "1  v1 2024\n",
      "1  opth 2024\n",
      "1  v1 2024\n",
      "1  ssrn 2023\n",
      "1  j 2023\n",
      "1  preprints202409 2024\n",
      "1  bcp 2024\n",
      "1  v1 nan\n",
      "1  pnas 2024\n"
     ]
    },
    {
     "data": {
      "text/plain": [
       "211"
      ]
     },
     "execution_count": 18,
     "metadata": {},
     "output_type": "execute_result"
    }
   ],
   "source": [
    "years = []\n",
    "for _, row in people_measure_context.iterrows():\n",
    "    if row['Year'] in bad_ones:\n",
    "        print('1 ', row['time'], row['year_noarxiv'])\n",
    "        years.append(row['year_noarxiv'])\n",
    "    else:\n",
    "        years.append(row['Year'])\n",
    "        \n",
    "people_measure_context['Year'] = years\n",
    "\n",
    "\n",
    "\n",
    "\n",
    "people_measure_context.groupby('Year').size()\n",
    "len(people_measure_context)"
   ]
  },
  {
   "cell_type": "code",
   "execution_count": 19,
   "id": "90eecadd",
   "metadata": {},
   "outputs": [
    {
     "data": {
      "text/plain": [
       "210"
      ]
     },
     "execution_count": 19,
     "metadata": {},
     "output_type": "execute_result"
    }
   ],
   "source": [
    "people_measure_context.groupby('Year').size().sum()#.index"
   ]
  },
  {
   "cell_type": "code",
   "execution_count": 20,
   "id": "6d1977d1",
   "metadata": {},
   "outputs": [
    {
     "data": {
      "text/plain": [
       "array(['Fairness Identification of Large Language Models in Recommendation'],\n",
       "      dtype=object)"
      ]
     },
     "execution_count": 20,
     "metadata": {},
     "output_type": "execute_result"
    }
   ],
   "source": [
    "people_measure_context[people_measure_context['Year'].isna()]['paper'].values"
   ]
  },
  {
   "cell_type": "code",
   "execution_count": 23,
   "id": "d5bcaea6-121a-4d45-9b04-f7dcc04ee91d",
   "metadata": {
    "tags": []
   },
   "outputs": [],
   "source": [
    "people_measure_context['Conclusion on Representativeness_'] = [i.split(',')[0].split(';')[0] if type(i) == str\\\n",
    "                                               else i for i in people_measure_context[\"Conclusion on Representativeness?\"]]\n",
    "\n"
   ]
  },
  {
   "cell_type": "code",
   "execution_count": 24,
   "id": "5781e4a9-93b3-4876-a147-bd3ec7ce0907",
   "metadata": {},
   "outputs": [],
   "source": [
    "people_measure_context[\"Conclusion on Representativeness_\"][people_measure_context[\"Conclusion on Representativeness_\"]\\\n",
    "                                                            ==\"partial (hyperaccuracy bias)\"] = \"partial\""
   ]
  },
  {
   "cell_type": "code",
   "execution_count": 25,
   "id": "94fc2863-9e2c-4d79-b50a-cb7c3452d656",
   "metadata": {},
   "outputs": [],
   "source": [
    "people_measure_context[\"Conclusion on Representativeness_\"] = people_measure_context[\"Conclusion on Representativeness_\"].fillna(\"n/a\")\n",
    "people_measure_context[\"Conclusion on Representativeness_\"] = [i if i not in [\"mixed\", \"partial \"] else \"partial\"\\\n",
    "                                               for i in people_measure_context[\"Conclusion on Representativeness_\"]]\n",
    "people_measure_context[\"Conclusion on Representativeness_\"] = [i if i not in [\"yes?\", \"what would be the representativeness?\"] else \"yes\"\\\n",
    "                                               for i in people_measure_context[\"Conclusion on Representativeness_\"]]\n",
    "people_measure_context[\"Conclusion on Representativeness_\"] = [i if i not in [\"no?\", \"no \"] else \"no\"\\\n",
    "                                               for i in people_measure_context[\"Conclusion on Representativeness_\"]]"
   ]
  },
  {
   "cell_type": "code",
   "execution_count": 26,
   "id": "fedaf8ab",
   "metadata": {},
   "outputs": [
    {
     "data": {
      "text/html": [
       "<div>\n",
       "<style scoped>\n",
       "    .dataframe tbody tr th:only-of-type {\n",
       "        vertical-align: middle;\n",
       "    }\n",
       "\n",
       "    .dataframe tbody tr th {\n",
       "        vertical-align: top;\n",
       "    }\n",
       "\n",
       "    .dataframe thead th {\n",
       "        text-align: right;\n",
       "    }\n",
       "</style>\n",
       "<table border=\"1\" class=\"dataframe\">\n",
       "  <thead>\n",
       "    <tr style=\"text-align: right;\">\n",
       "      <th></th>\n",
       "      <th>Year</th>\n",
       "      <th>Representative?</th>\n",
       "      <th>Count</th>\n",
       "    </tr>\n",
       "  </thead>\n",
       "  <tbody>\n",
       "    <tr>\n",
       "      <th>0</th>\n",
       "      <td>2019</td>\n",
       "      <td>no</td>\n",
       "      <td>1</td>\n",
       "    </tr>\n",
       "    <tr>\n",
       "      <th>0</th>\n",
       "      <td>2019</td>\n",
       "      <td>partial</td>\n",
       "      <td>0</td>\n",
       "    </tr>\n",
       "    <tr>\n",
       "      <th>1</th>\n",
       "      <td>2019</td>\n",
       "      <td>yes</td>\n",
       "      <td>0</td>\n",
       "    </tr>\n",
       "    <tr>\n",
       "      <th>2</th>\n",
       "      <td>2019</td>\n",
       "      <td>n/a</td>\n",
       "      <td>0</td>\n",
       "    </tr>\n",
       "    <tr>\n",
       "      <th>1</th>\n",
       "      <td>2022</td>\n",
       "      <td>no</td>\n",
       "      <td>1</td>\n",
       "    </tr>\n",
       "    <tr>\n",
       "      <th>2</th>\n",
       "      <td>2022</td>\n",
       "      <td>partial</td>\n",
       "      <td>4</td>\n",
       "    </tr>\n",
       "    <tr>\n",
       "      <th>3</th>\n",
       "      <td>2022</td>\n",
       "      <td>yes</td>\n",
       "      <td>6</td>\n",
       "    </tr>\n",
       "    <tr>\n",
       "      <th>3</th>\n",
       "      <td>2022</td>\n",
       "      <td>n/a</td>\n",
       "      <td>0</td>\n",
       "    </tr>\n",
       "    <tr>\n",
       "      <th>4</th>\n",
       "      <td>2023</td>\n",
       "      <td>n/a</td>\n",
       "      <td>2</td>\n",
       "    </tr>\n",
       "    <tr>\n",
       "      <th>5</th>\n",
       "      <td>2023</td>\n",
       "      <td>no</td>\n",
       "      <td>20</td>\n",
       "    </tr>\n",
       "    <tr>\n",
       "      <th>6</th>\n",
       "      <td>2023</td>\n",
       "      <td>partial</td>\n",
       "      <td>13</td>\n",
       "    </tr>\n",
       "    <tr>\n",
       "      <th>7</th>\n",
       "      <td>2023</td>\n",
       "      <td>yes</td>\n",
       "      <td>20</td>\n",
       "    </tr>\n",
       "    <tr>\n",
       "      <th>8</th>\n",
       "      <td>2024</td>\n",
       "      <td>n/a</td>\n",
       "      <td>9</td>\n",
       "    </tr>\n",
       "    <tr>\n",
       "      <th>9</th>\n",
       "      <td>2024</td>\n",
       "      <td>no</td>\n",
       "      <td>45</td>\n",
       "    </tr>\n",
       "    <tr>\n",
       "      <th>10</th>\n",
       "      <td>2024</td>\n",
       "      <td>partial</td>\n",
       "      <td>55</td>\n",
       "    </tr>\n",
       "    <tr>\n",
       "      <th>11</th>\n",
       "      <td>2024</td>\n",
       "      <td>yes</td>\n",
       "      <td>34</td>\n",
       "    </tr>\n",
       "  </tbody>\n",
       "</table>\n",
       "</div>"
      ],
      "text/plain": [
       "    Year Representative?  Count\n",
       "0   2019              no      1\n",
       "0   2019         partial      0\n",
       "1   2019             yes      0\n",
       "2   2019             n/a      0\n",
       "1   2022              no      1\n",
       "2   2022         partial      4\n",
       "3   2022             yes      6\n",
       "3   2022             n/a      0\n",
       "4   2023             n/a      2\n",
       "5   2023              no     20\n",
       "6   2023         partial     13\n",
       "7   2023             yes     20\n",
       "8   2024             n/a      9\n",
       "9   2024              no     45\n",
       "10  2024         partial     55\n",
       "11  2024             yes     34"
      ]
     },
     "execution_count": 26,
     "metadata": {},
     "output_type": "execute_result"
    }
   ],
   "source": [
    "toplot = pd.DataFrame(people_measure_context.groupby(['Year',\n",
    "                                                            'Conclusion on Representativeness_']).size()).reset_index()#.unstack()\n",
    "toplot.columns = ['Year', 'Representative?', 'Count']\n",
    "toplot\n",
    "# add zeros for categories and years without anything\n",
    "extra = pd.DataFrame([(\"2019\", \"partial\", 0), (\"2019\", \"yes\", 0),\n",
    "        (\"2019\", \"n/a\", 0), (\"2022\", \"n/a\", 0)], columns = toplot.columns)\n",
    "\n",
    "toplot = pd.concat([toplot, extra])\n",
    "toplot = toplot.sort_values('Year')\n",
    "toplot\n"
   ]
  },
  {
   "cell_type": "code",
   "execution_count": 27,
   "id": "0a8c5d47-be13-40b3-8cd4-0a2995452ddb",
   "metadata": {
    "scrolled": false
   },
   "outputs": [
    {
     "data": {
      "image/png": "[encoded data removed]",
      "text/plain": [
       "<Figure size 750x400 with 1 Axes>"
      ]
     },
     "metadata": {},
     "output_type": "display_data"
    }
   ],
   "source": [
    "\n",
    "fig, ax = plt.subplots(figsize = (7.5,4))\n",
    "# sns.pointplot(data=toplot, ax = ax, x=\"Year\", y=\"Count\", hue=\"Representative?\", \n",
    "#              color=[my_colors[\"y\"], my_colors[\"r\"], my_colors[\"b\"], my_colors[\"g\"]])\n",
    "\n",
    "color_map = ['r', 'g', 'b', 'y']\n",
    "markers = ['*', '>', 's', 'o']\n",
    "for n, rep in enumerate(['no', 'yes', 'partial', 'n/a']):\n",
    "    ax.plot(toplot[toplot['Representative?'] == rep]['Year'],\n",
    "            toplot[toplot['Representative?'] == rep]['Count'],\n",
    "            label = rep, color=my_colors[color_map[n]],\n",
    "            marker = markers[n], linewidth = 3)\n",
    "    \n",
    "ax.spines['right'].set_visible(False)\n",
    "ax.spines['top'].set_visible(False)\n",
    "ax.set_xticklabels(ax.get_xticklabels(), rotation=0) #, ha='right') \n",
    "ax.set_ylabel(\"# Papers\")\n",
    "ax.legend(title = \"Representative?\")\n",
    "plt.tight_layout()\n",
    "plt.savefig('../figures/temporal.pdf', dpi = 200)"
   ]
  },
  {
   "cell_type": "code",
   "execution_count": null,
   "id": "dfa018bb",
   "metadata": {},
   "outputs": [],
   "source": []
  }
 ],
 "metadata": {
  "kernelspec": {
   "display_name": "Python 3 (ipykernel)",
   "language": "python",
   "name": "python3"
  },
  "language_info": {
   "codemirror_mode": {
    "name": "ipython",
    "version": 3
   },
   "file_extension": ".py",
   "mimetype": "text/x-python",
   "name": "python",
   "nbconvert_exporter": "python",
   "pygments_lexer": "ipython3",
   "version": "3.11.5"
  }
 },
 "nbformat": 4,
 "nbformat_minor": 5
}
